{
 "cells": [
  {
   "cell_type": "code",
   "execution_count": 1,
   "id": "cf1e86f5",
   "metadata": {},
   "outputs": [],
   "source": [
    "import numpy as np\n",
    "from networkx.generators.random_graphs import erdos_renyi_graph\n",
    "import random"
   ]
  },
  {
   "cell_type": "markdown",
   "id": "1f52abf0",
   "metadata": {},
   "source": [
    "# Network parameters"
   ]
  },
  {
   "cell_type": "code",
   "execution_count": 2,
   "id": "5e3369d6",
   "metadata": {},
   "outputs": [],
   "source": [
    "n=5 #Prime router number\n",
    "m=3 #shortest path number\n",
    "av_weight=10\n",
    "var_weight=3\n",
    "N=10 #regular router number\n",
    "prime_router_factor=10\n",
    "\n",
    "file_name='full_graph_{}_{}.txt'.format(n,N)\n",
    "file_name_shortest_path='full_graph_shortest_path_{}_{}.txt'.format(n,N)\n",
    "file_name_prime_routers_shortest_path='full_graph_prime_routers_shortest_path_{}_{}.txt'.format(n,N)\n",
    "file_name_prime_graph='prime_graph_{}_{}.txt'.format(n,N)"
   ]
  },
  {
   "cell_type": "markdown",
   "id": "8af00317",
   "metadata": {},
   "source": [
    "# Graph generation"
   ]
  },
  {
   "cell_type": "code",
   "execution_count": 3,
   "id": "b16a81e4",
   "metadata": {
    "scrolled": true
   },
   "outputs": [],
   "source": [
    "p = 0.5\n",
    "g = erdos_renyi_graph(n+N, p)"
   ]
  },
  {
   "cell_type": "code",
   "execution_count": 4,
   "id": "2798be3b",
   "metadata": {},
   "outputs": [
    {
     "name": "stdout",
     "output_type": "stream",
     "text": [
      "[0, 1, 2, 3, 4, 5, 6, 7, 8, 9, 10, 11, 12, 13, 14]\n"
     ]
    }
   ],
   "source": [
    "print(g.nodes)"
   ]
  },
  {
   "cell_type": "code",
   "execution_count": 5,
   "id": "fa951866",
   "metadata": {
    "scrolled": false
   },
   "outputs": [
    {
     "name": "stdout",
     "output_type": "stream",
     "text": [
      "[(0, 1), (0, 3), (0, 8), (0, 12), (0, 13), (0, 14), (1, 2), (1, 3), (1, 5), (1, 9), (1, 13), (2, 3), (2, 4), (2, 6), (2, 8), (2, 12), (3, 5), (3, 6), (3, 7), (3, 8), (3, 10), (3, 11), (3, 12), (3, 14), (4, 6), (4, 7), (4, 10), (4, 13), (4, 14), (5, 6), (5, 9), (5, 10), (5, 12), (6, 8), (6, 9), (6, 10), (6, 13), (6, 14), (7, 8), (7, 10), (7, 13), (8, 11), (9, 12), (9, 13), (9, 14), (10, 12), (10, 14), (12, 14)]\n"
     ]
    }
   ],
   "source": [
    "print(g.edges)"
   ]
  },
  {
   "cell_type": "markdown",
   "id": "b3468ff9",
   "metadata": {},
   "source": [
    "# Saving clustering graph to file"
   ]
  },
  {
   "cell_type": "code",
   "execution_count": 7,
   "id": "213de6ac",
   "metadata": {},
   "outputs": [],
   "source": [
    "edges=[]"
   ]
  },
  {
   "cell_type": "code",
   "execution_count": 8,
   "id": "582e8adf",
   "metadata": {},
   "outputs": [],
   "source": [
    "with open('test/'+file_name, 'w') as f:\n",
    "    \n",
    "    f.write('{}\\n\\n'.format(n+N))\n",
    "    #f.write('\\n')\n",
    "    for e in g.edges:\n",
    "        x,y=e\n",
    "        if x>N and y>N:\n",
    "            weight = random.uniform(0,1)*prime_router_factor\n",
    "        else:\n",
    "            weight = random.uniform(0,1) #np.random.normal(av_weight,var_weight)\n",
    "            \n",
    "        edges.append([x+1,y+1,weight])\n",
    "            \n",
    "        f.write(str(x+1)+' '+str(y+1)+' '+str(weight)+'\\n')\n",
    "        f.write(str(y+1)+' '+str(x+1)+' '+str(weight)+'\\n')\n",
    "        \n",
    "    \n",
    "    f.close()"
   ]
  },
  {
   "cell_type": "markdown",
   "id": "3fc89236",
   "metadata": {},
   "source": [
    "# Load the graph"
   ]
  },
  {
   "cell_type": "code",
   "execution_count": 9,
   "id": "ffec56ac",
   "metadata": {},
   "outputs": [],
   "source": [
    "from yen import YenAlgorithm\n",
    "import tools"
   ]
  },
  {
   "cell_type": "code",
   "execution_count": 10,
   "id": "4344a917",
   "metadata": {},
   "outputs": [],
   "source": [
    "graph, num_nodes, num_arcs, graph_imm_path = tools.getGraphStructure(file_name) #test_10.txt"
   ]
  },
  {
   "cell_type": "code",
   "execution_count": 11,
   "id": "63c36093",
   "metadata": {},
   "outputs": [
    {
     "name": "stdout",
     "output_type": "stream",
     "text": [
      "[[inf, 0.27388121794574205, inf, 0.9297995411253848, inf, inf, inf, inf, 0.42684143315898515, inf, inf, inf, 0.6777379698518199, 0.02811136711949469, 0.7294319724757488], [0.27388121794574205, inf, 0.3813798297243274, 0.4572390528166248, inf, 0.2853353916641106, inf, inf, inf, 0.5745566373491438, inf, inf, inf, 0.9714654589731156, inf], [inf, 0.3813798297243274, inf, 0.27257067225002407, 0.30426420710420987, inf, 0.3013847658731985, inf, 0.8158488883740288, inf, inf, inf, 0.6446306725579304, inf, inf], [0.9297995411253848, 0.4572390528166248, 0.27257067225002407, inf, inf, 0.785317216677947, 0.20950647300270253, 0.12493527006049132, 0.169819945335554, inf, 0.5409201807756078, 0.8141774417293519, 0.05604374965615855, inf, 0.5432366876022547], [inf, inf, 0.30426420710420987, inf, inf, inf, 0.7321631102348295, 0.020653668789308632, inf, inf, 0.33287623020016743, inf, inf, 0.7066436890622895, 0.4624944647501814], [inf, 0.2853353916641106, inf, 0.785317216677947, inf, inf, 0.8065096787147614, inf, inf, 0.10458271827936205, 0.9345611127275167, inf, 0.2001409245775695, inf, inf], [inf, inf, 0.3013847658731985, 0.20950647300270253, 0.7321631102348295, 0.8065096787147614, inf, inf, 0.7311634612405663, 0.349654163683795, 0.7991873215304884, inf, inf, 0.5143271826047084, 0.26232586338276165], [inf, inf, inf, 0.12493527006049132, 0.020653668789308632, inf, inf, inf, 0.099318028336017, inf, 0.7809244011924186, inf, inf, 0.7326072051441685, inf], [0.42684143315898515, inf, 0.8158488883740288, 0.169819945335554, inf, inf, 0.7311634612405663, 0.099318028336017, inf, inf, inf, 0.22351828082009773, inf, inf, inf], [inf, 0.5745566373491438, inf, inf, inf, 0.10458271827936205, 0.349654163683795, inf, inf, inf, inf, inf, 0.7711539172361289, 0.3320867370023356, 0.8337434091587353], [inf, inf, inf, 0.5409201807756078, 0.33287623020016743, 0.9345611127275167, 0.7991873215304884, 0.7809244011924186, inf, inf, inf, inf, 0.013694607928007918, inf, 0.5194405150488731], [inf, inf, inf, 0.8141774417293519, inf, inf, inf, inf, 0.22351828082009773, inf, inf, inf, inf, inf, inf], [0.6777379698518199, inf, 0.6446306725579304, 0.05604374965615855, inf, 0.2001409245775695, inf, inf, inf, 0.7711539172361289, 0.013694607928007918, inf, inf, inf, 0.012833365972547695], [0.02811136711949469, 0.9714654589731156, inf, inf, 0.7066436890622895, inf, 0.5143271826047084, 0.7326072051441685, inf, 0.3320867370023356, inf, inf, inf, inf, inf], [0.7294319724757488, inf, inf, 0.5432366876022547, 0.4624944647501814, inf, 0.26232586338276165, inf, inf, 0.8337434091587353, 0.5194405150488731, inf, 0.012833365972547695, inf, inf]]\n"
     ]
    }
   ],
   "source": [
    "print(graph)"
   ]
  },
  {
   "cell_type": "markdown",
   "id": "d0c3425f",
   "metadata": {},
   "source": [
    "# Generation of shortest path between very pair of vertices"
   ]
  },
  {
   "cell_type": "code",
   "execution_count": 12,
   "id": "15f683b3",
   "metadata": {},
   "outputs": [],
   "source": [
    "with open('test/'+file_name_shortest_path, 'w') as f:\n",
    "    \n",
    "    f.write('{} {}\\n'.format(n,N))\n",
    "\n",
    "    for i in range(n+N):\n",
    "        for j in range(n+N):\n",
    "            if i != j:\n",
    "                shortest_path_tree = YenAlgorithm(graph, i, j, 1)\n",
    "                #print(i,j,shortest_path_tree,'\\n')\n",
    "                #tools.printPaths(shortest_path_tree)\n",
    "                \n",
    "                if not (i==0 and j==1):\n",
    "                    f.write('\\n')\n",
    "                    \n",
    "                f.write(str(i+1)+' '+str(j+1)+'\\n')\n",
    "                \n",
    "                for el in shortest_path_tree:\n",
    "                    f.write(str(el['cost'])+'\\n')\n",
    "                    #print(el['path'])\n",
    "                    #print('getCompletePath',tools.getCompletePath(el))\n",
    "                    #path=tools.getCompletePath(el['path'])\n",
    "                    #f.write(' '.join(map(str,el['path']))+'\\n')\n",
    "                    path=tools.getCompletePath(el)\n",
    "                    path = [str(e+1) for e in path]\n",
    "\n",
    "                    f.write(' '.join(path)+'\\n')\n",
    "                    \n",
    "    f.close()\n",
    "    "
   ]
  },
  {
   "cell_type": "markdown",
   "id": "a9e5e478",
   "metadata": {},
   "source": [
    "# Generating prime graph"
   ]
  },
  {
   "cell_type": "code",
   "execution_count": 13,
   "id": "9c2d4e50",
   "metadata": {},
   "outputs": [],
   "source": [
    "with open('test/'+file_name_prime_graph, 'w') as f:\n",
    "    f.write(str(N)+'\\n\\n')\n",
    "\n",
    "    for e in edges:\n",
    "        x,y,weight=e\n",
    "        \n",
    "        if x>N and y>N:\n",
    "            \n",
    "            f.write(str(x+1)+' '+str(y+1)+' '+str(weight)+'\\n')\n",
    "            f.write(str(y+1)+' '+str(x+1)+' '+str(weight)+'\\n')\n",
    "            "
   ]
  },
  {
   "cell_type": "markdown",
   "id": "946caa7f",
   "metadata": {},
   "source": [
    "# Loading prime graph"
   ]
  },
  {
   "cell_type": "code",
   "execution_count": 14,
   "id": "c8d874d7",
   "metadata": {},
   "outputs": [
    {
     "ename": "IndexError",
     "evalue": "list index out of range",
     "output_type": "error",
     "traceback": [
      "\u001b[1;31m---------------------------------------------------------------------------\u001b[0m",
      "\u001b[1;31mIndexError\u001b[0m                                Traceback (most recent call last)",
      "\u001b[1;32m<ipython-input-14-2b71a415419a>\u001b[0m in \u001b[0;36m<module>\u001b[1;34m\u001b[0m\n\u001b[1;32m----> 1\u001b[1;33m \u001b[0mprime_graph\u001b[0m\u001b[1;33m,\u001b[0m \u001b[0mnum_nodes\u001b[0m\u001b[1;33m,\u001b[0m \u001b[0mnum_arcs\u001b[0m\u001b[1;33m,\u001b[0m \u001b[0mgraph_imm_path\u001b[0m \u001b[1;33m=\u001b[0m \u001b[0mtools\u001b[0m\u001b[1;33m.\u001b[0m\u001b[0mgetGraphStructure\u001b[0m\u001b[1;33m(\u001b[0m\u001b[0mfile_name_prime_graph\u001b[0m\u001b[1;33m)\u001b[0m\u001b[1;33m\u001b[0m\u001b[1;33m\u001b[0m\u001b[0m\n\u001b[0m",
      "\u001b[1;32mD:\\Global-Internet-traffic-optimization\\tools.py\u001b[0m in \u001b[0;36mgetGraphStructure\u001b[1;34m(file_name)\u001b[0m\n\u001b[0;32m     65\u001b[0m         \u001b[0mcost\u001b[0m \u001b[1;33m=\u001b[0m \u001b[0mfloat\u001b[0m\u001b[1;33m(\u001b[0m\u001b[0mcost\u001b[0m\u001b[1;33m)\u001b[0m\u001b[1;33m\u001b[0m\u001b[1;33m\u001b[0m\u001b[0m\n\u001b[0;32m     66\u001b[0m \u001b[1;33m\u001b[0m\u001b[0m\n\u001b[1;32m---> 67\u001b[1;33m         \u001b[0mgraph_matrix\u001b[0m\u001b[1;33m[\u001b[0m\u001b[0mhead\u001b[0m\u001b[1;33m]\u001b[0m\u001b[1;33m[\u001b[0m\u001b[0mtail\u001b[0m\u001b[1;33m]\u001b[0m \u001b[1;33m=\u001b[0m \u001b[0mcost\u001b[0m\u001b[1;33m\u001b[0m\u001b[1;33m\u001b[0m\u001b[0m\n\u001b[0m\u001b[0;32m     68\u001b[0m \u001b[1;33m\u001b[0m\u001b[0m\n\u001b[0;32m     69\u001b[0m     \u001b[0mgraph_imm\u001b[0m\u001b[1;33m.\u001b[0m\u001b[0mwrite\u001b[0m\u001b[1;33m(\u001b[0m\u001b[1;34m'\\n}'\u001b[0m\u001b[1;33m)\u001b[0m\u001b[1;33m\u001b[0m\u001b[1;33m\u001b[0m\u001b[0m\n",
      "\u001b[1;31mIndexError\u001b[0m: list index out of range"
     ]
    }
   ],
   "source": [
    "prime_graph, num_nodes, num_arcs, graph_imm_path = tools.getGraphStructure(file_name_prime_graph)"
   ]
  },
  {
   "cell_type": "code",
   "execution_count": null,
   "id": "15ba88d3",
   "metadata": {},
   "outputs": [],
   "source": [
    "with open('test/'+file_name_prime_routers_shortest_path, 'w') as f:\n",
    "    \n",
    "    f.write(str(N)+'\\n\\n')\n",
    "\n",
    "    for i in range(1,N+1):\n",
    "        for j in range(1,N+1):\n",
    "            if i != j:\n",
    "                shortest_path_tree = YenAlgorithm(prime_graph, i, j, m)\n",
    "                #print(i,j,shortest_path_tree,'\\n')\n",
    "                #tools.printPaths(shortest_path_tree)\n",
    "                \n",
    "                if not (i==0 and j==1):\n",
    "                    f.write('\\n')\n",
    "                    \n",
    "                f.write(str(i+1)+' '+str(j+1)+'\\n')\n",
    "                \n",
    "                for el in shortest_path_tree:\n",
    "                    f.write(str(el['cost'])+'\\n')\n",
    "                    #print(el['path'])\n",
    "                    #print('getCompletePath',tools.getCompletePath(el))\n",
    "                    #path=tools.getCompletePath(el['path'])\n",
    "                    #f.write(' '.join(map(str,el['path']))+'\\n')\n",
    "                    path=tools.getCompletePath(el)\n",
    "                    path = [str(e+1) for e in path]\n",
    "\n",
    "                    f.write(' '.join(path)+'\\n')\n",
    "                    \n",
    "    f.close()\n",
    "    "
   ]
  },
  {
   "cell_type": "code",
   "execution_count": null,
   "id": "2cb4e245",
   "metadata": {},
   "outputs": [],
   "source": []
  },
  {
   "cell_type": "code",
   "execution_count": null,
   "id": "72abb15b",
   "metadata": {},
   "outputs": [],
   "source": []
  },
  {
   "cell_type": "code",
   "execution_count": null,
   "id": "98887ee2",
   "metadata": {},
   "outputs": [],
   "source": []
  }
 ],
 "metadata": {
  "kernelspec": {
   "display_name": "Python 3",
   "language": "python",
   "name": "python3"
  },
  "language_info": {
   "codemirror_mode": {
    "name": "ipython",
    "version": 3
   },
   "file_extension": ".py",
   "mimetype": "text/x-python",
   "name": "python",
   "nbconvert_exporter": "python",
   "pygments_lexer": "ipython3",
   "version": "3.7.10"
  }
 },
 "nbformat": 4,
 "nbformat_minor": 5
}
