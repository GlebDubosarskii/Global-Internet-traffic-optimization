{
 "cells": [
  {
   "cell_type": "code",
   "execution_count": null,
   "id": "b4966dd6",
   "metadata": {},
   "outputs": [],
   "source": []
  },
  {
   "cell_type": "code",
   "execution_count": null,
   "id": "f01d783f",
   "metadata": {},
   "outputs": [],
   "source": [
    "N=20 #router number\n",
    "m=3 #shortest path number\n",
    "sim_num=1\n",
    "memsize=10000 #in mb\n",
    "min_vert_degree=2 #min vertex degree\n",
    "router_rate_reduction=[0.2,0.5] #router max data rate reduction range in comparisson with the maximum demand from the links\n",
    "router_delay_coefficient=8 #defines delay time while the package passing through router\n",
    "link_delay_coefficient=4 #defines delay time while the package passing through link\n",
    "\n",
    "file_name_full_graph='full_graph_{}_{}.txt'.format(N,sim_num)\n",
    "file_network='network_{}_{}.txt'.format(N,sim_num)\n",
    "\n",
    "file_name_full_graph_optimal_path='full_graph_and_prime_shortest_path_{}_{}.txt'.format(N,sim_num)\n",
    "file_name_cluster_graph='cluster_graph_{}_{}.txt'.format(N,sim_num)\n",
    "file_name_shortest_path='full_graph_shortest_path_{}_{}.txt'.format(N,sim_num)\n",
    "file_name_prime_routers_shortest_path='prime_graph_shortest_path_{}_{}.txt'.format(N,sim_num)\n",
    "file_name_prime_graph='prime_graph_{}_{}.txt'.format(N,sim_num)"
   ]
  },
  {
   "cell_type": "markdown",
   "id": "0ec0a660",
   "metadata": {},
   "source": [
    "# Reading graph"
   ]
  },
  {
   "cell_type": "code",
   "execution_count": null,
   "id": "e45163fe",
   "metadata": {},
   "outputs": [],
   "source": [
    "with open('test/'+file_name_full_graph, 'r') as f:\n",
    "    \n",
    "    n=int(f.readline())\n",
    "    next(f)\n",
    "    \n",
    "    #f.write('\\n')\n",
    "    for line in f:\n",
    "        #print('line',line)\n",
    "        x,y,w=map(float,line.split())\n",
    "        x,y=int(x),int(y)\n",
    "        #print(x,y,w)\n",
    "        \n",
    "\n",
    "            \n",
    "        con[x].append((y,w))\n",
    "        #con[y].append((x,w))\n",
    "        edges.add((x,y,w))\n",
    "\n",
    "           \n",
    "    f.close()"
   ]
  },
  {
   "cell_type": "code",
   "execution_count": null,
   "id": "a98b4d83",
   "metadata": {},
   "outputs": [],
   "source": []
  },
  {
   "cell_type": "code",
   "execution_count": null,
   "id": "000e5ec2",
   "metadata": {},
   "outputs": [],
   "source": []
  },
  {
   "cell_type": "code",
   "execution_count": null,
   "id": "aff7041d",
   "metadata": {},
   "outputs": [],
   "source": []
  },
  {
   "cell_type": "code",
   "execution_count": null,
   "id": "29c621b6",
   "metadata": {},
   "outputs": [],
   "source": []
  },
  {
   "cell_type": "code",
   "execution_count": null,
   "id": "3d5e1a66",
   "metadata": {},
   "outputs": [],
   "source": []
  },
  {
   "cell_type": "code",
   "execution_count": null,
   "id": "d9bb16f0",
   "metadata": {},
   "outputs": [],
   "source": []
  },
  {
   "cell_type": "code",
   "execution_count": null,
   "id": "2da35775",
   "metadata": {},
   "outputs": [],
   "source": []
  },
  {
   "cell_type": "code",
   "execution_count": null,
   "id": "6753129f",
   "metadata": {},
   "outputs": [],
   "source": []
  }
 ],
 "metadata": {
  "kernelspec": {
   "display_name": "Python 3",
   "language": "python",
   "name": "python3"
  },
  "language_info": {
   "codemirror_mode": {
    "name": "ipython",
    "version": 3
   },
   "file_extension": ".py",
   "mimetype": "text/x-python",
   "name": "python",
   "nbconvert_exporter": "python",
   "pygments_lexer": "ipython3",
   "version": "3.7.10"
  }
 },
 "nbformat": 4,
 "nbformat_minor": 5
}
