{
 "cells": [
  {
   "cell_type": "code",
   "execution_count": 1,
   "id": "cf1e86f5",
   "metadata": {},
   "outputs": [],
   "source": [
    "import numpy as np\n",
    "import networkx as nx\n",
    "import random\n",
    "from networkx.generators.random_graphs import erdos_renyi_graph\n",
    "from tools import *"
   ]
  },
  {
   "cell_type": "markdown",
   "id": "1f52abf0",
   "metadata": {},
   "source": [
    "# Network parameters"
   ]
  },
  {
   "cell_type": "code",
   "execution_count": 2,
   "id": "5e3369d6",
   "metadata": {},
   "outputs": [],
   "source": [
    "N=20 #router number\n",
    "m=3 #shortest path number\n",
    "sim_num=1\n",
    "memsize=10000 #in mb\n",
    "min_vert_degree=1 #min vertex degree\n",
    "router_rate_reduction=[0.2,0.5] #router max data rate reduction range in comparison with the maximum demand from the links\n",
    "router_delay_coefficient=8 #defines delay time while the package passing through router\n",
    "link_delay_coefficient=4 #defines delay time while the package passing through link\n",
    "\n",
    "file_name_full_graph='full_graph_{}_{}.txt'.format(N,sim_num)\n",
    "file_network='network_{}_{}.txt'.format(N,sim_num)\n",
    "\n",
    "file_name_full_graph_optimal_path='full_graph_and_prime_shortest_path_{}_{}.txt'.format(N,sim_num)\n",
    "file_name_cluster_graph='cluster_graph_{}_{}.txt'.format(N,sim_num)\n",
    "file_name_shortest_path='full_graph_shortest_path_{}_{}.txt'.format(N,sim_num)\n",
    "file_name_prime_routers_shortest_path='prime_graph_shortest_path_{}_{}.txt'.format(N,sim_num)\n",
    "file_name_prime_graph='prime_graph_{}_{}.txt'.format(N,sim_num)"
   ]
  },
  {
   "cell_type": "code",
   "execution_count": 3,
   "id": "8dd23a2e",
   "metadata": {},
   "outputs": [],
   "source": [
    "Umax=[100000, 150000, 200000] #link maximum data rate\n",
    "prob=[0.5,0.3,0.2] #probabilities of link maximum data rates"
   ]
  },
  {
   "cell_type": "markdown",
   "id": "8af00317",
   "metadata": {},
   "source": [
    "# Graph generation"
   ]
  },
  {
   "cell_type": "code",
   "execution_count": 4,
   "id": "45538d8d",
   "metadata": {},
   "outputs": [],
   "source": [
    "p=32*2/(20*19) #ARPANET's edge probability"
   ]
  },
  {
   "cell_type": "code",
   "execution_count": 5,
   "id": "fcd5d6d8",
   "metadata": {
    "scrolled": true
   },
   "outputs": [
    {
     "data": {
      "text/plain": [
       "0.16842105263157894"
      ]
     },
     "execution_count": 5,
     "metadata": {},
     "output_type": "execute_result"
    }
   ],
   "source": [
    "p"
   ]
  },
  {
   "cell_type": "code",
   "execution_count": 6,
   "id": "b16a81e4",
   "metadata": {
    "scrolled": true
   },
   "outputs": [],
   "source": [
    "while True: #generating connected graph\n",
    "    g = erdos_renyi_graph(N, p)\n",
    "    d=dict(g.degree)\n",
    "    \n",
    "    min_degree=min(d.items(), key=lambda x: x[1])[1]\n",
    "    \n",
    "    if min_degree>=min_vert_degree and nx.is_connected(g):\n",
    "        break\n",
    "    "
   ]
  },
  {
   "cell_type": "code",
   "execution_count": 7,
   "id": "2798be3b",
   "metadata": {},
   "outputs": [
    {
     "name": "stdout",
     "output_type": "stream",
     "text": [
      "vertices [0, 1, 2, 3, 4, 5, 6, 7, 8, 9, 10, 11, 12, 13, 14, 15, 16, 17, 18, 19]\n"
     ]
    }
   ],
   "source": [
    "print('vertices', g.nodes) "
   ]
  },
  {
   "cell_type": "code",
   "execution_count": 8,
   "id": "fa951866",
   "metadata": {
    "scrolled": true
   },
   "outputs": [
    {
     "name": "stdout",
     "output_type": "stream",
     "text": [
      "edges [(0, 1), (0, 3), (0, 7), (1, 4), (1, 11), (1, 13), (1, 17), (2, 4), (2, 9), (3, 6), (3, 15), (3, 17), (4, 9), (4, 18), (5, 11), (6, 8), (6, 10), (6, 17), (7, 17), (8, 17), (9, 10), (9, 14), (9, 16), (10, 13), (10, 14), (10, 17), (10, 18), (12, 14), (12, 15), (12, 16), (12, 18), (13, 14), (15, 16), (16, 19)]\n"
     ]
    }
   ],
   "source": [
    "print('edges', g.edges) "
   ]
  },
  {
   "cell_type": "code",
   "execution_count": 9,
   "id": "7f1b6e84",
   "metadata": {},
   "outputs": [
    {
     "name": "stdout",
     "output_type": "stream",
     "text": [
      "min vertex degree 1\n"
     ]
    }
   ],
   "source": [
    "d=dict(g.degree)\n",
    "    \n",
    "min_degree=min(d.items(), key=lambda x: x[1])\n",
    "\n",
    "print('min vertex degree', min_degree[1])"
   ]
  },
  {
   "cell_type": "markdown",
   "id": "521544f0",
   "metadata": {},
   "source": [
    "## Generating network "
   ]
  },
  {
   "cell_type": "code",
   "execution_count": 10,
   "id": "678f7aa2",
   "metadata": {},
   "outputs": [],
   "source": [
    "U={} \n",
    "\n",
    "for e in g.edges: \n",
    "    x,y=e\n",
    "    U[e]=np.random.choice(Umax, p=prob) #generating max link data rate\n",
    "    U[(y,x)]=U[e]"
   ]
  },
  {
   "cell_type": "code",
   "execution_count": 11,
   "id": "d260049f",
   "metadata": {
    "scrolled": true
   },
   "outputs": [
    {
     "name": "stdout",
     "output_type": "stream",
     "text": [
      "link capacities {(0, 1): 150000, (1, 0): 150000, (0, 3): 150000, (3, 0): 150000, (0, 7): 150000, (7, 0): 150000, (1, 4): 200000, (4, 1): 200000, (1, 11): 100000, (11, 1): 100000, (1, 13): 150000, (13, 1): 150000, (1, 17): 150000, (17, 1): 150000, (2, 4): 200000, (4, 2): 200000, (2, 9): 100000, (9, 2): 100000, (3, 6): 100000, (6, 3): 100000, (3, 15): 100000, (15, 3): 100000, (3, 17): 100000, (17, 3): 100000, (4, 9): 150000, (9, 4): 150000, (4, 18): 100000, (18, 4): 100000, (5, 11): 150000, (11, 5): 150000, (6, 8): 100000, (8, 6): 100000, (6, 10): 100000, (10, 6): 100000, (6, 17): 100000, (17, 6): 100000, (7, 17): 200000, (17, 7): 200000, (8, 17): 100000, (17, 8): 100000, (9, 10): 100000, (10, 9): 100000, (9, 14): 100000, (14, 9): 100000, (9, 16): 100000, (16, 9): 100000, (10, 13): 100000, (13, 10): 100000, (10, 14): 200000, (14, 10): 200000, (10, 17): 200000, (17, 10): 200000, (10, 18): 200000, (18, 10): 200000, (12, 14): 100000, (14, 12): 100000, (12, 15): 150000, (15, 12): 150000, (12, 16): 100000, (16, 12): 100000, (12, 18): 200000, (18, 12): 200000, (13, 14): 200000, (14, 13): 200000, (15, 16): 150000, (16, 15): 150000, (16, 19): 100000, (19, 16): 100000}\n"
     ]
    }
   ],
   "source": [
    "print('link capacities', U)"
   ]
  },
  {
   "cell_type": "code",
   "execution_count": 12,
   "id": "8329109d",
   "metadata": {},
   "outputs": [],
   "source": [
    "router_data_rate=[0]*N\n",
    "\n",
    "for e in g.edges: \n",
    "    x,y=e\n",
    "    router_data_rate[x]+=U[(y,x)]\n",
    "    router_data_rate[y]+=U[(x,y)]\n",
    "    \n",
    "\n",
    "reduction=np.random.uniform(low=router_rate_reduction[0], high=router_rate_reduction[1], size=(N,))\n",
    "\n",
    "router_data_rate*=reduction\n",
    "\n",
    "router_data_rate=np.maximum(1, router_data_rate//10000)*10000 #making them a multiple of 10000"
   ]
  },
  {
   "cell_type": "code",
   "execution_count": 13,
   "id": "e9494710",
   "metadata": {
    "scrolled": false
   },
   "outputs": [
    {
     "name": "stdout",
     "output_type": "stream",
     "text": [
      "router data rates [210000. 320000. 130000. 150000. 250000.  50000. 150000. 100000.  40000.\n",
      " 260000. 240000.  50000. 200000. 120000. 140000. 130000. 190000. 410000.\n",
      " 100000.  20000.]\n"
     ]
    }
   ],
   "source": [
    "print('router data rates', router_data_rate)"
   ]
  },
  {
   "cell_type": "code",
   "execution_count": 14,
   "id": "98d0effe",
   "metadata": {},
   "outputs": [],
   "source": [
    "weight={}\n",
    "const=1e6\n",
    "\n",
    "for e in g.edges: \n",
    "    x,y=e\n",
    "    weight[(x,y)]=link_delay_coefficient/U[(x,y)] + router_delay_coefficient/router_data_rate[y]   \n",
    "    weight[(y,x)]=link_delay_coefficient/U[(y,x)] + router_delay_coefficient/router_data_rate[x] "
   ]
  },
  {
   "cell_type": "code",
   "execution_count": 15,
   "id": "a1cf0b49",
   "metadata": {
    "scrolled": true
   },
   "outputs": [
    {
     "data": {
      "text/plain": [
       "{(0, 1): 5.166666666666667e-05,\n",
       " (1, 0): 6.476190476190476e-05,\n",
       " (0, 3): 7.999999999999999e-05,\n",
       " (3, 0): 6.476190476190476e-05,\n",
       " (0, 7): 0.00010666666666666667,\n",
       " (7, 0): 6.476190476190476e-05,\n",
       " (1, 4): 5.2000000000000004e-05,\n",
       " (4, 1): 4.5e-05,\n",
       " (1, 11): 0.0002,\n",
       " (11, 1): 6.500000000000001e-05,\n",
       " (1, 13): 9.333333333333334e-05,\n",
       " (13, 1): 5.166666666666667e-05,\n",
       " (1, 17): 4.617886178861789e-05,\n",
       " (17, 1): 5.166666666666667e-05,\n",
       " (2, 4): 5.2000000000000004e-05,\n",
       " (4, 2): 8.153846153846153e-05,\n",
       " (2, 9): 7.076923076923078e-05,\n",
       " (9, 2): 0.00010153846153846153,\n",
       " (3, 6): 9.333333333333334e-05,\n",
       " (6, 3): 9.333333333333334e-05,\n",
       " (3, 15): 0.00010153846153846153,\n",
       " (15, 3): 9.333333333333334e-05,\n",
       " (3, 17): 5.9512195121951225e-05,\n",
       " (17, 3): 9.333333333333334e-05,\n",
       " (4, 9): 5.7435897435897434e-05,\n",
       " (9, 4): 5.8666666666666665e-05,\n",
       " (4, 18): 0.00012000000000000002,\n",
       " (18, 4): 7.2e-05,\n",
       " (5, 11): 0.0001866666666666667,\n",
       " (11, 5): 0.0001866666666666667,\n",
       " (6, 8): 0.00024,\n",
       " (8, 6): 9.333333333333334e-05,\n",
       " (6, 10): 7.333333333333334e-05,\n",
       " (10, 6): 9.333333333333334e-05,\n",
       " (6, 17): 5.9512195121951225e-05,\n",
       " (17, 6): 9.333333333333334e-05,\n",
       " (7, 17): 3.951219512195122e-05,\n",
       " (17, 7): 0.0001,\n",
       " (8, 17): 5.9512195121951225e-05,\n",
       " (17, 8): 0.00024,\n",
       " (9, 10): 7.333333333333334e-05,\n",
       " (10, 9): 7.076923076923078e-05,\n",
       " (9, 14): 9.714285714285714e-05,\n",
       " (14, 9): 7.076923076923078e-05,\n",
       " (9, 16): 8.210526315789474e-05,\n",
       " (16, 9): 7.076923076923078e-05,\n",
       " (10, 13): 0.00010666666666666667,\n",
       " (13, 10): 7.333333333333334e-05,\n",
       " (10, 14): 7.714285714285714e-05,\n",
       " (14, 10): 5.333333333333333e-05,\n",
       " (10, 17): 3.951219512195122e-05,\n",
       " (17, 10): 5.333333333333333e-05,\n",
       " (10, 18): 0.0001,\n",
       " (18, 10): 5.333333333333333e-05,\n",
       " (12, 14): 9.714285714285714e-05,\n",
       " (14, 12): 8e-05,\n",
       " (12, 15): 8.820512820512821e-05,\n",
       " (15, 12): 6.666666666666667e-05,\n",
       " (12, 16): 8.210526315789474e-05,\n",
       " (16, 12): 8e-05,\n",
       " (12, 18): 0.0001,\n",
       " (18, 12): 6.000000000000001e-05,\n",
       " (13, 14): 7.714285714285714e-05,\n",
       " (14, 13): 8.666666666666667e-05,\n",
       " (15, 16): 6.87719298245614e-05,\n",
       " (16, 15): 8.820512820512821e-05,\n",
       " (16, 19): 0.00044,\n",
       " (19, 16): 8.210526315789474e-05}"
      ]
     },
     "execution_count": 15,
     "metadata": {},
     "output_type": "execute_result"
    }
   ],
   "source": [
    "weight"
   ]
  },
  {
   "cell_type": "markdown",
   "id": "b3468ff9",
   "metadata": {},
   "source": [
    "# Saving graph to a file"
   ]
  },
  {
   "cell_type": "code",
   "execution_count": 16,
   "id": "7003ce3e",
   "metadata": {},
   "outputs": [],
   "source": [
    "WriteGraph(file_name_full_graph, N, g.edges, weight)"
   ]
  },
  {
   "cell_type": "markdown",
   "id": "d087161c",
   "metadata": {},
   "source": [
    "# Saving network to file"
   ]
  },
  {
   "cell_type": "code",
   "execution_count": 17,
   "id": "59840514",
   "metadata": {},
   "outputs": [],
   "source": [
    "WriteNetwork(file_network, N, g.edges, U, router_data_rate)"
   ]
  },
  {
   "cell_type": "markdown",
   "id": "4e810235",
   "metadata": {},
   "source": [
    "# Drawing the network"
   ]
  },
  {
   "cell_type": "code",
   "execution_count": 18,
   "id": "9e8e67a4",
   "metadata": {},
   "outputs": [],
   "source": [
    "mapping={}\n",
    "\n",
    "for i in range(N):\n",
    "    mapping[i]=i+1 #shifting labels by one so they start from 1"
   ]
  },
  {
   "cell_type": "code",
   "execution_count": 19,
   "id": "f6439bca",
   "metadata": {},
   "outputs": [],
   "source": [
    "g = nx.relabel_nodes(g, mapping, copy=False)"
   ]
  },
  {
   "cell_type": "code",
   "execution_count": 20,
   "id": "c2f86f8e",
   "metadata": {
    "scrolled": true
   },
   "outputs": [
    {
     "data": {
      "image/png": "[encoded data removed]",
      "text/plain": [
       "<Figure size 432x288 with 1 Axes>"
      ]
     },
     "metadata": {},
     "output_type": "display_data"
    }
   ],
   "source": [
    "nx.draw(g, with_labels=True)"
   ]
  }
 ],
 "metadata": {
  "kernelspec": {
   "display_name": "Python 3",
   "language": "python",
   "name": "python3"
  },
  "language_info": {
   "codemirror_mode": {
    "name": "ipython",
    "version": 3
   },
   "file_extension": ".py",
   "mimetype": "text/x-python",
   "name": "python",
   "nbconvert_exporter": "python",
   "pygments_lexer": "ipython3",
   "version": "3.7.10"
  }
 },
 "nbformat": 4,
 "nbformat_minor": 5
}
