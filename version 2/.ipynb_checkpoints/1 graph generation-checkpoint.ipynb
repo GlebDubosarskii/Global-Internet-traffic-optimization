{
 "cells": [
  {
   "cell_type": "code",
   "execution_count": 1,
   "id": "cf1e86f5",
   "metadata": {},
   "outputs": [],
   "source": [
    "import numpy as np\n",
    "import networkx as nx\n",
    "import random\n",
    "from networkx.generators.random_graphs import erdos_renyi_graph"
   ]
  },
  {
   "cell_type": "markdown",
   "id": "1f52abf0",
   "metadata": {},
   "source": [
    "# Network parameters"
   ]
  },
  {
   "cell_type": "code",
   "execution_count": 2,
   "id": "5e3369d6",
   "metadata": {},
   "outputs": [],
   "source": [
    "N=20 #router number\n",
    "m=3 #shortest path number\n",
    "sim_num=1\n",
    "memsize=10000 #in mb\n",
    "min_vert_degree=2 #min vertex degree\n",
    "router_rate_reduction=[0.2,0.5] #router max data rate reduction range in comparisson with the maximum demand from the links\n",
    "router_delay_coefficient=8 #defines delay time while the package passing through router\n",
    "link_delay_coefficient=4 #defines delay time while the package passing through link\n",
    "\n",
    "file_name_full_graph='full_graph_{}_{}.txt'.format(N,sim_num)\n",
    "file_name_full_graph_optimal_path='full_graph_and_prime_shortest_path_{}_{}.txt'.format(N,sim_num)\n",
    "file_name_cluster_graph='cluster_graph_{}_{}.txt'.format(N,sim_num)\n",
    "file_name_shortest_path='full_graph_shortest_path_{}_{}.txt'.format(N,sim_num)\n",
    "file_name_prime_routers_shortest_path='prime_graph_shortest_path_{}_{}.txt'.format(N,sim_num)\n",
    "file_name_prime_graph='prime_graph_{}_{}.txt'.format(N,sim_num)"
   ]
  },
  {
   "cell_type": "code",
   "execution_count": 3,
   "id": "57055f88",
   "metadata": {},
   "outputs": [],
   "source": [
    "Umax=[100000, 150000, 200000] #link maximum data rate\n",
    "prob=[0.5,0.3,0.2] #probabilities of link maximum data rates"
   ]
  },
  {
   "cell_type": "markdown",
   "id": "8af00317",
   "metadata": {},
   "source": [
    "# Graph generation"
   ]
  },
  {
   "cell_type": "code",
   "execution_count": 4,
   "id": "1d0f88e7",
   "metadata": {},
   "outputs": [],
   "source": [
    "p=32*2/(20*19) #ARPANET's edge probability"
   ]
  },
  {
   "cell_type": "code",
   "execution_count": 5,
   "id": "3542bb1b",
   "metadata": {
    "scrolled": true
   },
   "outputs": [
    {
     "data": {
      "text/plain": [
       "0.16842105263157894"
      ]
     },
     "execution_count": 5,
     "metadata": {},
     "output_type": "execute_result"
    }
   ],
   "source": [
    "p"
   ]
  },
  {
   "cell_type": "code",
   "execution_count": 6,
   "id": "b16a81e4",
   "metadata": {
    "scrolled": true
   },
   "outputs": [],
   "source": [
    "while True: #generating connected graph\n",
    "    g = erdos_renyi_graph(N, p)\n",
    "    d=dict(g.degree)\n",
    "    \n",
    "    min_degree=min(d.items(), key=lambda x: x[1])[1]\n",
    "    \n",
    "    if min_degree>=min_vert_degree and nx.is_connected(g):\n",
    "        break\n",
    "    "
   ]
  },
  {
   "cell_type": "code",
   "execution_count": 7,
   "id": "2798be3b",
   "metadata": {},
   "outputs": [
    {
     "name": "stdout",
     "output_type": "stream",
     "text": [
      "vertices [0, 1, 2, 3, 4, 5, 6, 7, 8, 9, 10, 11, 12, 13, 14, 15, 16, 17, 18, 19]\n"
     ]
    }
   ],
   "source": [
    "print('vertices', g.nodes) "
   ]
  },
  {
   "cell_type": "code",
   "execution_count": 8,
   "id": "fa951866",
   "metadata": {
    "scrolled": true
   },
   "outputs": [
    {
     "name": "stdout",
     "output_type": "stream",
     "text": [
      "edges [(0, 3), (0, 9), (0, 10), (1, 5), (1, 11), (1, 18), (2, 6), (2, 10), (2, 13), (3, 9), (3, 14), (3, 16), (4, 10), (4, 13), (5, 11), (5, 18), (6, 17), (6, 18), (7, 8), (7, 14), (8, 9), (8, 15), (8, 16), (8, 19), (9, 12), (10, 13), (10, 14), (10, 16), (11, 18), (12, 13), (12, 17), (14, 19), (15, 17), (16, 19), (17, 19)]\n"
     ]
    }
   ],
   "source": [
    "print('edges', g.edges) "
   ]
  },
  {
   "cell_type": "code",
   "execution_count": 9,
   "id": "23a78fb6",
   "metadata": {},
   "outputs": [
    {
     "name": "stdout",
     "output_type": "stream",
     "text": [
      "min vertex degree 2\n"
     ]
    }
   ],
   "source": [
    "d=dict(g.degree)\n",
    "    \n",
    "min_degree=min(d.items(), key=lambda x: x[1])\n",
    "\n",
    "print('min vertex degree', min_degree[1])"
   ]
  },
  {
   "cell_type": "code",
   "execution_count": 10,
   "id": "b3c4c073",
   "metadata": {
    "scrolled": false
   },
   "outputs": [
    {
     "data": {
      "image/png": "[encoded data removed]",
      "text/plain": [
       "<Figure size 432x288 with 1 Axes>"
      ]
     },
     "metadata": {},
     "output_type": "display_data"
    }
   ],
   "source": [
    "nx.draw(g)"
   ]
  },
  {
   "cell_type": "markdown",
   "id": "9705e30c",
   "metadata": {},
   "source": [
    "## Generating network "
   ]
  },
  {
   "cell_type": "code",
   "execution_count": 11,
   "id": "2859fbbf",
   "metadata": {},
   "outputs": [],
   "source": [
    "U={} \n",
    "\n",
    "for e in g.edges: \n",
    "    x,y=e\n",
    "    U[e]=np.random.choice(Umax, p=prob) #generating max link data rate\n",
    "    U[(y,x)]=U[e]"
   ]
  },
  {
   "cell_type": "code",
   "execution_count": 12,
   "id": "fbec031a",
   "metadata": {
    "scrolled": true
   },
   "outputs": [
    {
     "name": "stdout",
     "output_type": "stream",
     "text": [
      "max link data rates {(0, 3): 100000, (3, 0): 100000, (0, 9): 150000, (9, 0): 150000, (0, 10): 200000, (10, 0): 200000, (1, 5): 150000, (5, 1): 150000, (1, 11): 100000, (11, 1): 100000, (1, 18): 150000, (18, 1): 150000, (2, 6): 100000, (6, 2): 100000, (2, 10): 150000, (10, 2): 150000, (2, 13): 100000, (13, 2): 100000, (3, 9): 100000, (9, 3): 100000, (3, 14): 100000, (14, 3): 100000, (3, 16): 100000, (16, 3): 100000, (4, 10): 100000, (10, 4): 100000, (4, 13): 100000, (13, 4): 100000, (5, 11): 150000, (11, 5): 150000, (5, 18): 200000, (18, 5): 200000, (6, 17): 150000, (17, 6): 150000, (6, 18): 100000, (18, 6): 100000, (7, 8): 100000, (8, 7): 100000, (7, 14): 100000, (14, 7): 100000, (8, 9): 100000, (9, 8): 100000, (8, 15): 150000, (15, 8): 150000, (8, 16): 100000, (16, 8): 100000, (8, 19): 100000, (19, 8): 100000, (9, 12): 200000, (12, 9): 200000, (10, 13): 100000, (13, 10): 100000, (10, 14): 150000, (14, 10): 150000, (10, 16): 100000, (16, 10): 100000, (11, 18): 150000, (18, 11): 150000, (12, 13): 100000, (13, 12): 100000, (12, 17): 100000, (17, 12): 100000, (14, 19): 100000, (19, 14): 100000, (15, 17): 100000, (17, 15): 100000, (16, 19): 200000, (19, 16): 200000, (17, 19): 100000, (19, 17): 100000}\n"
     ]
    }
   ],
   "source": [
    "print('max link data rates', U)"
   ]
  },
  {
   "cell_type": "code",
   "execution_count": 13,
   "id": "490fe98e",
   "metadata": {},
   "outputs": [],
   "source": [
    "router_data_rate=[0]*N\n",
    "\n",
    "for e in g.edges: \n",
    "    x,y=e\n",
    "    router_data_rate[x]+=U[e]\n",
    "    router_data_rate[y]+=U[e]\n",
    "    \n",
    "\n",
    "reduction=np.random.uniform(low=router_rate_reduction[0], high=router_rate_reduction[1], size=(N,))\n",
    "\n",
    "router_data_rate*=reduction\n",
    "\n",
    "router_data_rate=np.maximum(1, router_data_rate//10000)*10000 #making them a multiple of 10000"
   ]
  },
  {
   "cell_type": "code",
   "execution_count": 14,
   "id": "98677f1c",
   "metadata": {
    "scrolled": false
   },
   "outputs": [
    {
     "name": "stdout",
     "output_type": "stream",
     "text": [
      "router data rates [170000. 110000. 130000. 170000.  90000. 220000. 150000.  90000. 140000.\n",
      " 200000. 230000. 110000. 150000. 180000. 200000.  60000. 120000. 150000.\n",
      " 150000. 110000.]\n"
     ]
    }
   ],
   "source": [
    "print('router data rates', router_data_rate)"
   ]
  },
  {
   "cell_type": "code",
   "execution_count": 15,
   "id": "f168a3c6",
   "metadata": {},
   "outputs": [],
   "source": [
    "weights={}\n",
    "const=1e6\n",
    "\n",
    "for e in g.edges: \n",
    "    x,y=e\n",
    "    weights[(x,y)]=link_delay_coefficient/U[e] + router_delay_coefficient/router_data_rate[y]\n",
    "    weights[(y,x)]=link_delay_coefficient/U[e] + router_delay_coefficient/router_data_rate[x]"
   ]
  },
  {
   "cell_type": "code",
   "execution_count": 16,
   "id": "793d1cf4",
   "metadata": {},
   "outputs": [
    {
     "data": {
      "text/plain": [
       "{(0, 3): 8.705882352941177e-05,\n",
       " (3, 0): 8.705882352941177e-05,\n",
       " (0, 9): 6.666666666666667e-05,\n",
       " (9, 0): 7.372549019607843e-05,\n",
       " (0, 10): 5.478260869565217e-05,\n",
       " (10, 0): 6.705882352941177e-05,\n",
       " (1, 5): 6.303030303030302e-05,\n",
       " (5, 1): 9.93939393939394e-05,\n",
       " (1, 11): 0.00011272727272727272,\n",
       " (11, 1): 0.00011272727272727272,\n",
       " (1, 18): 7.999999999999999e-05,\n",
       " (18, 1): 9.93939393939394e-05,\n",
       " (2, 6): 9.333333333333334e-05,\n",
       " (6, 2): 0.00010153846153846153,\n",
       " (2, 10): 6.144927536231884e-05,\n",
       " (10, 2): 8.820512820512821e-05,\n",
       " (2, 13): 8.444444444444444e-05,\n",
       " (13, 2): 0.00010153846153846153,\n",
       " (3, 9): 8e-05,\n",
       " (9, 3): 8.705882352941177e-05,\n",
       " (3, 14): 8e-05,\n",
       " (14, 3): 8.705882352941177e-05,\n",
       " (3, 16): 0.00010666666666666667,\n",
       " (16, 3): 8.705882352941177e-05,\n",
       " (4, 10): 7.478260869565217e-05,\n",
       " (10, 4): 0.0001288888888888889,\n",
       " (4, 13): 8.444444444444444e-05,\n",
       " (13, 4): 0.0001288888888888889,\n",
       " (5, 11): 9.93939393939394e-05,\n",
       " (11, 5): 6.303030303030302e-05,\n",
       " (5, 18): 7.333333333333333e-05,\n",
       " (18, 5): 5.636363636363636e-05,\n",
       " (6, 17): 7.999999999999999e-05,\n",
       " (17, 6): 7.999999999999999e-05,\n",
       " (6, 18): 9.333333333333334e-05,\n",
       " (18, 6): 9.333333333333334e-05,\n",
       " (7, 8): 9.714285714285714e-05,\n",
       " (8, 7): 0.0001288888888888889,\n",
       " (7, 14): 8e-05,\n",
       " (14, 7): 0.0001288888888888889,\n",
       " (8, 9): 8e-05,\n",
       " (9, 8): 9.714285714285714e-05,\n",
       " (8, 15): 0.00016,\n",
       " (15, 8): 8.380952380952382e-05,\n",
       " (8, 16): 0.00010666666666666667,\n",
       " (16, 8): 9.714285714285714e-05,\n",
       " (8, 19): 0.00011272727272727272,\n",
       " (19, 8): 9.714285714285714e-05,\n",
       " (9, 12): 7.333333333333333e-05,\n",
       " (12, 9): 6.000000000000001e-05,\n",
       " (10, 13): 8.444444444444444e-05,\n",
       " (13, 10): 7.478260869565217e-05,\n",
       " (10, 14): 6.666666666666667e-05,\n",
       " (14, 10): 6.144927536231884e-05,\n",
       " (10, 16): 0.00010666666666666667,\n",
       " (16, 10): 7.478260869565217e-05,\n",
       " (11, 18): 7.999999999999999e-05,\n",
       " (18, 11): 9.93939393939394e-05,\n",
       " (12, 13): 8.444444444444444e-05,\n",
       " (13, 12): 9.333333333333334e-05,\n",
       " (12, 17): 9.333333333333334e-05,\n",
       " (17, 12): 9.333333333333334e-05,\n",
       " (14, 19): 0.00011272727272727272,\n",
       " (19, 14): 8e-05,\n",
       " (15, 17): 9.333333333333334e-05,\n",
       " (17, 15): 0.00017333333333333334,\n",
       " (16, 19): 9.272727272727273e-05,\n",
       " (19, 16): 8.666666666666667e-05,\n",
       " (17, 19): 0.00011272727272727272,\n",
       " (19, 17): 9.333333333333334e-05}"
      ]
     },
     "execution_count": 16,
     "metadata": {},
     "output_type": "execute_result"
    }
   ],
   "source": [
    "weights"
   ]
  },
  {
   "cell_type": "markdown",
   "id": "b3468ff9",
   "metadata": {},
   "source": [
    "# Saving clustering graph to file"
   ]
  },
  {
   "cell_type": "code",
   "execution_count": 17,
   "id": "753e8146",
   "metadata": {},
   "outputs": [],
   "source": [
    "edges=[]\n",
    "weight=dict()"
   ]
  },
  {
   "cell_type": "code",
   "execution_count": 18,
   "id": "582e8adf",
   "metadata": {},
   "outputs": [
    {
     "ename": "NameError",
     "evalue": "name 'n' is not defined",
     "output_type": "error",
     "traceback": [
      "\u001b[1;31m---------------------------------------------------------------------------\u001b[0m",
      "\u001b[1;31mNameError\u001b[0m                                 Traceback (most recent call last)",
      "\u001b[1;32m<ipython-input-18-ff0a45080812>\u001b[0m in \u001b[0;36m<module>\u001b[1;34m\u001b[0m\n\u001b[0;32m      1\u001b[0m \u001b[1;32mwith\u001b[0m \u001b[0mopen\u001b[0m\u001b[1;33m(\u001b[0m\u001b[1;34m'test/'\u001b[0m\u001b[1;33m+\u001b[0m\u001b[0mfile_name_cluster_graph\u001b[0m\u001b[1;33m,\u001b[0m \u001b[1;34m'w'\u001b[0m\u001b[1;33m)\u001b[0m \u001b[1;32mas\u001b[0m \u001b[0mf\u001b[0m\u001b[1;33m:\u001b[0m\u001b[1;33m\u001b[0m\u001b[1;33m\u001b[0m\u001b[0m\n\u001b[0;32m      2\u001b[0m \u001b[1;33m\u001b[0m\u001b[0m\n\u001b[1;32m----> 3\u001b[1;33m     \u001b[0mf\u001b[0m\u001b[1;33m.\u001b[0m\u001b[0mwrite\u001b[0m\u001b[1;33m(\u001b[0m\u001b[1;34m'{}\\n\\n'\u001b[0m\u001b[1;33m.\u001b[0m\u001b[0mformat\u001b[0m\u001b[1;33m(\u001b[0m\u001b[0mn\u001b[0m\u001b[1;33m+\u001b[0m\u001b[0mN\u001b[0m\u001b[1;33m)\u001b[0m\u001b[1;33m)\u001b[0m\u001b[1;33m\u001b[0m\u001b[1;33m\u001b[0m\u001b[0m\n\u001b[0m\u001b[0;32m      4\u001b[0m     \u001b[1;31m#f.write('\\n')\u001b[0m\u001b[1;33m\u001b[0m\u001b[1;33m\u001b[0m\u001b[1;33m\u001b[0m\u001b[0m\n\u001b[0;32m      5\u001b[0m     \u001b[1;32mfor\u001b[0m \u001b[0me\u001b[0m \u001b[1;32min\u001b[0m \u001b[0mg\u001b[0m\u001b[1;33m.\u001b[0m\u001b[0medges\u001b[0m\u001b[1;33m:\u001b[0m\u001b[1;33m\u001b[0m\u001b[1;33m\u001b[0m\u001b[0m\n",
      "\u001b[1;31mNameError\u001b[0m: name 'n' is not defined"
     ]
    }
   ],
   "source": [
    "with open('test/'+file_name_cluster_graph, 'w') as f:\n",
    "    \n",
    "    f.write('{}\\n\\n'.format(n+N))\n",
    "    #f.write('\\n')\n",
    "    for e in g.edges:\n",
    "        x,y=e\n",
    "        \n",
    "        if x>=N and y>=N:\n",
    "            weight[(x+1,y+1)] = max(random.uniform(0,1)*prime_router_factor,min_prime_rate)\n",
    "        else:\n",
    "            weight[(x+1,y+1)] = random.uniform(0,1) #np.random.normal(av_weight,var_weight)\n",
    "            \n",
    "        edges.append([x+1,y+1,weight[(x,y)]])\n",
    "            \n",
    "        if not (x>=N and y>=N): # we exclude edges between prime routers\n",
    "            \n",
    "            f.write(str(x+1)+' '+str(y+1)+' '+str(weight[(x+1,y+1)])+'\\n')\n",
    "            f.write(str(y+1)+' '+str(x+1)+' '+str(weight[(x+1,y+1)])+'\\n')\n",
    "        \n",
    "    \n",
    "    f.close()"
   ]
  },
  {
   "cell_type": "code",
   "execution_count": null,
   "id": "111503ed",
   "metadata": {
    "scrolled": true
   },
   "outputs": [],
   "source": [
    "edges"
   ]
  },
  {
   "cell_type": "markdown",
   "id": "a18df381",
   "metadata": {},
   "source": [
    "# Saving full graph"
   ]
  },
  {
   "cell_type": "code",
   "execution_count": null,
   "id": "b1e40ce3",
   "metadata": {},
   "outputs": [],
   "source": [
    "with open('test/'+file_name_full_graph, 'w') as f:\n",
    "    \n",
    "    f.write('{}\\n\\n'.format(n+N))\n",
    "    #f.write('\\n')\n",
    "    for e in g.edges:\n",
    "        x,y=e\n",
    "\n",
    "        edges.append([x+1,y+1,weight[(x+1,y+1)]])\n",
    "            \n",
    "            \n",
    "        f.write(str(x+1)+' '+str(y+1)+' '+str(weight[(x+1,y+1)])+'\\n')\n",
    "        f.write(str(y+1)+' '+str(x+1)+' '+str(weight[(x+1,y+1)])+'\\n')\n",
    "        \n",
    "    \n",
    "    f.close()"
   ]
  },
  {
   "cell_type": "markdown",
   "id": "b481695b",
   "metadata": {},
   "source": [
    "# Saving prime graph to file"
   ]
  },
  {
   "cell_type": "code",
   "execution_count": null,
   "id": "08d4d5bb",
   "metadata": {},
   "outputs": [],
   "source": [
    "with open('test/'+file_name_prime_graph, 'w') as f:\n",
    "    f.write(str(n)+'\\n\\n')\n",
    "\n",
    "    for e in edges:\n",
    "        x,y,weight=e\n",
    "        \n",
    "        if x>N and y>N:\n",
    "            \n",
    "            f.write(str(x-N)+' '+str(y-N)+' '+str(weight)+'\\n')\n",
    "            f.write(str(y-N)+' '+str(x-N)+' '+str(weight)+'\\n')\n",
    "            "
   ]
  },
  {
   "cell_type": "markdown",
   "id": "3fc89236",
   "metadata": {},
   "source": [
    "# Loading the clustering graph"
   ]
  },
  {
   "cell_type": "code",
   "execution_count": null,
   "id": "ffec56ac",
   "metadata": {},
   "outputs": [],
   "source": [
    "from yen import YenAlgorithm\n",
    "import tools"
   ]
  },
  {
   "cell_type": "code",
   "execution_count": null,
   "id": "4344a917",
   "metadata": {},
   "outputs": [],
   "source": [
    "clust_graph, _, _, _ = tools.getGraphStructure(file_name_cluster_graph) #test_10.txt"
   ]
  },
  {
   "cell_type": "code",
   "execution_count": null,
   "id": "63c36093",
   "metadata": {},
   "outputs": [],
   "source": [
    "print(clust_graph)"
   ]
  },
  {
   "cell_type": "markdown",
   "id": "d0c3425f",
   "metadata": {},
   "source": [
    "# Saving the shortest paths between very pair of vertices of the cluster graph"
   ]
  },
  {
   "cell_type": "code",
   "execution_count": null,
   "id": "15f683b3",
   "metadata": {},
   "outputs": [],
   "source": [
    "with open('test/'+file_name_shortest_path, 'w') as f:\n",
    "    \n",
    "    f.write('{} {}\\n'.format(n,N))\n",
    "\n",
    "    for i in range(n+N):\n",
    "        for j in range(n+N):\n",
    "            if i != j:\n",
    "                shortest_path_tree = YenAlgorithm(clust_graph, i, j, 1)\n",
    "                #print(i,j,shortest_path_tree,'\\n')\n",
    "                #tools.printPaths(shortest_path_tree)\n",
    "                \n",
    "                if not (i==0 and j==1):\n",
    "                    f.write('\\n')\n",
    "                    \n",
    "                f.write(str(i+1)+' '+str(j+1)+'\\n')\n",
    "                \n",
    "                for el in shortest_path_tree:\n",
    "                    f.write(str(el['cost'])+'\\n')\n",
    "                    #print(el['path'])\n",
    "                    #print('getCompletePath',tools.getCompletePath(el))\n",
    "                    #path=tools.getCompletePath(el['path'])\n",
    "                    #f.write(' '.join(map(str,el['path']))+'\\n')\n",
    "                    path=tools.getCompletePath(el)\n",
    "                    path = [str(e+1) for e in path]\n",
    "\n",
    "                    f.write(' '.join(path)+'\\n')\n",
    "                    \n",
    "    f.close()\n",
    "    "
   ]
  },
  {
   "cell_type": "markdown",
   "id": "76cb3e5c",
   "metadata": {},
   "source": [
    "# Saving prime graph m shortest paths"
   ]
  },
  {
   "cell_type": "code",
   "execution_count": null,
   "id": "df559bf9",
   "metadata": {},
   "outputs": [],
   "source": [
    "prime_graph, _, _, _ = tools.getGraphStructure(file_name_prime_graph)"
   ]
  },
  {
   "cell_type": "code",
   "execution_count": null,
   "id": "15ba88d3",
   "metadata": {},
   "outputs": [],
   "source": [
    "with open('test/'+file_name_prime_routers_shortest_path, 'w') as f:\n",
    "    \n",
    "    f.write(str(n)+'\\n\\n')\n",
    "\n",
    "    for i in range(n):\n",
    "        for j in range(n):\n",
    "            if i != j:\n",
    "                shortest_path_tree = YenAlgorithm(prime_graph, i, j, m)\n",
    "                #print(i,j,shortest_path_tree,'\\n')\n",
    "                #tools.printPaths(shortest_path_tree)\n",
    "                \n",
    "                if not (i==0 and j==1):\n",
    "                    f.write('\\n')\n",
    "                    \n",
    "                f.write(str(i+1)+' '+str(j+1)+'\\n')\n",
    "                \n",
    "                for el in shortest_path_tree:\n",
    "                    f.write(str(el['cost'])+'\\n')\n",
    "                    #print(el['path'])\n",
    "                    #print('getCompletePath',tools.getCompletePath(el))\n",
    "                    #path=tools.getCompletePath(el['path'])\n",
    "                    #f.write(' '.join(map(str,el['path']))+'\\n')\n",
    "                    path=tools.getCompletePath(el)\n",
    "                    path = [str(e+1) for e in path]\n",
    "\n",
    "                    f.write(' '.join(path)+'\\n')\n",
    "                    \n",
    "    f.close()\n",
    "    "
   ]
  },
  {
   "cell_type": "markdown",
   "id": "67d7903e",
   "metadata": {},
   "source": [
    "# Saving shortest path in full graph"
   ]
  },
  {
   "cell_type": "code",
   "execution_count": null,
   "id": "77622292",
   "metadata": {},
   "outputs": [],
   "source": [
    "full_graph, _, _, _ = tools.getGraphStructure(file_name_shortest_path)"
   ]
  },
  {
   "cell_type": "code",
   "execution_count": null,
   "id": "8e491677",
   "metadata": {},
   "outputs": [],
   "source": [
    "with open('test/'+file_name_full_graph_optimal_path, 'w') as f:\n",
    "    \n",
    "    f.write('{} {}\\n'.format(n,N))\n",
    "\n",
    "    for i in range(n+N):\n",
    "        for j in range(n+N):\n",
    "            if i != j:\n",
    "                shortest_path_tree = YenAlgorithm(full_graph, i, j, 1)\n",
    "                #print(i,j,shortest_path_tree,'\\n')\n",
    "                #tools.printPaths(shortest_path_tree)\n",
    "                \n",
    "                if not (i==0 and j==1):\n",
    "                    f.write('\\n')\n",
    "                    \n",
    "                f.write(str(i+1)+' '+str(j+1)+'\\n')\n",
    "                \n",
    "                for el in shortest_path_tree:\n",
    "                    f.write(str(el['cost'])+'\\n')\n",
    "                    #print(el['path'])\n",
    "                    #print('getCompletePath',tools.getCompletePath(el))\n",
    "                    #path=tools.getCompletePath(el['path'])\n",
    "                    #f.write(' '.join(map(str,el['path']))+'\\n')\n",
    "                    path=tools.getCompletePath(el)\n",
    "                    path = [str(e+1) for e in path]\n",
    "\n",
    "                    f.write(' '.join(path)+'\\n')\n",
    "                    \n",
    "    f.close()"
   ]
  }
 ],
 "metadata": {
  "kernelspec": {
   "display_name": "Python 3",
   "language": "python",
   "name": "python3"
  },
  "language_info": {
   "codemirror_mode": {
    "name": "ipython",
    "version": 3
   },
   "file_extension": ".py",
   "mimetype": "text/x-python",
   "name": "python",
   "nbconvert_exporter": "python",
   "pygments_lexer": "ipython3",
   "version": "3.7.10"
  }
 },
 "nbformat": 4,
 "nbformat_minor": 5
}
