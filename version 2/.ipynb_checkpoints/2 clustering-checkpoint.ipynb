{
 "cells": [
  {
   "cell_type": "code",
   "execution_count": 1,
   "id": "2bb081d5",
   "metadata": {},
   "outputs": [],
   "source": [
    "from tools import *\n",
    "from random import shuffle\n",
    "import networkx as nx\n",
    "import random\n",
    "from collections import Counter"
   ]
  },
  {
   "cell_type": "code",
   "execution_count": 2,
   "id": "829c256f",
   "metadata": {},
   "outputs": [],
   "source": [
    "theta=0.5 # parameter in clustering algorithm conditions\n",
    "n_max=10 #maximum amount of clusters\n",
    "n_min=5 #minimum amount of clusters\n",
    "d_max=3 #maximum cluster size\n",
    "\n",
    "N=20 #router number\n",
    "m=3 #shortest path number\n",
    "sim_num=1\n",
    "memsize=10000 #in mb\n",
    "min_vert_degree=2 #min vertex degree\n",
    "router_rate_reduction=[0.2,0.5] #router max data rate reduction range in comparisson with the maximum demand from the links\n",
    "router_delay_coefficient=8 #defines delay time while the package passing through router\n",
    "link_delay_coefficient=4 #defines delay time while the package passing through link\n",
    "\n",
    "file_name_full_graph='full_graph_{}_{}.txt'.format(N,sim_num)\n",
    "file_network='network_{}_{}.txt'.format(N,sim_num)"
   ]
  },
  {
   "cell_type": "code",
   "execution_count": 3,
   "id": "fd07e773",
   "metadata": {},
   "outputs": [],
   "source": [
    "T=2\n",
    "p=2\n",
    "nmax=5\n",
    "mmin=2"
   ]
  },
  {
   "cell_type": "markdown",
   "id": "06492cbc",
   "metadata": {},
   "source": [
    "# Reading graph from a file"
   ]
  },
  {
   "cell_type": "code",
   "execution_count": 4,
   "id": "aa675db6",
   "metadata": {},
   "outputs": [],
   "source": [
    "N, con, edges = ReadGraph(file_name_full_graph)"
   ]
  },
  {
   "cell_type": "code",
   "execution_count": 5,
   "id": "af9a4c9e",
   "metadata": {
    "scrolled": false
   },
   "outputs": [
    {
     "name": "stdout",
     "output_type": "stream",
     "text": [
      "connectivity list [[(2, 5.166666666666667e-05), (4, 7.999999999999999e-05), (8, 0.00010666666666666667)], [(1, 6.476190476190476e-05), (5, 5.2000000000000004e-05), (12, 0.0002), (14, 9.333333333333334e-05), (18, 4.617886178861789e-05)], [(5, 5.2000000000000004e-05), (10, 7.076923076923078e-05)], [(1, 6.476190476190476e-05), (7, 9.333333333333334e-05), (16, 0.00010153846153846153), (18, 5.9512195121951225e-05)], [(2, 4.5e-05), (3, 8.153846153846153e-05), (10, 5.7435897435897434e-05), (19, 0.00012000000000000002)], [(12, 0.0001866666666666667)], [(4, 9.333333333333334e-05), (9, 0.00024), (11, 7.333333333333334e-05), (18, 5.9512195121951225e-05)], [(1, 6.476190476190476e-05), (18, 3.951219512195122e-05)], [(7, 9.333333333333334e-05), (18, 5.9512195121951225e-05)], [(3, 0.00010153846153846153), (5, 5.8666666666666665e-05), (11, 7.333333333333334e-05), (15, 9.714285714285714e-05), (17, 8.210526315789474e-05)], [(7, 9.333333333333334e-05), (10, 7.076923076923078e-05), (14, 0.00010666666666666667), (15, 7.714285714285714e-05), (18, 3.951219512195122e-05), (19, 0.0001)], [(2, 6.500000000000001e-05), (6, 0.0001866666666666667)], [(15, 9.714285714285714e-05), (16, 8.820512820512821e-05), (17, 8.210526315789474e-05), (19, 0.0001)], [(2, 5.166666666666667e-05), (11, 7.333333333333334e-05), (15, 7.714285714285714e-05)], [(10, 7.076923076923078e-05), (11, 5.333333333333333e-05), (13, 8e-05), (14, 8.666666666666667e-05)], [(4, 9.333333333333334e-05), (13, 6.666666666666667e-05), (17, 6.87719298245614e-05)], [(10, 7.076923076923078e-05), (13, 8e-05), (16, 8.820512820512821e-05), (20, 0.00044)], [(2, 5.166666666666667e-05), (4, 9.333333333333334e-05), (7, 9.333333333333334e-05), (8, 0.0001), (9, 0.00024), (11, 5.333333333333333e-05)], [(5, 7.2e-05), (11, 5.333333333333333e-05), (13, 6.000000000000001e-05)], [(17, 8.210526315789474e-05)]]\n"
     ]
    }
   ],
   "source": [
    "print('connectivity list', con[1:])"
   ]
  },
  {
   "cell_type": "code",
   "execution_count": 6,
   "id": "f0150322",
   "metadata": {},
   "outputs": [
    {
     "name": "stdout",
     "output_type": "stream",
     "text": [
      "graph edges [(1, 2, 5.166666666666667e-05), (2, 1, 6.476190476190476e-05), (1, 4, 7.999999999999999e-05), (4, 1, 6.476190476190476e-05), (1, 8, 0.00010666666666666667), (8, 1, 6.476190476190476e-05), (2, 5, 5.2000000000000004e-05), (5, 2, 4.5e-05), (2, 12, 0.0002), (12, 2, 6.500000000000001e-05), (2, 14, 9.333333333333334e-05), (14, 2, 5.166666666666667e-05), (2, 18, 4.617886178861789e-05), (18, 2, 5.166666666666667e-05), (3, 5, 5.2000000000000004e-05), (5, 3, 8.153846153846153e-05), (3, 10, 7.076923076923078e-05), (10, 3, 0.00010153846153846153), (4, 7, 9.333333333333334e-05), (7, 4, 9.333333333333334e-05), (4, 16, 0.00010153846153846153), (16, 4, 9.333333333333334e-05), (4, 18, 5.9512195121951225e-05), (18, 4, 9.333333333333334e-05), (5, 10, 5.7435897435897434e-05), (10, 5, 5.8666666666666665e-05), (5, 19, 0.00012000000000000002), (19, 5, 7.2e-05), (6, 12, 0.0001866666666666667), (12, 6, 0.0001866666666666667), (7, 9, 0.00024), (9, 7, 9.333333333333334e-05), (7, 11, 7.333333333333334e-05), (11, 7, 9.333333333333334e-05), (7, 18, 5.9512195121951225e-05), (18, 7, 9.333333333333334e-05), (8, 18, 3.951219512195122e-05), (18, 8, 0.0001), (9, 18, 5.9512195121951225e-05), (18, 9, 0.00024), (10, 11, 7.333333333333334e-05), (11, 10, 7.076923076923078e-05), (10, 15, 9.714285714285714e-05), (15, 10, 7.076923076923078e-05), (10, 17, 8.210526315789474e-05), (17, 10, 7.076923076923078e-05), (11, 14, 0.00010666666666666667), (14, 11, 7.333333333333334e-05), (11, 15, 7.714285714285714e-05), (15, 11, 5.333333333333333e-05), (11, 18, 3.951219512195122e-05), (18, 11, 5.333333333333333e-05), (11, 19, 0.0001), (19, 11, 5.333333333333333e-05), (13, 15, 9.714285714285714e-05), (15, 13, 8e-05), (13, 16, 8.820512820512821e-05), (16, 13, 6.666666666666667e-05), (13, 17, 8.210526315789474e-05), (17, 13, 8e-05), (13, 19, 0.0001), (19, 13, 6.000000000000001e-05), (14, 15, 7.714285714285714e-05), (15, 14, 8.666666666666667e-05), (16, 17, 6.87719298245614e-05), (17, 16, 8.820512820512821e-05), (17, 20, 0.00044), (20, 17, 8.210526315789474e-05)]\n"
     ]
    }
   ],
   "source": [
    "print('graph edges',edges)"
   ]
  },
  {
   "cell_type": "markdown",
   "id": "1beb835f",
   "metadata": {},
   "source": [
    "# Reading network from a file"
   ]
  },
  {
   "cell_type": "code",
   "execution_count": 7,
   "id": "4cc4ac1f",
   "metadata": {},
   "outputs": [],
   "source": [
    "router_data_rate, con_U, U = ReadNetwork(file_network)"
   ]
  },
  {
   "cell_type": "code",
   "execution_count": 8,
   "id": "f8e32c06",
   "metadata": {},
   "outputs": [
    {
     "name": "stdout",
     "output_type": "stream",
     "text": [
      "Router data rates [210000.0, 320000.0, 130000.0, 150000.0, 250000.0, 50000.0, 150000.0, 100000.0, 40000.0, 260000.0, 240000.0, 50000.0, 200000.0, 120000.0, 140000.0, 130000.0, 190000.0, 410000.0, 100000.0, 20000.0]\n"
     ]
    }
   ],
   "source": [
    "print('Router data rates', router_data_rate)"
   ]
  },
  {
   "cell_type": "code",
   "execution_count": 9,
   "id": "c9e26143",
   "metadata": {
    "scrolled": true
   },
   "outputs": [
    {
     "name": "stdout",
     "output_type": "stream",
     "text": [
      "Link capacity connectivity list [[(2, 150000.0), (4, 150000.0), (8, 150000.0)], [(1, 150000.0), (5, 200000.0), (12, 100000.0), (14, 150000.0), (18, 150000.0)], [(5, 200000.0), (10, 100000.0)], [(1, 150000.0), (7, 100000.0), (16, 100000.0), (18, 100000.0)], [(2, 200000.0), (3, 200000.0), (10, 150000.0), (19, 100000.0)], [(12, 150000.0)], [(4, 100000.0), (9, 100000.0), (11, 100000.0), (18, 100000.0)], [(1, 150000.0), (18, 200000.0)], [(7, 100000.0), (18, 100000.0)], [(3, 100000.0), (5, 150000.0), (11, 100000.0), (15, 100000.0), (17, 100000.0)], [(7, 100000.0), (10, 100000.0), (14, 100000.0), (15, 200000.0), (18, 200000.0), (19, 200000.0)], [(2, 100000.0), (6, 150000.0)], [(15, 100000.0), (16, 150000.0), (17, 100000.0), (19, 200000.0)], [(2, 150000.0), (11, 100000.0), (15, 200000.0)], [(10, 100000.0), (11, 200000.0), (13, 100000.0), (14, 200000.0)], [(4, 100000.0), (13, 150000.0), (17, 150000.0)], [(10, 100000.0), (13, 100000.0), (16, 150000.0), (20, 100000.0)], [(2, 150000.0), (4, 100000.0), (7, 100000.0), (8, 200000.0), (9, 100000.0), (11, 200000.0)], [(5, 100000.0), (11, 200000.0), (13, 200000.0)], [(17, 100000.0)]]\n"
     ]
    }
   ],
   "source": [
    "print('Link capacity connectivity list', con_U[1:])"
   ]
  },
  {
   "cell_type": "code",
   "execution_count": 10,
   "id": "14299a5d",
   "metadata": {
    "scrolled": true
   },
   "outputs": [
    {
     "name": "stdout",
     "output_type": "stream",
     "text": [
      "Link capacity edges [(1, 2, 150000.0), (2, 1, 150000.0), (1, 4, 150000.0), (4, 1, 150000.0), (1, 8, 150000.0), (8, 1, 150000.0), (2, 5, 200000.0), (5, 2, 200000.0), (2, 12, 100000.0), (12, 2, 100000.0), (2, 14, 150000.0), (14, 2, 150000.0), (2, 18, 150000.0), (18, 2, 150000.0), (3, 5, 200000.0), (5, 3, 200000.0), (3, 10, 100000.0), (10, 3, 100000.0), (4, 7, 100000.0), (7, 4, 100000.0), (4, 16, 100000.0), (16, 4, 100000.0), (4, 18, 100000.0), (18, 4, 100000.0), (5, 10, 150000.0), (10, 5, 150000.0), (5, 19, 100000.0), (19, 5, 100000.0), (6, 12, 150000.0), (12, 6, 150000.0), (7, 9, 100000.0), (9, 7, 100000.0), (7, 11, 100000.0), (11, 7, 100000.0), (7, 18, 100000.0), (18, 7, 100000.0), (8, 18, 200000.0), (18, 8, 200000.0), (9, 18, 100000.0), (18, 9, 100000.0), (10, 11, 100000.0), (11, 10, 100000.0), (10, 15, 100000.0), (15, 10, 100000.0), (10, 17, 100000.0), (17, 10, 100000.0), (11, 14, 100000.0), (14, 11, 100000.0), (11, 15, 200000.0), (15, 11, 200000.0), (11, 18, 200000.0), (18, 11, 200000.0), (11, 19, 200000.0), (19, 11, 200000.0), (13, 15, 100000.0), (15, 13, 100000.0), (13, 16, 150000.0), (16, 13, 150000.0), (13, 17, 100000.0), (17, 13, 100000.0), (13, 19, 200000.0), (19, 13, 200000.0), (14, 15, 200000.0), (15, 14, 200000.0), (16, 17, 150000.0), (17, 16, 150000.0), (17, 20, 100000.0), (20, 17, 100000.0)]\n"
     ]
    }
   ],
   "source": [
    "print('Link capacity edges', U)"
   ]
  },
  {
   "cell_type": "markdown",
   "id": "b33201f2",
   "metadata": {},
   "source": [
    "# Step 1. Tree removal"
   ]
  },
  {
   "cell_type": "code",
   "execution_count": 11,
   "id": "6d4aa914",
   "metadata": {},
   "outputs": [],
   "source": [
    "def TreeRemoval(con, N):\n",
    "    deg=[len(con[i]) for i in range(N+1)]\n",
    "    con_temp=[set([i for i,_ in con[v]]) for v in range(N+1)]\n",
    "    con_tree=[[] for _ in range(N+1)]\n",
    "    \n",
    "    Queue=[v for v in range(1,N+1) if deg[v]==1] #initialize Queue with leafs\n",
    "    \n",
    "    Heads=[]\n",
    "    \n",
    "    while Queue:\n",
    "        \n",
    "        v=Queue.pop(0)\n",
    "\n",
    "        if deg[v]>1:\n",
    "            Heads.append(v)\n",
    "        else:\n",
    "            w=con_temp[v].pop() #parent of v\n",
    "            con_temp[w].remove(v) #edge removal\n",
    "            con_tree[w].append(v) #edge inclusion\n",
    "\n",
    "            deg[w]-=1 #degree decreasing \n",
    "\n",
    "            Queue.append(w) #adding w to Queue\n",
    "            \n",
    "    return set(Heads), con_tree"
   ]
  },
  {
   "cell_type": "code",
   "execution_count": 12,
   "id": "f6c35881",
   "metadata": {},
   "outputs": [],
   "source": [
    "def dfs(x, head): #Depth-first search \n",
    "    \n",
    "    for v in con_tree[x]:\n",
    "        trees[head].append(v) #adding vertex to the tree\n",
    "        dfs(v, head)  "
   ]
  },
  {
   "cell_type": "code",
   "execution_count": 13,
   "id": "9465bb68",
   "metadata": {
    "scrolled": true
   },
   "outputs": [],
   "source": [
    "label=[0]*(N+1)\n",
    "Heads, con_tree=TreeRemoval(con, N)\n",
    "\n",
    "trees={h:[] for h in Heads}\n",
    "\n",
    "for i in trees:    \n",
    "    trees[i].append(i)\n",
    "    dfs(i,i) # looking for all the tree vertices"
   ]
  },
  {
   "cell_type": "code",
   "execution_count": 14,
   "id": "433a4b61",
   "metadata": {},
   "outputs": [
    {
     "name": "stdout",
     "output_type": "stream",
     "text": [
      "Tree heads {17, 2}\n"
     ]
    }
   ],
   "source": [
    "print('Tree heads', Heads)"
   ]
  },
  {
   "cell_type": "code",
   "execution_count": 15,
   "id": "71c46f03",
   "metadata": {
    "scrolled": true
   },
   "outputs": [
    {
     "name": "stdout",
     "output_type": "stream",
     "text": [
      "Whole trees {17: [17, 20], 2: [2, 12, 6]}\n"
     ]
    }
   ],
   "source": [
    "print('Whole trees',trees)"
   ]
  },
  {
   "cell_type": "markdown",
   "id": "3f8fb1f3",
   "metadata": {},
   "source": [
    "# New graph without trees"
   ]
  },
  {
   "cell_type": "code",
   "execution_count": 16,
   "id": "fcd24248",
   "metadata": {},
   "outputs": [],
   "source": [
    "import numpy as np"
   ]
  },
  {
   "cell_type": "code",
   "execution_count": 17,
   "id": "e30e7ef0",
   "metadata": {},
   "outputs": [
    {
     "name": "stderr",
     "output_type": "stream",
     "text": [
      "C:\\Users\\79022\\anaconda3\\envs\\envv\\lib\\site-packages\\numpy\\core\\fromnumeric.py:86: VisibleDeprecationWarning: Creating an ndarray from ragged nested sequences (which is a list-or-tuple of lists-or-tuples-or ndarrays with different lengths or shapes) is deprecated. If you meant to do this, you must specify 'dtype=object' when creating the ndarray.\n",
      "  return ufunc.reduce(obj, axis, dtype, out, **passkwargs)\n"
     ]
    }
   ],
   "source": [
    "all_trees=np.sum([trees[v] for v in trees])"
   ]
  },
  {
   "cell_type": "code",
   "execution_count": 18,
   "id": "5953d17a",
   "metadata": {},
   "outputs": [
    {
     "data": {
      "text/plain": [
       "[17, 20, 2, 12, 6]"
      ]
     },
     "execution_count": 18,
     "metadata": {},
     "output_type": "execute_result"
    }
   ],
   "source": [
    "all_trees"
   ]
  },
  {
   "cell_type": "code",
   "execution_count": 19,
   "id": "ff703ab9",
   "metadata": {},
   "outputs": [],
   "source": [
    "l=len(all_trees)"
   ]
  },
  {
   "cell_type": "code",
   "execution_count": 20,
   "id": "9fea288e",
   "metadata": {},
   "outputs": [
    {
     "name": "stdout",
     "output_type": "stream",
     "text": [
      "Size of all trees combined 5\n"
     ]
    }
   ],
   "source": [
    "print('Size of all trees combined', l)"
   ]
  },
  {
   "cell_type": "code",
   "execution_count": 21,
   "id": "2d728d95",
   "metadata": {},
   "outputs": [],
   "source": [
    "N_new=N-l+len(trees)"
   ]
  },
  {
   "cell_type": "code",
   "execution_count": 22,
   "id": "b60567c7",
   "metadata": {},
   "outputs": [
    {
     "data": {
      "text/plain": [
       "17"
      ]
     },
     "execution_count": 22,
     "metadata": {},
     "output_type": "execute_result"
    }
   ],
   "source": [
    "N_new"
   ]
  },
  {
   "cell_type": "code",
   "execution_count": 23,
   "id": "9dded434",
   "metadata": {},
   "outputs": [],
   "source": [
    "conversion_old_2_new=[0]*(N+1)\n",
    "conversion_new_2_old=[0]*(N_new+1)"
   ]
  },
  {
   "cell_type": "code",
   "execution_count": 24,
   "id": "bb6ea645",
   "metadata": {},
   "outputs": [
    {
     "name": "stdout",
     "output_type": "stream",
     "text": [
      "[0, 0, 2, 0, 0, 0, 2, 0, 0, 0, 0, 0, 2, 0, 0, 0, 0, 1, 0, 0, 1]\n"
     ]
    }
   ],
   "source": [
    "cnt=1\n",
    "\n",
    "for v in trees:\n",
    "    for w in trees[v]:\n",
    "        conversion_old_2_new[w]=cnt\n",
    "        conversion_new_2_old[cnt]=w\n",
    "        \n",
    "    cnt+=1\n",
    "print(conversion_old_2_new)\n",
    "for i in range(1,N+1):\n",
    "    if conversion_old_2_new[i]==0:\n",
    "        conversion_old_2_new[i]=cnt\n",
    "        conversion_new_2_old[cnt]=i\n",
    "        cnt+=1\n",
    "    "
   ]
  },
  {
   "cell_type": "code",
   "execution_count": 25,
   "id": "2407c61c",
   "metadata": {},
   "outputs": [
    {
     "data": {
      "text/plain": [
       "[0, 3, 2, 4, 5, 6, 2, 7, 8, 9, 10, 11, 2, 12, 13, 14, 15, 1, 16, 17, 1]"
      ]
     },
     "execution_count": 25,
     "metadata": {},
     "output_type": "execute_result"
    }
   ],
   "source": [
    "conversion_old_2_new"
   ]
  },
  {
   "cell_type": "code",
   "execution_count": 26,
   "id": "6f88b8ff",
   "metadata": {
    "scrolled": false
   },
   "outputs": [
    {
     "data": {
      "text/plain": [
       "[0, 20, 6, 1, 3, 4, 5, 7, 8, 9, 10, 11, 13, 14, 15, 16, 18, 19]"
      ]
     },
     "execution_count": 26,
     "metadata": {},
     "output_type": "execute_result"
    }
   ],
   "source": [
    "conversion_new_2_old"
   ]
  },
  {
   "cell_type": "code",
   "execution_count": 27,
   "id": "7c27409c",
   "metadata": {},
   "outputs": [],
   "source": [
    "con_new=[[] for _ in range(N_new+1)]"
   ]
  },
  {
   "cell_type": "code",
   "execution_count": 28,
   "id": "bbeac440",
   "metadata": {
    "scrolled": true
   },
   "outputs": [
    {
     "name": "stdout",
     "output_type": "stream",
     "text": [
      "1 2 5.166666666666667e-05 3 2 5.166666666666667e-05\n",
      "1 4 7.999999999999999e-05 3 5 7.999999999999999e-05\n",
      "1 8 0.00010666666666666667 3 8 0.00010666666666666667\n",
      "2 1 6.476190476190476e-05 2 3 6.476190476190476e-05\n",
      "2 5 5.2000000000000004e-05 2 6 5.2000000000000004e-05\n",
      "2 12 0.0002 2 2 0.0002\n",
      "2 14 9.333333333333334e-05 2 13 9.333333333333334e-05\n",
      "2 18 4.617886178861789e-05 2 16 4.617886178861789e-05\n",
      "3 5 5.2000000000000004e-05 4 6 5.2000000000000004e-05\n",
      "3 10 7.076923076923078e-05 4 10 7.076923076923078e-05\n",
      "4 1 6.476190476190476e-05 5 3 6.476190476190476e-05\n",
      "4 7 9.333333333333334e-05 5 7 9.333333333333334e-05\n",
      "4 16 0.00010153846153846153 5 15 0.00010153846153846153\n",
      "4 18 5.9512195121951225e-05 5 16 5.9512195121951225e-05\n",
      "5 2 4.5e-05 6 2 4.5e-05\n",
      "5 3 8.153846153846153e-05 6 4 8.153846153846153e-05\n",
      "5 10 5.7435897435897434e-05 6 10 5.7435897435897434e-05\n",
      "5 19 0.00012000000000000002 6 17 0.00012000000000000002\n",
      "6 12 0.0001866666666666667 2 2 0.0001866666666666667\n",
      "7 4 9.333333333333334e-05 7 5 9.333333333333334e-05\n",
      "7 9 0.00024 7 9 0.00024\n",
      "7 11 7.333333333333334e-05 7 11 7.333333333333334e-05\n",
      "7 18 5.9512195121951225e-05 7 16 5.9512195121951225e-05\n",
      "8 1 6.476190476190476e-05 8 3 6.476190476190476e-05\n",
      "8 18 3.951219512195122e-05 8 16 3.951219512195122e-05\n",
      "9 7 9.333333333333334e-05 9 7 9.333333333333334e-05\n",
      "9 18 5.9512195121951225e-05 9 16 5.9512195121951225e-05\n",
      "10 3 0.00010153846153846153 10 4 0.00010153846153846153\n",
      "10 5 5.8666666666666665e-05 10 6 5.8666666666666665e-05\n",
      "10 11 7.333333333333334e-05 10 11 7.333333333333334e-05\n",
      "10 15 9.714285714285714e-05 10 14 9.714285714285714e-05\n",
      "10 17 8.210526315789474e-05 10 1 8.210526315789474e-05\n",
      "11 7 9.333333333333334e-05 11 7 9.333333333333334e-05\n",
      "11 10 7.076923076923078e-05 11 10 7.076923076923078e-05\n",
      "11 14 0.00010666666666666667 11 13 0.00010666666666666667\n",
      "11 15 7.714285714285714e-05 11 14 7.714285714285714e-05\n",
      "11 18 3.951219512195122e-05 11 16 3.951219512195122e-05\n",
      "11 19 0.0001 11 17 0.0001\n",
      "12 2 6.500000000000001e-05 2 2 6.500000000000001e-05\n",
      "12 6 0.0001866666666666667 2 2 0.0001866666666666667\n",
      "13 15 9.714285714285714e-05 12 14 9.714285714285714e-05\n",
      "13 16 8.820512820512821e-05 12 15 8.820512820512821e-05\n",
      "13 17 8.210526315789474e-05 12 1 8.210526315789474e-05\n",
      "13 19 0.0001 12 17 0.0001\n",
      "14 2 5.166666666666667e-05 13 2 5.166666666666667e-05\n",
      "14 11 7.333333333333334e-05 13 11 7.333333333333334e-05\n",
      "14 15 7.714285714285714e-05 13 14 7.714285714285714e-05\n",
      "15 10 7.076923076923078e-05 14 10 7.076923076923078e-05\n",
      "15 11 5.333333333333333e-05 14 11 5.333333333333333e-05\n",
      "15 13 8e-05 14 12 8e-05\n",
      "15 14 8.666666666666667e-05 14 13 8.666666666666667e-05\n",
      "16 4 9.333333333333334e-05 15 5 9.333333333333334e-05\n",
      "16 13 6.666666666666667e-05 15 12 6.666666666666667e-05\n",
      "16 17 6.87719298245614e-05 15 1 6.87719298245614e-05\n",
      "17 10 7.076923076923078e-05 1 10 7.076923076923078e-05\n",
      "17 13 8e-05 1 12 8e-05\n",
      "17 16 8.820512820512821e-05 1 15 8.820512820512821e-05\n",
      "17 20 0.00044 1 1 0.00044\n",
      "18 2 5.166666666666667e-05 16 2 5.166666666666667e-05\n",
      "18 4 9.333333333333334e-05 16 5 9.333333333333334e-05\n",
      "18 7 9.333333333333334e-05 16 7 9.333333333333334e-05\n",
      "18 8 0.0001 16 8 0.0001\n",
      "18 9 0.00024 16 9 0.00024\n",
      "18 11 5.333333333333333e-05 16 11 5.333333333333333e-05\n",
      "19 5 7.2e-05 17 6 7.2e-05\n",
      "19 11 5.333333333333333e-05 17 11 5.333333333333333e-05\n",
      "19 13 6.000000000000001e-05 17 12 6.000000000000001e-05\n",
      "20 17 8.210526315789474e-05 1 1 8.210526315789474e-05\n"
     ]
    }
   ],
   "source": [
    "for i in range(1,N+1):\n",
    "    \n",
    "    for e in con[i]:\n",
    "        x,y=e\n",
    "        print(i,x,y,conversion_old_2_new[i],conversion_old_2_new[x],y)\n",
    "        \n",
    "        if conversion_old_2_new[i]!=conversion_old_2_new[x]:\n",
    "            con_new[conversion_old_2_new[i]].append((conversion_old_2_new[x],y))"
   ]
  },
  {
   "cell_type": "code",
   "execution_count": 29,
   "id": "a0604e34",
   "metadata": {
    "scrolled": true
   },
   "outputs": [
    {
     "data": {
      "text/plain": [
       "[[],\n",
       " [(2, 5.166666666666667e-05),\n",
       "  (4, 7.999999999999999e-05),\n",
       "  (8, 0.00010666666666666667)],\n",
       " [(1, 6.476190476190476e-05),\n",
       "  (5, 5.2000000000000004e-05),\n",
       "  (12, 0.0002),\n",
       "  (14, 9.333333333333334e-05),\n",
       "  (18, 4.617886178861789e-05)],\n",
       " [(5, 5.2000000000000004e-05), (10, 7.076923076923078e-05)],\n",
       " [(1, 6.476190476190476e-05),\n",
       "  (7, 9.333333333333334e-05),\n",
       "  (16, 0.00010153846153846153),\n",
       "  (18, 5.9512195121951225e-05)],\n",
       " [(2, 4.5e-05),\n",
       "  (3, 8.153846153846153e-05),\n",
       "  (10, 5.7435897435897434e-05),\n",
       "  (19, 0.00012000000000000002)],\n",
       " [(12, 0.0001866666666666667)],\n",
       " [(4, 9.333333333333334e-05),\n",
       "  (9, 0.00024),\n",
       "  (11, 7.333333333333334e-05),\n",
       "  (18, 5.9512195121951225e-05)],\n",
       " [(1, 6.476190476190476e-05), (18, 3.951219512195122e-05)],\n",
       " [(7, 9.333333333333334e-05), (18, 5.9512195121951225e-05)],\n",
       " [(3, 0.00010153846153846153),\n",
       "  (5, 5.8666666666666665e-05),\n",
       "  (11, 7.333333333333334e-05),\n",
       "  (15, 9.714285714285714e-05),\n",
       "  (17, 8.210526315789474e-05)],\n",
       " [(7, 9.333333333333334e-05),\n",
       "  (10, 7.076923076923078e-05),\n",
       "  (14, 0.00010666666666666667),\n",
       "  (15, 7.714285714285714e-05),\n",
       "  (18, 3.951219512195122e-05),\n",
       "  (19, 0.0001)],\n",
       " [(2, 6.500000000000001e-05), (6, 0.0001866666666666667)],\n",
       " [(15, 9.714285714285714e-05),\n",
       "  (16, 8.820512820512821e-05),\n",
       "  (17, 8.210526315789474e-05),\n",
       "  (19, 0.0001)],\n",
       " [(2, 5.166666666666667e-05),\n",
       "  (11, 7.333333333333334e-05),\n",
       "  (15, 7.714285714285714e-05)],\n",
       " [(10, 7.076923076923078e-05),\n",
       "  (11, 5.333333333333333e-05),\n",
       "  (13, 8e-05),\n",
       "  (14, 8.666666666666667e-05)],\n",
       " [(4, 9.333333333333334e-05),\n",
       "  (13, 6.666666666666667e-05),\n",
       "  (17, 6.87719298245614e-05)],\n",
       " [(10, 7.076923076923078e-05),\n",
       "  (13, 8e-05),\n",
       "  (16, 8.820512820512821e-05),\n",
       "  (20, 0.00044)],\n",
       " [(2, 5.166666666666667e-05),\n",
       "  (4, 9.333333333333334e-05),\n",
       "  (7, 9.333333333333334e-05),\n",
       "  (8, 0.0001),\n",
       "  (9, 0.00024),\n",
       "  (11, 5.333333333333333e-05)],\n",
       " [(5, 7.2e-05), (11, 5.333333333333333e-05), (13, 6.000000000000001e-05)],\n",
       " [(17, 8.210526315789474e-05)]]"
      ]
     },
     "execution_count": 29,
     "metadata": {},
     "output_type": "execute_result"
    }
   ],
   "source": [
    "con"
   ]
  },
  {
   "cell_type": "code",
   "execution_count": 30,
   "id": "3c4dc65d",
   "metadata": {
    "scrolled": true
   },
   "outputs": [
    {
     "data": {
      "text/plain": [
       "[[],\n",
       " [(10, 7.076923076923078e-05), (12, 8e-05), (15, 8.820512820512821e-05)],\n",
       " [(3, 6.476190476190476e-05),\n",
       "  (6, 5.2000000000000004e-05),\n",
       "  (13, 9.333333333333334e-05),\n",
       "  (16, 4.617886178861789e-05)],\n",
       " [(2, 5.166666666666667e-05),\n",
       "  (5, 7.999999999999999e-05),\n",
       "  (8, 0.00010666666666666667)],\n",
       " [(6, 5.2000000000000004e-05), (10, 7.076923076923078e-05)],\n",
       " [(3, 6.476190476190476e-05),\n",
       "  (7, 9.333333333333334e-05),\n",
       "  (15, 0.00010153846153846153),\n",
       "  (16, 5.9512195121951225e-05)],\n",
       " [(2, 4.5e-05),\n",
       "  (4, 8.153846153846153e-05),\n",
       "  (10, 5.7435897435897434e-05),\n",
       "  (17, 0.00012000000000000002)],\n",
       " [(5, 9.333333333333334e-05),\n",
       "  (9, 0.00024),\n",
       "  (11, 7.333333333333334e-05),\n",
       "  (16, 5.9512195121951225e-05)],\n",
       " [(3, 6.476190476190476e-05), (16, 3.951219512195122e-05)],\n",
       " [(7, 9.333333333333334e-05), (16, 5.9512195121951225e-05)],\n",
       " [(4, 0.00010153846153846153),\n",
       "  (6, 5.8666666666666665e-05),\n",
       "  (11, 7.333333333333334e-05),\n",
       "  (14, 9.714285714285714e-05),\n",
       "  (1, 8.210526315789474e-05)],\n",
       " [(7, 9.333333333333334e-05),\n",
       "  (10, 7.076923076923078e-05),\n",
       "  (13, 0.00010666666666666667),\n",
       "  (14, 7.714285714285714e-05),\n",
       "  (16, 3.951219512195122e-05),\n",
       "  (17, 0.0001)],\n",
       " [(14, 9.714285714285714e-05),\n",
       "  (15, 8.820512820512821e-05),\n",
       "  (1, 8.210526315789474e-05),\n",
       "  (17, 0.0001)],\n",
       " [(2, 5.166666666666667e-05),\n",
       "  (11, 7.333333333333334e-05),\n",
       "  (14, 7.714285714285714e-05)],\n",
       " [(10, 7.076923076923078e-05),\n",
       "  (11, 5.333333333333333e-05),\n",
       "  (12, 8e-05),\n",
       "  (13, 8.666666666666667e-05)],\n",
       " [(5, 9.333333333333334e-05),\n",
       "  (12, 6.666666666666667e-05),\n",
       "  (1, 6.87719298245614e-05)],\n",
       " [(2, 5.166666666666667e-05),\n",
       "  (5, 9.333333333333334e-05),\n",
       "  (7, 9.333333333333334e-05),\n",
       "  (8, 0.0001),\n",
       "  (9, 0.00024),\n",
       "  (11, 5.333333333333333e-05)],\n",
       " [(6, 7.2e-05), (11, 5.333333333333333e-05), (12, 6.000000000000001e-05)]]"
      ]
     },
     "execution_count": 30,
     "metadata": {},
     "output_type": "execute_result"
    }
   ],
   "source": [
    "con_new"
   ]
  },
  {
   "cell_type": "markdown",
   "id": "6ecefe3b",
   "metadata": {},
   "source": [
    "# Drawing new graph"
   ]
  },
  {
   "cell_type": "code",
   "execution_count": 31,
   "id": "d6cd164b",
   "metadata": {
    "scrolled": true
   },
   "outputs": [
    {
     "data": {
      "image/png": "[encoded data removed]",
      "text/plain": [
       "<Figure size 432x288 with 1 Axes>"
      ]
     },
     "metadata": {},
     "output_type": "display_data"
    }
   ],
   "source": [
    "G = nx.Graph()\n",
    "G.add_nodes_from(range(1,N_new))\n",
    "\n",
    "for i in range(1,N_new+1):\n",
    "    for e in con_new[i]:\n",
    "        x,y=e\n",
    "        G.add_edge(i,x)\n",
    "\n",
    "nx.draw(G, with_labels=True)"
   ]
  },
  {
   "cell_type": "markdown",
   "id": "4d2afa42",
   "metadata": {},
   "source": [
    "# Step 2. Depth-first search"
   ]
  },
  {
   "cell_type": "code",
   "execution_count": 32,
   "id": "81a2a4af",
   "metadata": {},
   "outputs": [],
   "source": [
    "vert_seq=[]\n",
    "label=[0]*(N_new+1)"
   ]
  },
  {
   "cell_type": "code",
   "execution_count": 33,
   "id": "8bde6eaf",
   "metadata": {},
   "outputs": [],
   "source": [
    "def dfs_clustering(v):\n",
    "    vert_seq.append(v)\n",
    "    \n",
    "    con_temp_list=[[i] for i in con_new[v]]\n",
    "    shuffle(con_temp_list)\n",
    "    \n",
    "    for e in con_temp_list:\n",
    "        u,_ = e[0]\n",
    "        \n",
    "        if not label[u]:\n",
    "            label[u]=1\n",
    "            dfs_clustering(u)\n",
    "            \n",
    "            vert_seq.append(v)"
   ]
  },
  {
   "cell_type": "code",
   "execution_count": 34,
   "id": "8041def1",
   "metadata": {},
   "outputs": [],
   "source": [
    "dfs_clustering(1) #depth-first search from vertex 1"
   ]
  },
  {
   "cell_type": "code",
   "execution_count": 35,
   "id": "d85b7d1f",
   "metadata": {},
   "outputs": [
    {
     "name": "stdout",
     "output_type": "stream",
     "text": [
      "depth-first search tree [1, 12, 15, 5, 7, 9, 16, 2, 3, 8, 3, 2, 6, 17, 11, 14, 10, 1, 10, 4, 10, 14, 13, 14, 11, 17, 6, 2, 16, 9, 7, 5, 15, 12, 1]\n"
     ]
    }
   ],
   "source": [
    "print('depth-first search tree', vert_seq)"
   ]
  },
  {
   "cell_type": "code",
   "execution_count": 36,
   "id": "843dc661",
   "metadata": {},
   "outputs": [
    {
     "name": "stdout",
     "output_type": "stream",
     "text": [
      "depth-first search tree length 35\n"
     ]
    }
   ],
   "source": [
    "print('depth-first search tree length',len(vert_seq))"
   ]
  },
  {
   "cell_type": "markdown",
   "id": "fb943734",
   "metadata": {},
   "source": [
    "# Step 3. Removing repetitions"
   ]
  },
  {
   "cell_type": "code",
   "execution_count": 37,
   "id": "276f2ace",
   "metadata": {
    "scrolled": true
   },
   "outputs": [],
   "source": [
    "def remove_repetitions(vert_seq, N_new):\n",
    "\n",
    "    vert_seq_copy=vert_seq.copy()\n",
    "    cnt=Counter(vert_seq_copy)\n",
    "\n",
    "    removed=0\n",
    "    l=len(vert_seq_copy)\n",
    "    pos=random.randint(0,l-1)\n",
    "    f = random.choice([-1,1])\n",
    "\n",
    "    while removed<N_new+1:\n",
    "\n",
    "        if cnt[vert_seq_copy[pos]]>1:\n",
    "            cnt[vert_seq_copy[pos]]-=1\n",
    "            vert_seq_copy[pos]=0        \n",
    "            removed+=1\n",
    "\n",
    "        pos+=f\n",
    "        if pos<0:\n",
    "            pos=l-1\n",
    "\n",
    "        if pos>l-1:\n",
    "            pos=0\n",
    "        \n",
    "    return vert_seq_copy\n",
    "        "
   ]
  },
  {
   "cell_type": "code",
   "execution_count": 38,
   "id": "b83be120",
   "metadata": {},
   "outputs": [],
   "source": [
    "vert_seq_copy=remove_repetitions(vert_seq, N_new)"
   ]
  },
  {
   "cell_type": "code",
   "execution_count": 39,
   "id": "414c803e",
   "metadata": {},
   "outputs": [
    {
     "name": "stdout",
     "output_type": "stream",
     "text": [
      "before [1, 12, 15, 5, 7, 9, 16, 2, 3, 8, 3, 2, 6, 17, 11, 14, 10, 1, 10, 4, 10, 14, 13, 14, 11, 17, 6, 2, 16, 9, 7, 5, 15, 12, 1]\n"
     ]
    }
   ],
   "source": [
    "print('before', vert_seq)"
   ]
  },
  {
   "cell_type": "code",
   "execution_count": 40,
   "id": "477059a9",
   "metadata": {},
   "outputs": [
    {
     "name": "stdout",
     "output_type": "stream",
     "text": [
      "after removing repetitions [0, 0, 0, 0, 0, 0, 0, 0, 3, 8, 0, 0, 0, 17, 11, 14, 10, 0, 0, 4, 0, 0, 13, 0, 0, 0, 6, 2, 16, 9, 7, 5, 15, 12, 1]\n"
     ]
    }
   ],
   "source": [
    "print('after removing repetitions',vert_seq_copy)"
   ]
  },
  {
   "cell_type": "code",
   "execution_count": 41,
   "id": "e3e56db1",
   "metadata": {},
   "outputs": [],
   "source": [
    "def clean_zeros(arr):\n",
    "\n",
    "    ans=[]\n",
    "    l=len(arr)\n",
    "\n",
    "    fl=True\n",
    "\n",
    "    for i in range(0,l):\n",
    "\n",
    "        if arr[i]!=0:\n",
    "            fl=True\n",
    "            ans.append(arr[i])\n",
    "        else:\n",
    "            if fl:\n",
    "                ans.append(0)\n",
    "\n",
    "            fl=False\n",
    "            \n",
    "    if ans[0]==ans[-1]:\n",
    "        ans.pop(0)\n",
    "            \n",
    "    return ans\n",
    "    "
   ]
  },
  {
   "cell_type": "code",
   "execution_count": 42,
   "id": "0c162fde",
   "metadata": {},
   "outputs": [],
   "source": [
    "vert_after_cleaning_zeros=clean_zeros(vert_seq_copy)"
   ]
  },
  {
   "cell_type": "code",
   "execution_count": 43,
   "id": "fa06d8ac",
   "metadata": {
    "scrolled": true
   },
   "outputs": [
    {
     "name": "stdout",
     "output_type": "stream",
     "text": [
      "after cleaning zeros [0, 3, 8, 0, 17, 11, 14, 10, 0, 4, 0, 13, 0, 6, 2, 16, 9, 7, 5, 15, 12, 1]\n"
     ]
    }
   ],
   "source": [
    "print('after cleaning zeros', vert_after_cleaning_zeros)"
   ]
  },
  {
   "cell_type": "code",
   "execution_count": 44,
   "id": "0215940f",
   "metadata": {
    "scrolled": true
   },
   "outputs": [
    {
     "data": {
      "text/plain": [
       "[[],\n",
       " [(10, 7.076923076923078e-05), (12, 8e-05), (15, 8.820512820512821e-05)],\n",
       " [(3, 6.476190476190476e-05),\n",
       "  (6, 5.2000000000000004e-05),\n",
       "  (13, 9.333333333333334e-05),\n",
       "  (16, 4.617886178861789e-05)],\n",
       " [(2, 5.166666666666667e-05),\n",
       "  (5, 7.999999999999999e-05),\n",
       "  (8, 0.00010666666666666667)],\n",
       " [(6, 5.2000000000000004e-05), (10, 7.076923076923078e-05)],\n",
       " [(3, 6.476190476190476e-05),\n",
       "  (7, 9.333333333333334e-05),\n",
       "  (15, 0.00010153846153846153),\n",
       "  (16, 5.9512195121951225e-05)],\n",
       " [(2, 4.5e-05),\n",
       "  (4, 8.153846153846153e-05),\n",
       "  (10, 5.7435897435897434e-05),\n",
       "  (17, 0.00012000000000000002)],\n",
       " [(5, 9.333333333333334e-05),\n",
       "  (9, 0.00024),\n",
       "  (11, 7.333333333333334e-05),\n",
       "  (16, 5.9512195121951225e-05)],\n",
       " [(3, 6.476190476190476e-05), (16, 3.951219512195122e-05)],\n",
       " [(7, 9.333333333333334e-05), (16, 5.9512195121951225e-05)],\n",
       " [(4, 0.00010153846153846153),\n",
       "  (6, 5.8666666666666665e-05),\n",
       "  (11, 7.333333333333334e-05),\n",
       "  (14, 9.714285714285714e-05),\n",
       "  (1, 8.210526315789474e-05)],\n",
       " [(7, 9.333333333333334e-05),\n",
       "  (10, 7.076923076923078e-05),\n",
       "  (13, 0.00010666666666666667),\n",
       "  (14, 7.714285714285714e-05),\n",
       "  (16, 3.951219512195122e-05),\n",
       "  (17, 0.0001)],\n",
       " [(14, 9.714285714285714e-05),\n",
       "  (15, 8.820512820512821e-05),\n",
       "  (1, 8.210526315789474e-05),\n",
       "  (17, 0.0001)],\n",
       " [(2, 5.166666666666667e-05),\n",
       "  (11, 7.333333333333334e-05),\n",
       "  (14, 7.714285714285714e-05)],\n",
       " [(10, 7.076923076923078e-05),\n",
       "  (11, 5.333333333333333e-05),\n",
       "  (12, 8e-05),\n",
       "  (13, 8.666666666666667e-05)],\n",
       " [(5, 9.333333333333334e-05),\n",
       "  (12, 6.666666666666667e-05),\n",
       "  (1, 6.87719298245614e-05)],\n",
       " [(2, 5.166666666666667e-05),\n",
       "  (5, 9.333333333333334e-05),\n",
       "  (7, 9.333333333333334e-05),\n",
       "  (8, 0.0001),\n",
       "  (9, 0.00024),\n",
       "  (11, 5.333333333333333e-05)],\n",
       " [(6, 7.2e-05), (11, 5.333333333333333e-05), (12, 6.000000000000001e-05)]]"
      ]
     },
     "execution_count": 44,
     "metadata": {},
     "output_type": "execute_result"
    }
   ],
   "source": [
    "con_new"
   ]
  },
  {
   "cell_type": "code",
   "execution_count": 45,
   "id": "68e1b4ea",
   "metadata": {},
   "outputs": [],
   "source": [
    "adj_new=[set([j for j,_ in con_new[i]]) for i in range(len(con_new))]"
   ]
  },
  {
   "cell_type": "code",
   "execution_count": 46,
   "id": "51fe9ace",
   "metadata": {
    "scrolled": false
   },
   "outputs": [
    {
     "data": {
      "text/plain": [
       "[set(),\n",
       " {10, 12, 15},\n",
       " {3, 6, 13, 16},\n",
       " {2, 5, 8},\n",
       " {6, 10},\n",
       " {3, 7, 15, 16},\n",
       " {2, 4, 10, 17},\n",
       " {5, 9, 11, 16},\n",
       " {3, 16},\n",
       " {7, 16},\n",
       " {1, 4, 6, 11, 14},\n",
       " {7, 10, 13, 14, 16, 17},\n",
       " {1, 14, 15, 17},\n",
       " {2, 11, 14},\n",
       " {10, 11, 12, 13},\n",
       " {1, 5, 12},\n",
       " {2, 5, 7, 8, 9, 11},\n",
       " {6, 11, 12}]"
      ]
     },
     "execution_count": 46,
     "metadata": {},
     "output_type": "execute_result"
    }
   ],
   "source": [
    "adj_new"
   ]
  },
  {
   "cell_type": "code",
   "execution_count": 47,
   "id": "c4f37e23",
   "metadata": {},
   "outputs": [
    {
     "data": {
      "text/plain": [
       "[0, 3, 8, 0, 17, 11, 14, 10, 0, 4, 0, 13, 0, 6, 2, 16, 9, 7, 5, 15, 12, 1]"
      ]
     },
     "execution_count": 47,
     "metadata": {},
     "output_type": "execute_result"
    }
   ],
   "source": [
    "vert_after_cleaning_zeros"
   ]
  },
  {
   "cell_type": "code",
   "execution_count": 48,
   "id": "7717661a",
   "metadata": {},
   "outputs": [],
   "source": [
    "final_vert=[]\n",
    "l=len(vert_after_cleaning_zeros)\n",
    "\n",
    "for i in range(l-1):\n",
    "\n",
    "    if not vert_after_cleaning_zeros[i] and vert_after_cleaning_zeros[i-1] in adj_new[vert_after_cleaning_zeros[i+1]]:\n",
    "        continue\n",
    "        \n",
    "    final_vert.append(vert_after_cleaning_zeros[i])"
   ]
  },
  {
   "cell_type": "code",
   "execution_count": 49,
   "id": "e92941b7",
   "metadata": {},
   "outputs": [
    {
     "name": "stdout",
     "output_type": "stream",
     "text": [
      "before final removal [0, 3, 8, 0, 17, 11, 14, 10, 0, 4, 0, 13, 0, 6, 2, 16, 9, 7, 5, 15, 12, 1]\n"
     ]
    }
   ],
   "source": [
    "print('before final removal',vert_after_cleaning_zeros)"
   ]
  },
  {
   "cell_type": "code",
   "execution_count": 50,
   "id": "df466ae3",
   "metadata": {},
   "outputs": [
    {
     "name": "stdout",
     "output_type": "stream",
     "text": [
      "after removing extra zeros between connected consecutive vertices [0, 3, 8, 0, 17, 11, 14, 10, 4, 0, 13, 0, 6, 2, 16, 9, 7, 5, 15, 12]\n"
     ]
    }
   ],
   "source": [
    "print('after removing extra zeros between connected consecutive vertices', final_vert)"
   ]
  },
  {
   "cell_type": "markdown",
   "id": "74636ca8",
   "metadata": {},
   "source": [
    "# Step 4. Dynamic programming"
   ]
  },
  {
   "cell_type": "code",
   "execution_count": 53,
   "id": "6e08ba8c",
   "metadata": {},
   "outputs": [],
   "source": [
    "B_len=len(final_vert)"
   ]
  },
  {
   "cell_type": "code",
   "execution_count": 54,
   "id": "14795815",
   "metadata": {},
   "outputs": [],
   "source": [
    "f = np.array([-np.inf]*n_max*d_max*B_len)"
   ]
  },
  {
   "cell_type": "code",
   "execution_count": 55,
   "id": "4792879e",
   "metadata": {},
   "outputs": [],
   "source": [
    "f=f.reshape(n_max,d_max,B_len)"
   ]
  },
  {
   "cell_type": "code",
   "execution_count": 58,
   "id": "b320f05c",
   "metadata": {},
   "outputs": [],
   "source": [
    "prev= np.zeros((n_max,d_max,B_len))"
   ]
  },
  {
   "cell_type": "code",
   "execution_count": null,
   "id": "028c92b8",
   "metadata": {},
   "outputs": [],
   "source": [
    "def cluster_estimation(i,j):\n",
    "    \n",
    "    \n",
    "    "
   ]
  },
  {
   "cell_type": "code",
   "execution_count": 60,
   "id": "6b21e6eb",
   "metadata": {},
   "outputs": [],
   "source": [
    "def on_boundary(x, clust):\n",
    "    \n",
    "    for y in adj_new[x]:\n",
    "        if not y in clust:\n",
    "            return True\n",
    "        \n",
    "    return False"
   ]
  },
  {
   "cell_type": "code",
   "execution_count": 59,
   "id": "cd93eaa4",
   "metadata": {},
   "outputs": [
    {
     "ename": "NameError",
     "evalue": "name 'cluster_estimation' is not defined",
     "output_type": "error",
     "traceback": [
      "\u001b[1;31m---------------------------------------------------------------------------\u001b[0m",
      "\u001b[1;31mNameError\u001b[0m                                 Traceback (most recent call last)",
      "\u001b[1;32m<ipython-input-59-65cb58c3a044>\u001b[0m in \u001b[0;36m<module>\u001b[1;34m\u001b[0m\n\u001b[0;32m      7\u001b[0m                     \u001b[1;32mbreak\u001b[0m\u001b[1;33m\u001b[0m\u001b[1;33m\u001b[0m\u001b[0m\n\u001b[0;32m      8\u001b[0m \u001b[1;33m\u001b[0m\u001b[0m\n\u001b[1;32m----> 9\u001b[1;33m                 \u001b[1;32mif\u001b[0m \u001b[0mf\u001b[0m\u001b[1;33m[\u001b[0m\u001b[0mi\u001b[0m\u001b[1;33m]\u001b[0m\u001b[1;33m[\u001b[0m\u001b[0mj\u001b[0m\u001b[1;33m]\u001b[0m\u001b[1;33m[\u001b[0m\u001b[0mk\u001b[0m\u001b[1;33m]\u001b[0m\u001b[1;33m<\u001b[0m\u001b[0mcluster_estimation\u001b[0m\u001b[1;33m(\u001b[0m\u001b[0mj\u001b[0m\u001b[1;33m-\u001b[0m\u001b[0ml\u001b[0m\u001b[1;33m+\u001b[0m\u001b[1;36m1\u001b[0m\u001b[1;33m,\u001b[0m\u001b[0mj\u001b[0m\u001b[1;33m)\u001b[0m \u001b[1;33m+\u001b[0m \u001b[0mf\u001b[0m\u001b[1;33m[\u001b[0m\u001b[0mi\u001b[0m\u001b[1;33m]\u001b[0m\u001b[1;33m[\u001b[0m\u001b[0mj\u001b[0m\u001b[1;33m-\u001b[0m\u001b[0ml\u001b[0m\u001b[1;33m]\u001b[0m\u001b[1;33m[\u001b[0m\u001b[0mk\u001b[0m\u001b[1;33m-\u001b[0m\u001b[1;36m1\u001b[0m\u001b[1;33m]\u001b[0m\u001b[1;33m:\u001b[0m\u001b[1;33m\u001b[0m\u001b[1;33m\u001b[0m\u001b[0m\n\u001b[0m\u001b[0;32m     10\u001b[0m                     \u001b[0mf\u001b[0m\u001b[1;33m[\u001b[0m\u001b[0mi\u001b[0m\u001b[1;33m]\u001b[0m\u001b[1;33m[\u001b[0m\u001b[0mj\u001b[0m\u001b[1;33m]\u001b[0m\u001b[1;33m[\u001b[0m\u001b[0mk\u001b[0m\u001b[1;33m]\u001b[0m\u001b[1;33m=\u001b[0m\u001b[0mcluster_estimation\u001b[0m\u001b[1;33m(\u001b[0m\u001b[0mj\u001b[0m\u001b[1;33m-\u001b[0m\u001b[0ml\u001b[0m\u001b[1;33m+\u001b[0m\u001b[1;36m1\u001b[0m\u001b[1;33m,\u001b[0m\u001b[0mj\u001b[0m\u001b[1;33m)\u001b[0m \u001b[1;33m+\u001b[0m \u001b[0mf\u001b[0m\u001b[1;33m[\u001b[0m\u001b[0mi\u001b[0m\u001b[1;33m]\u001b[0m\u001b[1;33m[\u001b[0m\u001b[0mj\u001b[0m\u001b[1;33m-\u001b[0m\u001b[0ml\u001b[0m\u001b[1;33m]\u001b[0m\u001b[1;33m[\u001b[0m\u001b[0mk\u001b[0m\u001b[1;33m-\u001b[0m\u001b[1;36m1\u001b[0m\u001b[1;33m]\u001b[0m\u001b[1;33m\u001b[0m\u001b[1;33m\u001b[0m\u001b[0m\n\u001b[0;32m     11\u001b[0m                     \u001b[0mprev\u001b[0m\u001b[1;33m[\u001b[0m\u001b[0mi\u001b[0m\u001b[1;33m]\u001b[0m\u001b[1;33m[\u001b[0m\u001b[0mj\u001b[0m\u001b[1;33m]\u001b[0m\u001b[1;33m[\u001b[0m\u001b[0mk\u001b[0m\u001b[1;33m]\u001b[0m\u001b[1;33m=\u001b[0m\u001b[0mj\u001b[0m\u001b[1;33m-\u001b[0m\u001b[0ml\u001b[0m\u001b[1;33m\u001b[0m\u001b[1;33m\u001b[0m\u001b[0m\n",
      "\u001b[1;31mNameError\u001b[0m: name 'cluster_estimation' is not defined"
     ]
    }
   ],
   "source": [
    "for k in range(1,n_max+1):\n",
    "    for i in range(1,d_max+1):\n",
    "\n",
    "        clust=set()\n",
    "        out_edges=[]\n",
    "        bound_clust_sum=0\n",
    "        \n",
    "        for j in range(i+k-1,i+B_len-1):\n",
    "            for l in range(max(j-i-k+2,d_max),0,-1):\n",
    "                \n",
    "                if final_vert[j-l+1] == 0:\n",
    "                    break\n",
    "                    \n",
    "                clust.add(final_vert[j-l+1])\n",
    "                \n",
    "                if on_boundary(final_vert[j-l+1], clust):\n",
    "                    bound_clust_sum+=final_vert[j-l+1]\n",
    "                    \n",
    "                if bound_clust_sum<theta*sum_D:\n",
    "                    continue\n",
    "                \n",
    "                if f[i][j][k]<cluster_estimation(j-l+1,j) + f[i][j-l][k-1]:\n",
    "                    f[i][j][k]=cluster_estimation(j-l+1,j) + f[i][j-l][k-1]\n",
    "                    prev[i][j][k]=j-l\n",
    "                    "
   ]
  },
  {
   "cell_type": "code",
   "execution_count": null,
   "id": "5721d4a3",
   "metadata": {},
   "outputs": [],
   "source": []
  }
 ],
 "metadata": {
  "kernelspec": {
   "display_name": "Python 3",
   "language": "python",
   "name": "python3"
  },
  "language_info": {
   "codemirror_mode": {
    "name": "ipython",
    "version": 3
   },
   "file_extension": ".py",
   "mimetype": "text/x-python",
   "name": "python",
   "nbconvert_exporter": "python",
   "pygments_lexer": "ipython3",
   "version": "3.7.10"
  }
 },
 "nbformat": 4,
 "nbformat_minor": 5
}
