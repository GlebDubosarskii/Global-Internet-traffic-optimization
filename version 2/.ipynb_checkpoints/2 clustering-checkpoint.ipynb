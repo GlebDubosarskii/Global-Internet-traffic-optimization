{
 "cells": [
  {
   "cell_type": "code",
   "execution_count": 1,
   "id": "2bb081d5",
   "metadata": {},
   "outputs": [],
   "source": [
    "from tools import *\n",
    "from random import shuffle\n",
    "import networkx as nx\n",
    "import random\n",
    "from collections import Counter\n",
    "import numpy as np"
   ]
  },
  {
   "cell_type": "code",
   "execution_count": 2,
   "id": "829c256f",
   "metadata": {},
   "outputs": [],
   "source": [
    "theta=0.5 # parameter in clustering algorithm conditions\n",
    "n_max=10 #maximum amount of clusters\n",
    "n_min=5 #minimum amount of clusters\n",
    "d_max=3 #maximum cluster size\n",
    "\n",
    "N=20 #router number\n",
    "m=3 #shortest path number\n",
    "sim_num=1\n",
    "memsize=10000 #in mb\n",
    "min_vert_degree=2 #min vertex degree\n",
    "router_rate_reduction=[0.2,0.5] #router max data rate reduction range in comparisson with the maximum demand from the links\n",
    "router_delay_coefficient=8 #defines delay time while the package passing through router\n",
    "link_delay_coefficient=4 #defines delay time while the package passing through link\n",
    "\n",
    "file_name_full_graph='full_graph_{}_{}.txt'.format(N,sim_num)\n",
    "file_network='network_{}_{}.txt'.format(N,sim_num)"
   ]
  },
  {
   "cell_type": "code",
   "execution_count": 3,
   "id": "fd07e773",
   "metadata": {},
   "outputs": [],
   "source": [
    "T=2\n",
    "p=2\n",
    "nmax=5\n",
    "mmin=2"
   ]
  },
  {
   "cell_type": "markdown",
   "id": "06492cbc",
   "metadata": {},
   "source": [
    "# Reading graph from a file"
   ]
  },
  {
   "cell_type": "code",
   "execution_count": 4,
   "id": "aa675db6",
   "metadata": {},
   "outputs": [],
   "source": [
    "N, con, edges = ReadGraph(file_name_full_graph)"
   ]
  },
  {
   "cell_type": "code",
   "execution_count": 5,
   "id": "af9a4c9e",
   "metadata": {
    "scrolled": false
   },
   "outputs": [
    {
     "name": "stdout",
     "output_type": "stream",
     "text": [
      "connectivity list [[(12, 7.478260869565217e-05), (13, 5.333333333333333e-05), (17, 9e-05)], [(16, 9.714285714285714e-05), (17, 7.666666666666667e-05)], [(14, 9.333333333333334e-05), (19, 7.372549019607843e-05)], [(5, 7.666666666666667e-05), (9, 0.00014000000000000001), (10, 0.00024)], [(4, 0.00014095238095238096), (13, 7.333333333333334e-05), (16, 9.714285714285714e-05)], [(7, 7.372549019607843e-05)], [(6, 0.00022666666666666668), (9, 0.00012666666666666666), (11, 7.999999999999999e-05), (14, 9.333333333333334e-05)], [(11, 9.333333333333334e-05), (12, 6.144927536231884e-05), (18, 0.00010153846153846153), (19, 8.705882352941177e-05)], [(4, 0.00015428571428571428), (7, 7.372549019607843e-05), (18, 8.820512820512821e-05)], [(4, 0.00015428571428571428)], [(7, 7.372549019607843e-05), (8, 9.333333333333334e-05), (16, 9.714285714285714e-05)], [(1, 8.210526315789474e-05), (8, 7.999999999999999e-05), (14, 7.999999999999999e-05), (20, 8.666666666666667e-05)], [(1, 6.210526315789474e-05), (5, 9e-05), (19, 6.705882352941177e-05), (20, 0.00010666666666666667)], [(3, 0.00014000000000000001), (7, 8.705882352941177e-05), (12, 6.144927536231884e-05), (16, 9.714285714285714e-05), (20, 9.333333333333334e-05)], [(18, 0.00010153846153846153)], [(2, 0.00014000000000000001), (5, 9e-05), (11, 9.333333333333334e-05), (14, 9.333333333333334e-05)], [(1, 8.210526315789474e-05), (2, 0.00012666666666666666), (19, 7.372549019607843e-05)], [(8, 9.333333333333334e-05), (9, 0.00012666666666666666), (15, 0.00024)], [(3, 0.00012666666666666666), (8, 9.333333333333334e-05), (13, 5.333333333333333e-05), (17, 7.666666666666667e-05)], [(12, 5.478260869565217e-05), (13, 7.333333333333334e-05), (14, 7.999999999999999e-05)]]\n"
     ]
    }
   ],
   "source": [
    "print('connectivity list', con[1:])"
   ]
  },
  {
   "cell_type": "code",
   "execution_count": 6,
   "id": "f0150322",
   "metadata": {},
   "outputs": [
    {
     "name": "stdout",
     "output_type": "stream",
     "text": [
      "graph edges [(1, 12, 7.478260869565217e-05), (12, 1, 8.210526315789474e-05), (1, 13, 5.333333333333333e-05), (13, 1, 6.210526315789474e-05), (1, 17, 9e-05), (17, 1, 8.210526315789474e-05), (2, 16, 9.714285714285714e-05), (16, 2, 0.00014000000000000001), (2, 17, 7.666666666666667e-05), (17, 2, 0.00012666666666666666), (3, 14, 9.333333333333334e-05), (14, 3, 0.00014000000000000001), (3, 19, 7.372549019607843e-05), (19, 3, 0.00012666666666666666), (4, 5, 7.666666666666667e-05), (5, 4, 0.00014095238095238096), (4, 9, 0.00014000000000000001), (9, 4, 0.00015428571428571428), (4, 10, 0.00024), (10, 4, 0.00015428571428571428), (5, 13, 7.333333333333334e-05), (13, 5, 9e-05), (5, 16, 9.714285714285714e-05), (16, 5, 9e-05), (6, 7, 7.372549019607843e-05), (7, 6, 0.00022666666666666668), (7, 9, 0.00012666666666666666), (9, 7, 7.372549019607843e-05), (7, 11, 7.999999999999999e-05), (11, 7, 7.372549019607843e-05), (7, 14, 9.333333333333334e-05), (14, 7, 8.705882352941177e-05), (8, 11, 9.333333333333334e-05), (11, 8, 9.333333333333334e-05), (8, 12, 6.144927536231884e-05), (12, 8, 7.999999999999999e-05), (8, 18, 0.00010153846153846153), (18, 8, 9.333333333333334e-05), (8, 19, 8.705882352941177e-05), (19, 8, 9.333333333333334e-05), (9, 18, 8.820512820512821e-05), (18, 9, 0.00012666666666666666), (11, 16, 9.714285714285714e-05), (16, 11, 9.333333333333334e-05), (12, 14, 7.999999999999999e-05), (14, 12, 6.144927536231884e-05), (12, 20, 8.666666666666667e-05), (20, 12, 5.478260869565217e-05), (13, 19, 6.705882352941177e-05), (19, 13, 5.333333333333333e-05), (13, 20, 0.00010666666666666667), (20, 13, 7.333333333333334e-05), (14, 16, 9.714285714285714e-05), (16, 14, 9.333333333333334e-05), (14, 20, 9.333333333333334e-05), (20, 14, 7.999999999999999e-05), (15, 18, 0.00010153846153846153), (18, 15, 0.00024), (17, 19, 7.372549019607843e-05), (19, 17, 7.666666666666667e-05)]\n"
     ]
    }
   ],
   "source": [
    "print('graph edges',edges)"
   ]
  },
  {
   "cell_type": "markdown",
   "id": "1beb835f",
   "metadata": {},
   "source": [
    "# Reading network from a file"
   ]
  },
  {
   "cell_type": "code",
   "execution_count": 7,
   "id": "4cc4ac1f",
   "metadata": {},
   "outputs": [],
   "source": [
    "router_data_rate, D, con_U, U = ReadNetwork(file_network)"
   ]
  },
  {
   "cell_type": "code",
   "execution_count": 8,
   "id": "f8e32c06",
   "metadata": {
    "scrolled": true
   },
   "outputs": [
    {
     "name": "stdout",
     "output_type": "stream",
     "text": [
      "Router data rates [0, 190000.0, 80000.0, 80000.0, 70000.0, 160000.0, 40000.0, 170000.0, 150000.0, 80000.0, 40000.0, 150000.0, 230000.0, 240000.0, 150000.0, 40000.0, 140000.0, 160000.0, 130000.0, 170000.0, 120000.0]\n"
     ]
    }
   ],
   "source": [
    "print('Router data rates', router_data_rate)"
   ]
  },
  {
   "cell_type": "code",
   "execution_count": 9,
   "id": "f56f828e",
   "metadata": {},
   "outputs": [
    {
     "name": "stdout",
     "output_type": "stream",
     "text": [
      "Data stream between nodes per second [0, [0, 32.8125, 23.314144736842106, 23.314144736842106, 22.45065789473684, 20.773032760069384, 2.837171052631579, 31.08552631578947, 24.055140814282424, 16.631913324131155, 2.837171052631579, 29.358552631578945, 36.26644736842105, 5.534368487827237, 29.358552631578945, 19.692321012810822, 28.49506578947368, 30.22203947368421, 27.631578947368418, 31.08552631578947, 26.768092105263158], [0, 13.746195813615472, 13.815789473684209, 13.815789473684209, 12.952302631578945, 20.723684210526315, 10.361842105263158, 3.0838815789473686, 9.048749866503695, 13.815789473684209, 6.7536422283780215, 19.86019736842105, 26.768092105263158, 27.631578947368418, 12.295952899764295, 10.361842105263158, 18.996710526315788, 20.723684210526315, 18.133223684210524, 21.58717105263158, 2.467105263157895], [0, 3.3305921052631584, 13.815789473684209, 13.815789473684209, 12.952302631578945, 20.723684210526315, 10.361842105263158, 21.58717105263158, 19.86019736842105, 13.815789473684209, 10.361842105263158, 17.03650980934534, 26.768092105263158, 27.631578947368418, 19.86019736842105, 10.361842105263158, 18.996710526315788, 6.442139253564772, 18.133223684210524, 21.58717105263158, 2.467105263157895], [0, 22.080818377561982, 12.109238681960178, 8.63525144245339, 9.529462593633859, 19.86019736842105, 9.498355263157894, 20.723684210526315, 10.031777020808452, 12.952302631578945, 9.498355263157894, 2.7138157894736845, 18.542541844777208, 26.768092105263158, 18.996710526315788, 9.498355263157894, 2.5904605263157894, 19.86019736842105, 17.269736842105264, 20.723684210526315, 16.40625], [0, 30.22203947368421, 19.259050768741098, 20.723684210526315, 19.86019736842105, 27.631578947368418, 17.269736842105264, 24.478782378046457, 26.768092105263158, 20.723684210526315, 17.269736842105264, 26.768092105263158, 33.67598684210526, 34.53947368421053, 14.54756623629827, 17.269736842105264, 21.51384895242902, 27.631578947368418, 8.299442297818722, 28.49506578947368, 24.177631578947366], [0, 19.86019736842105, 10.361842105263158, 10.361842105263158, 9.498355263157894, 17.269736842105264, 6.907894736842104, 8.137649344348656, 16.40625, 10.361842105263158, 6.907894736842104, 3.533651979293168, 23.314144736842106, 24.177631578947366, 16.40625, 6.907894736842104, 15.542763157894735, 16.43293229789709, 7.627377404958436, 18.133223684210524, 13.00387500818615], [0, 31.08552631578947, 21.58717105263158, 21.58717105263158, 20.723684210526315, 28.49506578947368, 18.133223684210524, 29.358552631578945, 27.631578947368418, 21.58717105263158, 18.133223684210524, 27.631578947368418, 34.53947368421053, 35.40296052631579, 27.631578947368418, 18.133223684210524, 3.824013157894737, 28.49506578947368, 25.90460526315789, 29.358552631578945, 25.04111842105263], [0, 27.01167197911823, 19.86019736842105, 19.86019736842105, 9.723606115885353, 26.768092105263158, 2.34375, 27.631578947368418, 25.90460526315789, 16.336378966142092, 16.40625, 25.90460526315789, 32.8125, 9.134095429544033, 25.90460526315789, 16.40625, 25.04111842105263, 26.768092105263158, 3.453947368421053, 27.631578947368418, 23.314144736842106], [0, 23.314144736842106, 13.815789473684209, 13.815789473684209, 10.301713404676295, 20.723684210526315, 1.480263157894737, 21.58717105263158, 19.86019736842105, 13.815789473684209, 10.361842105263158, 19.86019736842105, 26.768092105263158, 27.631578947368418, 2.837171052631579, 3.201638192409792, 17.934610700393794, 20.723684210526315, 18.133223684210524, 3.0838815789473686, 13.4508501177817], [0, 19.86019736842105, 10.361842105263158, 10.361842105263158, 9.498355263157894, 17.269736842105264, 6.4211845135149765, 18.133223684210524, 16.40625, 10.361842105263158, 6.907894736842104, 16.40625, 22.440121519932283, 24.177631578947366, 16.40625, 6.907894736842104, 2.2203947368421053, 17.269736842105264, 14.679276315789473, 18.133223684210524, 13.815789473684209], [0, 29.358552631578945, 19.86019736842105, 2.837171052631579, 18.996710526315788, 26.768092105263158, 16.40625, 13.490507522895715, 25.90460526315789, 15.934383304658539, 16.40625, 25.90460526315789, 26.05514042333401, 33.67598684210526, 17.109146851503912, 16.40625, 25.04111842105263, 3.824013157894737, 24.177631578947366, 12.527765188255579, 12.497083849744016], [0, 36.26644736842105, 26.768092105263158, 23.507396375993885, 25.90460526315789, 33.67598684210526, 23.314144736842106, 34.53947368421053, 12.299453545221397, 3.824013157894737, 23.314144736842106, 32.8125, 39.7203947368421, 40.58388157894737, 12.223205032330796, 23.314144736842106, 31.949013157894736, 33.67598684210526, 31.08552631578947, 4.93421052631579, 30.22203947368421], [0, 5.304276315789474, 10.084279467516133, 27.631578947368418, 26.768092105263158, 34.53947368421053, 24.177631578947366, 35.40296052631579, 33.67598684210526, 27.631578947368418, 24.177631578947366, 33.67598684210526, 40.58388157894737, 5.921052631578948, 33.67598684210526, 24.177631578947366, 32.8125, 33.062887472108606, 31.949013157894736, 5.057565789473685, 20.3780131502383], [0, 4.194078947368421, 17.24340873322644, 9.981933824152406, 16.6048435511559, 26.768092105263158, 16.40625, 21.486042966421962, 25.90460526315789, 19.86019736842105, 16.40625, 3.700657894736842, 32.8125, 33.67598684210526, 25.90460526315789, 16.40625, 25.04111842105263, 26.768092105263158, 24.177631578947366, 27.631578947368418, 23.314144736842106], [0, 5.152559668368063, 1.480263157894737, 10.361842105263158, 1.3569078947368423, 17.269736842105264, 0.986842105263158, 18.133223684210524, 16.40625, 10.361842105263158, 6.907894736842104, 16.40625, 23.314144736842106, 24.177631578947366, 15.952548521058404, 6.61120889815944, 15.542763157894735, 17.269736842105264, 14.679276315789473, 18.133223684210524, 13.815789473684209], [0, 28.49506578947368, 7.961864047571705, 2.7138157894736845, 18.133223684210524, 3.700657894736842, 6.513498307201475, 26.768092105263158, 14.690420838303169, 2.7138157894736845, 2.2203947368421053, 25.04111842105263, 31.949013157894736, 4.6875, 25.04111842105263, 15.542763157894735, 19.40336626254757, 25.90460526315789, 21.23075731059525, 26.768092105263158, 7.591585579285095], [0, 30.22203947368421, 20.723684210526315, 20.723684210526315, 19.86019736842105, 27.631578947368418, 17.269736842105264, 21.90377940048432, 3.824013157894737, 20.723684210526315, 17.269736842105264, 25.371085671358948, 33.67598684210526, 34.53947368421053, 26.768092105263158, 17.269736842105264, 25.90460526315789, 27.631578947368418, 25.04111842105263, 28.49506578947368, 24.177631578947366], [0, 24.19072622646759, 4.931387447902008, 18.133223684210524, 17.269736842105264, 25.04111842105263, 14.679276315789473, 25.667002934833448, 24.177631578947366, 11.642730735893265, 14.679276315789473, 24.177631578947366, 4.440789473684211, 31.949013157894736, 3.453947368421053, 14.679276315789473, 23.314144736842106, 25.04111842105263, 22.45065789473684, 3.700657894736842, 21.58717105263158], [0, 31.08552631578947, 18.890590394674383, 21.58717105263158, 20.723684210526315, 28.49506578947368, 18.133223684210524, 29.358552631578945, 8.079812643567461, 21.58717105263158, 18.133223684210524, 27.631578947368418, 34.53947368421053, 35.40296052631579, 27.631578947368418, 18.133223684210524, 26.768092105263158, 13.770373114545013, 25.90460526315789, 29.358552631578945, 25.04111842105263], [0, 26.768092105263158, 17.269736842105264, 17.269736842105264, 16.40625, 3.453947368421053, 1.973684210526316, 25.04111842105263, 14.35312683652624, 17.269736842105264, 13.815789473684209, 12.126280276547078, 16.186349552750343, 31.08552631578947, 23.314144736842106, 13.815789473684209, 11.959340673104197, 24.177631578947366, 21.58717105263158, 14.537420715765322, 20.723684210526315]]\n"
     ]
    }
   ],
   "source": [
    "print('Data stream between nodes per second', D)"
   ]
  },
  {
   "cell_type": "code",
   "execution_count": 10,
   "id": "c9e26143",
   "metadata": {
    "scrolled": true
   },
   "outputs": [
    {
     "name": "stdout",
     "output_type": "stream",
     "text": [
      "Link capacity connectivity list [[(12, 100000.0), (13, 200000.0), (17, 100000.0)], [(16, 100000.0), (17, 150000.0)], [(14, 100000.0), (19, 150000.0)], [(5, 150000.0), (9, 100000.0), (10, 100000.0)], [(4, 150000.0), (13, 100000.0), (16, 100000.0)], [(7, 150000.0)], [(6, 150000.0), (9, 150000.0), (11, 150000.0), (14, 100000.0)], [(11, 100000.0), (12, 150000.0), (18, 100000.0), (19, 100000.0)], [(4, 100000.0), (7, 150000.0), (18, 150000.0)], [(4, 100000.0)], [(7, 150000.0), (8, 100000.0), (16, 100000.0)], [(1, 100000.0), (8, 150000.0), (14, 150000.0), (20, 200000.0)], [(1, 200000.0), (5, 100000.0), (19, 200000.0), (20, 100000.0)], [(3, 100000.0), (7, 100000.0), (12, 150000.0), (16, 100000.0), (20, 150000.0)], [(18, 100000.0)], [(2, 100000.0), (5, 100000.0), (11, 100000.0), (14, 100000.0)], [(1, 100000.0), (2, 150000.0), (19, 150000.0)], [(8, 100000.0), (9, 150000.0), (15, 100000.0)], [(3, 150000.0), (8, 100000.0), (13, 200000.0), (17, 150000.0)], [(12, 200000.0), (13, 100000.0), (14, 150000.0)]]\n"
     ]
    }
   ],
   "source": [
    "print('Link capacity connectivity list', con_U[1:])"
   ]
  },
  {
   "cell_type": "code",
   "execution_count": 11,
   "id": "14299a5d",
   "metadata": {
    "scrolled": true
   },
   "outputs": [
    {
     "name": "stdout",
     "output_type": "stream",
     "text": [
      "Link capacity edges [(1, 12, 100000.0), (12, 1, 100000.0), (1, 13, 200000.0), (13, 1, 200000.0), (1, 17, 100000.0), (17, 1, 100000.0), (2, 16, 100000.0), (16, 2, 100000.0), (2, 17, 150000.0), (17, 2, 150000.0), (3, 14, 100000.0), (14, 3, 100000.0), (3, 19, 150000.0), (19, 3, 150000.0), (4, 5, 150000.0), (5, 4, 150000.0), (4, 9, 100000.0), (9, 4, 100000.0), (4, 10, 100000.0), (10, 4, 100000.0), (5, 13, 100000.0), (13, 5, 100000.0), (5, 16, 100000.0), (16, 5, 100000.0), (6, 7, 150000.0), (7, 6, 150000.0), (7, 9, 150000.0), (9, 7, 150000.0), (7, 11, 150000.0), (11, 7, 150000.0), (7, 14, 100000.0), (14, 7, 100000.0), (8, 11, 100000.0), (11, 8, 100000.0), (8, 12, 150000.0), (12, 8, 150000.0), (8, 18, 100000.0), (18, 8, 100000.0), (8, 19, 100000.0), (19, 8, 100000.0), (9, 18, 150000.0), (18, 9, 150000.0), (11, 16, 100000.0), (16, 11, 100000.0), (12, 14, 150000.0), (14, 12, 150000.0), (12, 20, 200000.0), (20, 12, 200000.0), (13, 19, 200000.0), (19, 13, 200000.0), (13, 20, 100000.0), (20, 13, 100000.0), (14, 16, 100000.0), (16, 14, 100000.0), (14, 20, 150000.0), (20, 14, 150000.0), (15, 18, 100000.0), (18, 15, 100000.0), (17, 19, 150000.0), (19, 17, 150000.0)]\n"
     ]
    }
   ],
   "source": [
    "print('Link capacity edges', U)"
   ]
  },
  {
   "cell_type": "markdown",
   "id": "b33201f2",
   "metadata": {},
   "source": [
    "# Step 1. Tree removal"
   ]
  },
  {
   "cell_type": "code",
   "execution_count": 12,
   "id": "6d4aa914",
   "metadata": {},
   "outputs": [],
   "source": [
    "def TreeRemoval(con, N):\n",
    "    deg=[len(con[i]) for i in range(N+1)]\n",
    "    con_temp=[set([i for i,_ in con[v]]) for v in range(N+1)]\n",
    "    con_tree=[[] for _ in range(N+1)]\n",
    "    \n",
    "    Queue=[v for v in range(1,N+1) if deg[v]==1] #initialize Queue with leafs\n",
    "    \n",
    "    Heads=[]\n",
    "    \n",
    "    while Queue:\n",
    "        \n",
    "        v=Queue.pop(0)\n",
    "\n",
    "        if deg[v]>1:\n",
    "            Heads.append(v)\n",
    "        else:\n",
    "            w=con_temp[v].pop() #parent of v\n",
    "            con_temp[w].remove(v) #edge removal\n",
    "            con_tree[w].append(v) #edge inclusion\n",
    "\n",
    "            deg[w]-=1 #degree decreasing \n",
    "\n",
    "            Queue.append(w) #adding w to Queue\n",
    "            \n",
    "    return set(Heads), con_tree"
   ]
  },
  {
   "cell_type": "code",
   "execution_count": 13,
   "id": "f6c35881",
   "metadata": {},
   "outputs": [],
   "source": [
    "def dfs(x, head): #Depth-first search \n",
    "    \n",
    "    for v in con_tree[x]:\n",
    "        trees[head].append(v) #adding vertex to the tree\n",
    "        dfs(v, head)  "
   ]
  },
  {
   "cell_type": "code",
   "execution_count": 14,
   "id": "9465bb68",
   "metadata": {
    "scrolled": true
   },
   "outputs": [],
   "source": [
    "label=[0]*(N+1)\n",
    "Heads, con_tree=TreeRemoval(con, N)\n",
    "\n",
    "trees={h:[] for h in Heads}\n",
    "\n",
    "for i in trees:    \n",
    "    trees[i].append(i)\n",
    "    dfs(i,i) # looking for all the tree vertices"
   ]
  },
  {
   "cell_type": "code",
   "execution_count": 15,
   "id": "433a4b61",
   "metadata": {},
   "outputs": [
    {
     "name": "stdout",
     "output_type": "stream",
     "text": [
      "Tree heads {18, 4, 7}\n"
     ]
    }
   ],
   "source": [
    "print('Tree heads', Heads)"
   ]
  },
  {
   "cell_type": "code",
   "execution_count": 16,
   "id": "71c46f03",
   "metadata": {
    "scrolled": true
   },
   "outputs": [
    {
     "name": "stdout",
     "output_type": "stream",
     "text": [
      "Whole trees {18: [18, 15], 4: [4, 10], 7: [7, 6]}\n"
     ]
    }
   ],
   "source": [
    "print('Whole trees',trees)"
   ]
  },
  {
   "cell_type": "markdown",
   "id": "3f8fb1f3",
   "metadata": {},
   "source": [
    "# New graph without trees"
   ]
  },
  {
   "cell_type": "code",
   "execution_count": 17,
   "id": "e30e7ef0",
   "metadata": {
    "scrolled": true
   },
   "outputs": [],
   "source": [
    "all_trees=set().union(*trees.values()) #all trees combined"
   ]
  },
  {
   "cell_type": "code",
   "execution_count": 18,
   "id": "5953d17a",
   "metadata": {},
   "outputs": [
    {
     "name": "stdout",
     "output_type": "stream",
     "text": [
      "All trees combined {4, 6, 7, 10, 15, 18}\n"
     ]
    }
   ],
   "source": [
    "print('All trees combined', all_trees)"
   ]
  },
  {
   "cell_type": "code",
   "execution_count": 19,
   "id": "ff703ab9",
   "metadata": {},
   "outputs": [],
   "source": [
    "l=len(all_trees)"
   ]
  },
  {
   "cell_type": "code",
   "execution_count": 20,
   "id": "9fea288e",
   "metadata": {},
   "outputs": [
    {
     "name": "stdout",
     "output_type": "stream",
     "text": [
      "Size of all trees combined 6\n"
     ]
    }
   ],
   "source": [
    "print('Size of all trees combined', l)"
   ]
  },
  {
   "cell_type": "code",
   "execution_count": 21,
   "id": "2d728d95",
   "metadata": {},
   "outputs": [],
   "source": [
    "N_new=N-l+len(trees)"
   ]
  },
  {
   "cell_type": "code",
   "execution_count": 22,
   "id": "b60567c7",
   "metadata": {},
   "outputs": [
    {
     "data": {
      "text/plain": [
       "17"
      ]
     },
     "execution_count": 22,
     "metadata": {},
     "output_type": "execute_result"
    }
   ],
   "source": [
    "N_new"
   ]
  },
  {
   "cell_type": "code",
   "execution_count": 23,
   "id": "9dded434",
   "metadata": {},
   "outputs": [],
   "source": [
    "conversion_old_2_new=[0]*(N+1)\n",
    "conversion_new_2_old=[0]*(N_new+1)"
   ]
  },
  {
   "cell_type": "code",
   "execution_count": 24,
   "id": "bb6ea645",
   "metadata": {},
   "outputs": [
    {
     "name": "stdout",
     "output_type": "stream",
     "text": [
      "[0, 0, 0, 0, 2, 0, 3, 3, 0, 0, 2, 0, 0, 0, 0, 1, 0, 0, 1, 0, 0]\n"
     ]
    }
   ],
   "source": [
    "cnt=1\n",
    "\n",
    "for v in trees:\n",
    "    for w in trees[v]:\n",
    "        conversion_old_2_new[w]=cnt\n",
    "        conversion_new_2_old[cnt]=w\n",
    "        \n",
    "    cnt+=1\n",
    "print(conversion_old_2_new)\n",
    "for i in range(1,N+1):\n",
    "    if conversion_old_2_new[i]==0:\n",
    "        conversion_old_2_new[i]=cnt\n",
    "        conversion_new_2_old[cnt]=i\n",
    "        cnt+=1\n",
    "    "
   ]
  },
  {
   "cell_type": "code",
   "execution_count": 25,
   "id": "2407c61c",
   "metadata": {},
   "outputs": [
    {
     "data": {
      "text/plain": [
       "[0, 4, 5, 6, 2, 7, 3, 3, 8, 9, 2, 10, 11, 12, 13, 1, 14, 15, 1, 16, 17]"
      ]
     },
     "execution_count": 25,
     "metadata": {},
     "output_type": "execute_result"
    }
   ],
   "source": [
    "conversion_old_2_new"
   ]
  },
  {
   "cell_type": "code",
   "execution_count": 26,
   "id": "6f88b8ff",
   "metadata": {
    "scrolled": false
   },
   "outputs": [
    {
     "data": {
      "text/plain": [
       "[0, 15, 10, 6, 1, 2, 3, 5, 8, 9, 11, 12, 13, 14, 16, 17, 19, 20]"
      ]
     },
     "execution_count": 26,
     "metadata": {},
     "output_type": "execute_result"
    }
   ],
   "source": [
    "conversion_new_2_old"
   ]
  },
  {
   "cell_type": "code",
   "execution_count": 27,
   "id": "7c27409c",
   "metadata": {},
   "outputs": [],
   "source": [
    "con_new=[[] for _ in range(N_new+1)]"
   ]
  },
  {
   "cell_type": "code",
   "execution_count": 28,
   "id": "bbeac440",
   "metadata": {
    "scrolled": true
   },
   "outputs": [
    {
     "name": "stdout",
     "output_type": "stream",
     "text": [
      "1 12 7.478260869565217e-05 4 11 7.478260869565217e-05\n",
      "1 13 5.333333333333333e-05 4 12 5.333333333333333e-05\n",
      "1 17 9e-05 4 15 9e-05\n",
      "2 16 9.714285714285714e-05 5 14 9.714285714285714e-05\n",
      "2 17 7.666666666666667e-05 5 15 7.666666666666667e-05\n",
      "3 14 9.333333333333334e-05 6 13 9.333333333333334e-05\n",
      "3 19 7.372549019607843e-05 6 16 7.372549019607843e-05\n",
      "4 5 7.666666666666667e-05 2 7 7.666666666666667e-05\n",
      "4 9 0.00014000000000000001 2 9 0.00014000000000000001\n",
      "4 10 0.00024 2 2 0.00024\n",
      "5 4 0.00014095238095238096 7 2 0.00014095238095238096\n",
      "5 13 7.333333333333334e-05 7 12 7.333333333333334e-05\n",
      "5 16 9.714285714285714e-05 7 14 9.714285714285714e-05\n",
      "6 7 7.372549019607843e-05 3 3 7.372549019607843e-05\n",
      "7 6 0.00022666666666666668 3 3 0.00022666666666666668\n",
      "7 9 0.00012666666666666666 3 9 0.00012666666666666666\n",
      "7 11 7.999999999999999e-05 3 10 7.999999999999999e-05\n",
      "7 14 9.333333333333334e-05 3 13 9.333333333333334e-05\n",
      "8 11 9.333333333333334e-05 8 10 9.333333333333334e-05\n",
      "8 12 6.144927536231884e-05 8 11 6.144927536231884e-05\n",
      "8 18 0.00010153846153846153 8 1 0.00010153846153846153\n",
      "8 19 8.705882352941177e-05 8 16 8.705882352941177e-05\n",
      "9 4 0.00015428571428571428 9 2 0.00015428571428571428\n",
      "9 7 7.372549019607843e-05 9 3 7.372549019607843e-05\n",
      "9 18 8.820512820512821e-05 9 1 8.820512820512821e-05\n",
      "10 4 0.00015428571428571428 2 2 0.00015428571428571428\n",
      "11 7 7.372549019607843e-05 10 3 7.372549019607843e-05\n",
      "11 8 9.333333333333334e-05 10 8 9.333333333333334e-05\n",
      "11 16 9.714285714285714e-05 10 14 9.714285714285714e-05\n",
      "12 1 8.210526315789474e-05 11 4 8.210526315789474e-05\n",
      "12 8 7.999999999999999e-05 11 8 7.999999999999999e-05\n",
      "12 14 7.999999999999999e-05 11 13 7.999999999999999e-05\n",
      "12 20 8.666666666666667e-05 11 17 8.666666666666667e-05\n",
      "13 1 6.210526315789474e-05 12 4 6.210526315789474e-05\n",
      "13 5 9e-05 12 7 9e-05\n",
      "13 19 6.705882352941177e-05 12 16 6.705882352941177e-05\n",
      "13 20 0.00010666666666666667 12 17 0.00010666666666666667\n",
      "14 3 0.00014000000000000001 13 6 0.00014000000000000001\n",
      "14 7 8.705882352941177e-05 13 3 8.705882352941177e-05\n",
      "14 12 6.144927536231884e-05 13 11 6.144927536231884e-05\n",
      "14 16 9.714285714285714e-05 13 14 9.714285714285714e-05\n",
      "14 20 9.333333333333334e-05 13 17 9.333333333333334e-05\n",
      "15 18 0.00010153846153846153 1 1 0.00010153846153846153\n",
      "16 2 0.00014000000000000001 14 5 0.00014000000000000001\n",
      "16 5 9e-05 14 7 9e-05\n",
      "16 11 9.333333333333334e-05 14 10 9.333333333333334e-05\n",
      "16 14 9.333333333333334e-05 14 13 9.333333333333334e-05\n",
      "17 1 8.210526315789474e-05 15 4 8.210526315789474e-05\n",
      "17 2 0.00012666666666666666 15 5 0.00012666666666666666\n",
      "17 19 7.372549019607843e-05 15 16 7.372549019607843e-05\n",
      "18 8 9.333333333333334e-05 1 8 9.333333333333334e-05\n",
      "18 9 0.00012666666666666666 1 9 0.00012666666666666666\n",
      "18 15 0.00024 1 1 0.00024\n",
      "19 3 0.00012666666666666666 16 6 0.00012666666666666666\n",
      "19 8 9.333333333333334e-05 16 8 9.333333333333334e-05\n",
      "19 13 5.333333333333333e-05 16 12 5.333333333333333e-05\n",
      "19 17 7.666666666666667e-05 16 15 7.666666666666667e-05\n",
      "20 12 5.478260869565217e-05 17 11 5.478260869565217e-05\n",
      "20 13 7.333333333333334e-05 17 12 7.333333333333334e-05\n",
      "20 14 7.999999999999999e-05 17 13 7.999999999999999e-05\n"
     ]
    }
   ],
   "source": [
    "for i in range(1,N+1):\n",
    "    \n",
    "    for e in con[i]:\n",
    "        x,y=e\n",
    "        print(i,x,y,conversion_old_2_new[i],conversion_old_2_new[x],y)\n",
    "        \n",
    "        if conversion_old_2_new[i]!=conversion_old_2_new[x]:\n",
    "            con_new[conversion_old_2_new[i]].append((conversion_old_2_new[x],y))"
   ]
  },
  {
   "cell_type": "code",
   "execution_count": 29,
   "id": "a0604e34",
   "metadata": {
    "scrolled": true
   },
   "outputs": [
    {
     "data": {
      "text/plain": [
       "[[],\n",
       " [(12, 7.478260869565217e-05), (13, 5.333333333333333e-05), (17, 9e-05)],\n",
       " [(16, 9.714285714285714e-05), (17, 7.666666666666667e-05)],\n",
       " [(14, 9.333333333333334e-05), (19, 7.372549019607843e-05)],\n",
       " [(5, 7.666666666666667e-05), (9, 0.00014000000000000001), (10, 0.00024)],\n",
       " [(4, 0.00014095238095238096),\n",
       "  (13, 7.333333333333334e-05),\n",
       "  (16, 9.714285714285714e-05)],\n",
       " [(7, 7.372549019607843e-05)],\n",
       " [(6, 0.00022666666666666668),\n",
       "  (9, 0.00012666666666666666),\n",
       "  (11, 7.999999999999999e-05),\n",
       "  (14, 9.333333333333334e-05)],\n",
       " [(11, 9.333333333333334e-05),\n",
       "  (12, 6.144927536231884e-05),\n",
       "  (18, 0.00010153846153846153),\n",
       "  (19, 8.705882352941177e-05)],\n",
       " [(4, 0.00015428571428571428),\n",
       "  (7, 7.372549019607843e-05),\n",
       "  (18, 8.820512820512821e-05)],\n",
       " [(4, 0.00015428571428571428)],\n",
       " [(7, 7.372549019607843e-05),\n",
       "  (8, 9.333333333333334e-05),\n",
       "  (16, 9.714285714285714e-05)],\n",
       " [(1, 8.210526315789474e-05),\n",
       "  (8, 7.999999999999999e-05),\n",
       "  (14, 7.999999999999999e-05),\n",
       "  (20, 8.666666666666667e-05)],\n",
       " [(1, 6.210526315789474e-05),\n",
       "  (5, 9e-05),\n",
       "  (19, 6.705882352941177e-05),\n",
       "  (20, 0.00010666666666666667)],\n",
       " [(3, 0.00014000000000000001),\n",
       "  (7, 8.705882352941177e-05),\n",
       "  (12, 6.144927536231884e-05),\n",
       "  (16, 9.714285714285714e-05),\n",
       "  (20, 9.333333333333334e-05)],\n",
       " [(18, 0.00010153846153846153)],\n",
       " [(2, 0.00014000000000000001),\n",
       "  (5, 9e-05),\n",
       "  (11, 9.333333333333334e-05),\n",
       "  (14, 9.333333333333334e-05)],\n",
       " [(1, 8.210526315789474e-05),\n",
       "  (2, 0.00012666666666666666),\n",
       "  (19, 7.372549019607843e-05)],\n",
       " [(8, 9.333333333333334e-05), (9, 0.00012666666666666666), (15, 0.00024)],\n",
       " [(3, 0.00012666666666666666),\n",
       "  (8, 9.333333333333334e-05),\n",
       "  (13, 5.333333333333333e-05),\n",
       "  (17, 7.666666666666667e-05)],\n",
       " [(12, 5.478260869565217e-05),\n",
       "  (13, 7.333333333333334e-05),\n",
       "  (14, 7.999999999999999e-05)]]"
      ]
     },
     "execution_count": 29,
     "metadata": {},
     "output_type": "execute_result"
    }
   ],
   "source": [
    "con"
   ]
  },
  {
   "cell_type": "code",
   "execution_count": 30,
   "id": "3c4dc65d",
   "metadata": {
    "scrolled": true
   },
   "outputs": [
    {
     "data": {
      "text/plain": [
       "[[],\n",
       " [(8, 9.333333333333334e-05), (9, 0.00012666666666666666)],\n",
       " [(7, 7.666666666666667e-05), (9, 0.00014000000000000001)],\n",
       " [(9, 0.00012666666666666666),\n",
       "  (10, 7.999999999999999e-05),\n",
       "  (13, 9.333333333333334e-05)],\n",
       " [(11, 7.478260869565217e-05), (12, 5.333333333333333e-05), (15, 9e-05)],\n",
       " [(14, 9.714285714285714e-05), (15, 7.666666666666667e-05)],\n",
       " [(13, 9.333333333333334e-05), (16, 7.372549019607843e-05)],\n",
       " [(2, 0.00014095238095238096),\n",
       "  (12, 7.333333333333334e-05),\n",
       "  (14, 9.714285714285714e-05)],\n",
       " [(10, 9.333333333333334e-05),\n",
       "  (11, 6.144927536231884e-05),\n",
       "  (1, 0.00010153846153846153),\n",
       "  (16, 8.705882352941177e-05)],\n",
       " [(2, 0.00015428571428571428),\n",
       "  (3, 7.372549019607843e-05),\n",
       "  (1, 8.820512820512821e-05)],\n",
       " [(3, 7.372549019607843e-05),\n",
       "  (8, 9.333333333333334e-05),\n",
       "  (14, 9.714285714285714e-05)],\n",
       " [(4, 8.210526315789474e-05),\n",
       "  (8, 7.999999999999999e-05),\n",
       "  (13, 7.999999999999999e-05),\n",
       "  (17, 8.666666666666667e-05)],\n",
       " [(4, 6.210526315789474e-05),\n",
       "  (7, 9e-05),\n",
       "  (16, 6.705882352941177e-05),\n",
       "  (17, 0.00010666666666666667)],\n",
       " [(6, 0.00014000000000000001),\n",
       "  (3, 8.705882352941177e-05),\n",
       "  (11, 6.144927536231884e-05),\n",
       "  (14, 9.714285714285714e-05),\n",
       "  (17, 9.333333333333334e-05)],\n",
       " [(5, 0.00014000000000000001),\n",
       "  (7, 9e-05),\n",
       "  (10, 9.333333333333334e-05),\n",
       "  (13, 9.333333333333334e-05)],\n",
       " [(4, 8.210526315789474e-05),\n",
       "  (5, 0.00012666666666666666),\n",
       "  (16, 7.372549019607843e-05)],\n",
       " [(6, 0.00012666666666666666),\n",
       "  (8, 9.333333333333334e-05),\n",
       "  (12, 5.333333333333333e-05),\n",
       "  (15, 7.666666666666667e-05)],\n",
       " [(11, 5.478260869565217e-05),\n",
       "  (12, 7.333333333333334e-05),\n",
       "  (13, 7.999999999999999e-05)]]"
      ]
     },
     "execution_count": 30,
     "metadata": {},
     "output_type": "execute_result"
    }
   ],
   "source": [
    "con_new"
   ]
  },
  {
   "cell_type": "markdown",
   "id": "6ecefe3b",
   "metadata": {},
   "source": [
    "# Drawing new graph"
   ]
  },
  {
   "cell_type": "code",
   "execution_count": 31,
   "id": "d6cd164b",
   "metadata": {
    "scrolled": true
   },
   "outputs": [
    {
     "data": {
      "image/png": "[encoded data removed]",
      "text/plain": [
       "<Figure size 432x288 with 1 Axes>"
      ]
     },
     "metadata": {},
     "output_type": "display_data"
    }
   ],
   "source": [
    "G = nx.Graph()\n",
    "G.add_nodes_from(range(1,N_new))\n",
    "\n",
    "for i in range(1,N_new+1):\n",
    "    for e in con_new[i]:\n",
    "        x,y=e\n",
    "        G.add_edge(i,x)\n",
    "\n",
    "nx.draw(G, with_labels=True)"
   ]
  },
  {
   "cell_type": "markdown",
   "id": "4d2afa42",
   "metadata": {},
   "source": [
    "# Step 2. Depth-first search"
   ]
  },
  {
   "cell_type": "code",
   "execution_count": 32,
   "id": "81a2a4af",
   "metadata": {},
   "outputs": [],
   "source": [
    "vert_seq=[]\n",
    "label=[0]*(N_new+1)"
   ]
  },
  {
   "cell_type": "code",
   "execution_count": 33,
   "id": "8bde6eaf",
   "metadata": {},
   "outputs": [],
   "source": [
    "def dfs_clustering(v):\n",
    "    vert_seq.append(v)\n",
    "    \n",
    "    con_temp_list=[[i] for i in con_new[v]]\n",
    "    shuffle(con_temp_list)\n",
    "    \n",
    "    for e in con_temp_list:\n",
    "        u,_ = e[0]\n",
    "        \n",
    "        if not label[u]:\n",
    "            label[u]=1\n",
    "            dfs_clustering(u)\n",
    "            \n",
    "            vert_seq.append(v)"
   ]
  },
  {
   "cell_type": "code",
   "execution_count": 34,
   "id": "8041def1",
   "metadata": {},
   "outputs": [],
   "source": [
    "dfs_clustering(1) #depth-first search from vertex 1"
   ]
  },
  {
   "cell_type": "code",
   "execution_count": 35,
   "id": "d85b7d1f",
   "metadata": {},
   "outputs": [
    {
     "name": "stdout",
     "output_type": "stream",
     "text": [
      "depth-first search tree [1, 9, 1, 8, 11, 13, 6, 16, 15, 5, 14, 10, 3, 10, 14, 7, 12, 4, 12, 17, 12, 7, 2, 7, 14, 5, 15, 16, 6, 13, 11, 8, 1, 9, 1]\n"
     ]
    }
   ],
   "source": [
    "print('depth-first search tree', vert_seq)"
   ]
  },
  {
   "cell_type": "code",
   "execution_count": 36,
   "id": "843dc661",
   "metadata": {},
   "outputs": [
    {
     "name": "stdout",
     "output_type": "stream",
     "text": [
      "depth-first search tree length 35\n"
     ]
    }
   ],
   "source": [
    "print('depth-first search tree length',len(vert_seq))"
   ]
  },
  {
   "cell_type": "markdown",
   "id": "fb943734",
   "metadata": {},
   "source": [
    "# Step 3. Removing repetitions"
   ]
  },
  {
   "cell_type": "code",
   "execution_count": 37,
   "id": "276f2ace",
   "metadata": {
    "scrolled": true
   },
   "outputs": [],
   "source": [
    "def remove_repetitions(vert_seq, N_new):\n",
    "\n",
    "    vert_seq_copy=vert_seq.copy()\n",
    "    cnt=Counter(vert_seq_copy)\n",
    "\n",
    "    removed=0\n",
    "    l=len(vert_seq_copy)\n",
    "    pos=random.randint(0,l-1)\n",
    "    f = random.choice([-1,1])\n",
    "\n",
    "    while removed<N_new+1:\n",
    "\n",
    "        if cnt[vert_seq_copy[pos]]>1:\n",
    "            cnt[vert_seq_copy[pos]]-=1\n",
    "            vert_seq_copy[pos]=0        \n",
    "            removed+=1\n",
    "\n",
    "        pos+=f\n",
    "        if pos<0:\n",
    "            pos=l-1\n",
    "\n",
    "        if pos>l-1:\n",
    "            pos=0\n",
    "        \n",
    "    return vert_seq_copy\n",
    "        "
   ]
  },
  {
   "cell_type": "code",
   "execution_count": 38,
   "id": "b83be120",
   "metadata": {},
   "outputs": [],
   "source": [
    "vert_seq_copy=remove_repetitions(vert_seq, N_new)"
   ]
  },
  {
   "cell_type": "code",
   "execution_count": 39,
   "id": "414c803e",
   "metadata": {},
   "outputs": [
    {
     "name": "stdout",
     "output_type": "stream",
     "text": [
      "before [1, 9, 1, 8, 11, 13, 6, 16, 15, 5, 14, 10, 3, 10, 14, 7, 12, 4, 12, 17, 12, 7, 2, 7, 14, 5, 15, 16, 6, 13, 11, 8, 1, 9, 1]\n"
     ]
    }
   ],
   "source": [
    "print('before', vert_seq)"
   ]
  },
  {
   "cell_type": "code",
   "execution_count": 40,
   "id": "477059a9",
   "metadata": {},
   "outputs": [
    {
     "name": "stdout",
     "output_type": "stream",
     "text": [
      "after removing repetitions [0, 0, 0, 8, 11, 13, 6, 16, 15, 5, 14, 10, 3, 0, 0, 7, 12, 4, 0, 17, 0, 0, 2, 0, 0, 0, 0, 0, 0, 0, 0, 0, 1, 9, 0]\n"
     ]
    }
   ],
   "source": [
    "print('after removing repetitions',vert_seq_copy)"
   ]
  },
  {
   "cell_type": "code",
   "execution_count": 41,
   "id": "e3e56db1",
   "metadata": {},
   "outputs": [],
   "source": [
    "def clean_zeros(arr):\n",
    "\n",
    "    ans=[]\n",
    "    l=len(arr)\n",
    "\n",
    "    fl=True\n",
    "\n",
    "    for i in range(0,l):\n",
    "\n",
    "        if arr[i]!=0:\n",
    "            fl=True\n",
    "            ans.append(arr[i])\n",
    "        else:\n",
    "            if fl:\n",
    "                ans.append(0)\n",
    "\n",
    "            fl=False\n",
    "            \n",
    "    if ans[0]==ans[-1]:\n",
    "        ans.pop(0)\n",
    "            \n",
    "    return ans\n",
    "    "
   ]
  },
  {
   "cell_type": "code",
   "execution_count": 42,
   "id": "0c162fde",
   "metadata": {},
   "outputs": [],
   "source": [
    "vert_after_cleaning_zeros=clean_zeros(vert_seq_copy)"
   ]
  },
  {
   "cell_type": "code",
   "execution_count": 43,
   "id": "fa06d8ac",
   "metadata": {
    "scrolled": true
   },
   "outputs": [
    {
     "name": "stdout",
     "output_type": "stream",
     "text": [
      "after cleaning zeros [8, 11, 13, 6, 16, 15, 5, 14, 10, 3, 0, 7, 12, 4, 0, 17, 0, 2, 0, 1, 9, 0]\n"
     ]
    }
   ],
   "source": [
    "print('after cleaning zeros', vert_after_cleaning_zeros)"
   ]
  },
  {
   "cell_type": "code",
   "execution_count": 44,
   "id": "0215940f",
   "metadata": {
    "scrolled": true
   },
   "outputs": [
    {
     "data": {
      "text/plain": [
       "[[],\n",
       " [(8, 9.333333333333334e-05), (9, 0.00012666666666666666)],\n",
       " [(7, 7.666666666666667e-05), (9, 0.00014000000000000001)],\n",
       " [(9, 0.00012666666666666666),\n",
       "  (10, 7.999999999999999e-05),\n",
       "  (13, 9.333333333333334e-05)],\n",
       " [(11, 7.478260869565217e-05), (12, 5.333333333333333e-05), (15, 9e-05)],\n",
       " [(14, 9.714285714285714e-05), (15, 7.666666666666667e-05)],\n",
       " [(13, 9.333333333333334e-05), (16, 7.372549019607843e-05)],\n",
       " [(2, 0.00014095238095238096),\n",
       "  (12, 7.333333333333334e-05),\n",
       "  (14, 9.714285714285714e-05)],\n",
       " [(10, 9.333333333333334e-05),\n",
       "  (11, 6.144927536231884e-05),\n",
       "  (1, 0.00010153846153846153),\n",
       "  (16, 8.705882352941177e-05)],\n",
       " [(2, 0.00015428571428571428),\n",
       "  (3, 7.372549019607843e-05),\n",
       "  (1, 8.820512820512821e-05)],\n",
       " [(3, 7.372549019607843e-05),\n",
       "  (8, 9.333333333333334e-05),\n",
       "  (14, 9.714285714285714e-05)],\n",
       " [(4, 8.210526315789474e-05),\n",
       "  (8, 7.999999999999999e-05),\n",
       "  (13, 7.999999999999999e-05),\n",
       "  (17, 8.666666666666667e-05)],\n",
       " [(4, 6.210526315789474e-05),\n",
       "  (7, 9e-05),\n",
       "  (16, 6.705882352941177e-05),\n",
       "  (17, 0.00010666666666666667)],\n",
       " [(6, 0.00014000000000000001),\n",
       "  (3, 8.705882352941177e-05),\n",
       "  (11, 6.144927536231884e-05),\n",
       "  (14, 9.714285714285714e-05),\n",
       "  (17, 9.333333333333334e-05)],\n",
       " [(5, 0.00014000000000000001),\n",
       "  (7, 9e-05),\n",
       "  (10, 9.333333333333334e-05),\n",
       "  (13, 9.333333333333334e-05)],\n",
       " [(4, 8.210526315789474e-05),\n",
       "  (5, 0.00012666666666666666),\n",
       "  (16, 7.372549019607843e-05)],\n",
       " [(6, 0.00012666666666666666),\n",
       "  (8, 9.333333333333334e-05),\n",
       "  (12, 5.333333333333333e-05),\n",
       "  (15, 7.666666666666667e-05)],\n",
       " [(11, 5.478260869565217e-05),\n",
       "  (12, 7.333333333333334e-05),\n",
       "  (13, 7.999999999999999e-05)]]"
      ]
     },
     "execution_count": 44,
     "metadata": {},
     "output_type": "execute_result"
    }
   ],
   "source": [
    "con_new"
   ]
  },
  {
   "cell_type": "code",
   "execution_count": 45,
   "id": "68e1b4ea",
   "metadata": {},
   "outputs": [],
   "source": [
    "adj_new=[set([j for j,_ in con_new[i]]) for i in range(len(con_new))]"
   ]
  },
  {
   "cell_type": "code",
   "execution_count": 46,
   "id": "51fe9ace",
   "metadata": {
    "scrolled": false
   },
   "outputs": [
    {
     "data": {
      "text/plain": [
       "[set(),\n",
       " {8, 9},\n",
       " {7, 9},\n",
       " {9, 10, 13},\n",
       " {11, 12, 15},\n",
       " {14, 15},\n",
       " {13, 16},\n",
       " {2, 12, 14},\n",
       " {1, 10, 11, 16},\n",
       " {1, 2, 3},\n",
       " {3, 8, 14},\n",
       " {4, 8, 13, 17},\n",
       " {4, 7, 16, 17},\n",
       " {3, 6, 11, 14, 17},\n",
       " {5, 7, 10, 13},\n",
       " {4, 5, 16},\n",
       " {6, 8, 12, 15},\n",
       " {11, 12, 13}]"
      ]
     },
     "execution_count": 46,
     "metadata": {},
     "output_type": "execute_result"
    }
   ],
   "source": [
    "adj_new"
   ]
  },
  {
   "cell_type": "code",
   "execution_count": 47,
   "id": "c4f37e23",
   "metadata": {},
   "outputs": [
    {
     "data": {
      "text/plain": [
       "[8, 11, 13, 6, 16, 15, 5, 14, 10, 3, 0, 7, 12, 4, 0, 17, 0, 2, 0, 1, 9, 0]"
      ]
     },
     "execution_count": 47,
     "metadata": {},
     "output_type": "execute_result"
    }
   ],
   "source": [
    "vert_after_cleaning_zeros"
   ]
  },
  {
   "cell_type": "code",
   "execution_count": 48,
   "id": "7717661a",
   "metadata": {},
   "outputs": [],
   "source": [
    "final_vert=[]\n",
    "l=len(vert_after_cleaning_zeros)\n",
    "\n",
    "for i in range(l-1):\n",
    "\n",
    "    if not vert_after_cleaning_zeros[i] and vert_after_cleaning_zeros[i-1] in adj_new[vert_after_cleaning_zeros[i+1]]:\n",
    "        continue\n",
    "        \n",
    "    final_vert.append(vert_after_cleaning_zeros[i])"
   ]
  },
  {
   "cell_type": "code",
   "execution_count": 49,
   "id": "e92941b7",
   "metadata": {},
   "outputs": [
    {
     "name": "stdout",
     "output_type": "stream",
     "text": [
      "Before final removal [8, 11, 13, 6, 16, 15, 5, 14, 10, 3, 0, 7, 12, 4, 0, 17, 0, 2, 0, 1, 9, 0]\n"
     ]
    }
   ],
   "source": [
    "print('Before final removal',vert_after_cleaning_zeros)"
   ]
  },
  {
   "cell_type": "code",
   "execution_count": 50,
   "id": "df466ae3",
   "metadata": {},
   "outputs": [
    {
     "name": "stdout",
     "output_type": "stream",
     "text": [
      "After removing extra zeros between connected consecutive vertices [8, 11, 13, 6, 16, 15, 5, 14, 10, 3, 0, 7, 12, 4, 0, 17, 0, 2, 0, 1, 9]\n"
     ]
    }
   ],
   "source": [
    "print('After removing extra zeros between connected consecutive vertices', final_vert)"
   ]
  },
  {
   "cell_type": "markdown",
   "id": "74636ca8",
   "metadata": {},
   "source": [
    "# Step 4. Dynamic programming"
   ]
  },
  {
   "cell_type": "code",
   "execution_count": 51,
   "id": "6e08ba8c",
   "metadata": {},
   "outputs": [],
   "source": [
    "B_len=len(final_vert)"
   ]
  },
  {
   "cell_type": "code",
   "execution_count": 52,
   "id": "14795815",
   "metadata": {},
   "outputs": [],
   "source": [
    "f = np.array([-np.inf]*n_max*B_len)"
   ]
  },
  {
   "cell_type": "code",
   "execution_count": 53,
   "id": "37df3663",
   "metadata": {},
   "outputs": [],
   "source": [
    "f=f.reshape(B_len,n_max)"
   ]
  },
  {
   "cell_type": "code",
   "execution_count": 54,
   "id": "5cc4c05b",
   "metadata": {},
   "outputs": [],
   "source": [
    "prev= np.zeros((n_max,d_max,B_len))"
   ]
  },
  {
   "cell_type": "code",
   "execution_count": 55,
   "id": "18a182f8",
   "metadata": {
    "scrolled": true
   },
   "outputs": [
    {
     "data": {
      "text/plain": [
       "{18: [18, 15], 4: [4, 10], 7: [7, 6]}"
      ]
     },
     "execution_count": 55,
     "metadata": {},
     "output_type": "execute_result"
    }
   ],
   "source": [
    "trees"
   ]
  },
  {
   "cell_type": "code",
   "execution_count": 56,
   "id": "4220fb01",
   "metadata": {
    "scrolled": true
   },
   "outputs": [],
   "source": [
    "#trees_user_demand_sum={} #sum of tree data rates in new numeration\n",
    "\n",
    "#for i in trees:\n",
    "#    trees_user_demand_sum[conversion_old_2_new[i]]=sum([D[j] for j in trees[i]])"
   ]
  },
  {
   "cell_type": "code",
   "execution_count": 57,
   "id": "8397b7e4",
   "metadata": {
    "scrolled": true
   },
   "outputs": [
    {
     "data": {
      "text/plain": [
       "[0, 4, 5, 6, 2, 7, 3, 3, 8, 9, 2, 10, 11, 12, 13, 1, 14, 15, 1, 16, 17]"
      ]
     },
     "execution_count": 57,
     "metadata": {},
     "output_type": "execute_result"
    }
   ],
   "source": [
    "conversion_old_2_new"
   ]
  },
  {
   "cell_type": "code",
   "execution_count": 58,
   "id": "d80be706",
   "metadata": {},
   "outputs": [
    {
     "data": {
      "text/plain": [
       "[0,\n",
       " [0,\n",
       "  32.8125,\n",
       "  23.314144736842106,\n",
       "  23.314144736842106,\n",
       "  22.45065789473684,\n",
       "  20.773032760069384,\n",
       "  2.837171052631579,\n",
       "  31.08552631578947,\n",
       "  24.055140814282424,\n",
       "  16.631913324131155,\n",
       "  2.837171052631579,\n",
       "  29.358552631578945,\n",
       "  36.26644736842105,\n",
       "  5.534368487827237,\n",
       "  29.358552631578945,\n",
       "  19.692321012810822,\n",
       "  28.49506578947368,\n",
       "  30.22203947368421,\n",
       "  27.631578947368418,\n",
       "  31.08552631578947,\n",
       "  26.768092105263158],\n",
       " [0,\n",
       "  13.746195813615472,\n",
       "  13.815789473684209,\n",
       "  13.815789473684209,\n",
       "  12.952302631578945,\n",
       "  20.723684210526315,\n",
       "  10.361842105263158,\n",
       "  3.0838815789473686,\n",
       "  9.048749866503695,\n",
       "  13.815789473684209,\n",
       "  6.7536422283780215,\n",
       "  19.86019736842105,\n",
       "  26.768092105263158,\n",
       "  27.631578947368418,\n",
       "  12.295952899764295,\n",
       "  10.361842105263158,\n",
       "  18.996710526315788,\n",
       "  20.723684210526315,\n",
       "  18.133223684210524,\n",
       "  21.58717105263158,\n",
       "  2.467105263157895],\n",
       " [0,\n",
       "  3.3305921052631584,\n",
       "  13.815789473684209,\n",
       "  13.815789473684209,\n",
       "  12.952302631578945,\n",
       "  20.723684210526315,\n",
       "  10.361842105263158,\n",
       "  21.58717105263158,\n",
       "  19.86019736842105,\n",
       "  13.815789473684209,\n",
       "  10.361842105263158,\n",
       "  17.03650980934534,\n",
       "  26.768092105263158,\n",
       "  27.631578947368418,\n",
       "  19.86019736842105,\n",
       "  10.361842105263158,\n",
       "  18.996710526315788,\n",
       "  6.442139253564772,\n",
       "  18.133223684210524,\n",
       "  21.58717105263158,\n",
       "  2.467105263157895],\n",
       " [0,\n",
       "  22.080818377561982,\n",
       "  12.109238681960178,\n",
       "  8.63525144245339,\n",
       "  9.529462593633859,\n",
       "  19.86019736842105,\n",
       "  9.498355263157894,\n",
       "  20.723684210526315,\n",
       "  10.031777020808452,\n",
       "  12.952302631578945,\n",
       "  9.498355263157894,\n",
       "  2.7138157894736845,\n",
       "  18.542541844777208,\n",
       "  26.768092105263158,\n",
       "  18.996710526315788,\n",
       "  9.498355263157894,\n",
       "  2.5904605263157894,\n",
       "  19.86019736842105,\n",
       "  17.269736842105264,\n",
       "  20.723684210526315,\n",
       "  16.40625],\n",
       " [0,\n",
       "  30.22203947368421,\n",
       "  19.259050768741098,\n",
       "  20.723684210526315,\n",
       "  19.86019736842105,\n",
       "  27.631578947368418,\n",
       "  17.269736842105264,\n",
       "  24.478782378046457,\n",
       "  26.768092105263158,\n",
       "  20.723684210526315,\n",
       "  17.269736842105264,\n",
       "  26.768092105263158,\n",
       "  33.67598684210526,\n",
       "  34.53947368421053,\n",
       "  14.54756623629827,\n",
       "  17.269736842105264,\n",
       "  21.51384895242902,\n",
       "  27.631578947368418,\n",
       "  8.299442297818722,\n",
       "  28.49506578947368,\n",
       "  24.177631578947366],\n",
       " [0,\n",
       "  19.86019736842105,\n",
       "  10.361842105263158,\n",
       "  10.361842105263158,\n",
       "  9.498355263157894,\n",
       "  17.269736842105264,\n",
       "  6.907894736842104,\n",
       "  8.137649344348656,\n",
       "  16.40625,\n",
       "  10.361842105263158,\n",
       "  6.907894736842104,\n",
       "  3.533651979293168,\n",
       "  23.314144736842106,\n",
       "  24.177631578947366,\n",
       "  16.40625,\n",
       "  6.907894736842104,\n",
       "  15.542763157894735,\n",
       "  16.43293229789709,\n",
       "  7.627377404958436,\n",
       "  18.133223684210524,\n",
       "  13.00387500818615],\n",
       " [0,\n",
       "  31.08552631578947,\n",
       "  21.58717105263158,\n",
       "  21.58717105263158,\n",
       "  20.723684210526315,\n",
       "  28.49506578947368,\n",
       "  18.133223684210524,\n",
       "  29.358552631578945,\n",
       "  27.631578947368418,\n",
       "  21.58717105263158,\n",
       "  18.133223684210524,\n",
       "  27.631578947368418,\n",
       "  34.53947368421053,\n",
       "  35.40296052631579,\n",
       "  27.631578947368418,\n",
       "  18.133223684210524,\n",
       "  3.824013157894737,\n",
       "  28.49506578947368,\n",
       "  25.90460526315789,\n",
       "  29.358552631578945,\n",
       "  25.04111842105263],\n",
       " [0,\n",
       "  27.01167197911823,\n",
       "  19.86019736842105,\n",
       "  19.86019736842105,\n",
       "  9.723606115885353,\n",
       "  26.768092105263158,\n",
       "  2.34375,\n",
       "  27.631578947368418,\n",
       "  25.90460526315789,\n",
       "  16.336378966142092,\n",
       "  16.40625,\n",
       "  25.90460526315789,\n",
       "  32.8125,\n",
       "  9.134095429544033,\n",
       "  25.90460526315789,\n",
       "  16.40625,\n",
       "  25.04111842105263,\n",
       "  26.768092105263158,\n",
       "  3.453947368421053,\n",
       "  27.631578947368418,\n",
       "  23.314144736842106],\n",
       " [0,\n",
       "  23.314144736842106,\n",
       "  13.815789473684209,\n",
       "  13.815789473684209,\n",
       "  10.301713404676295,\n",
       "  20.723684210526315,\n",
       "  1.480263157894737,\n",
       "  21.58717105263158,\n",
       "  19.86019736842105,\n",
       "  13.815789473684209,\n",
       "  10.361842105263158,\n",
       "  19.86019736842105,\n",
       "  26.768092105263158,\n",
       "  27.631578947368418,\n",
       "  2.837171052631579,\n",
       "  3.201638192409792,\n",
       "  17.934610700393794,\n",
       "  20.723684210526315,\n",
       "  18.133223684210524,\n",
       "  3.0838815789473686,\n",
       "  13.4508501177817],\n",
       " [0,\n",
       "  19.86019736842105,\n",
       "  10.361842105263158,\n",
       "  10.361842105263158,\n",
       "  9.498355263157894,\n",
       "  17.269736842105264,\n",
       "  6.4211845135149765,\n",
       "  18.133223684210524,\n",
       "  16.40625,\n",
       "  10.361842105263158,\n",
       "  6.907894736842104,\n",
       "  16.40625,\n",
       "  22.440121519932283,\n",
       "  24.177631578947366,\n",
       "  16.40625,\n",
       "  6.907894736842104,\n",
       "  2.2203947368421053,\n",
       "  17.269736842105264,\n",
       "  14.679276315789473,\n",
       "  18.133223684210524,\n",
       "  13.815789473684209],\n",
       " [0,\n",
       "  29.358552631578945,\n",
       "  19.86019736842105,\n",
       "  2.837171052631579,\n",
       "  18.996710526315788,\n",
       "  26.768092105263158,\n",
       "  16.40625,\n",
       "  13.490507522895715,\n",
       "  25.90460526315789,\n",
       "  15.934383304658539,\n",
       "  16.40625,\n",
       "  25.90460526315789,\n",
       "  26.05514042333401,\n",
       "  33.67598684210526,\n",
       "  17.109146851503912,\n",
       "  16.40625,\n",
       "  25.04111842105263,\n",
       "  3.824013157894737,\n",
       "  24.177631578947366,\n",
       "  12.527765188255579,\n",
       "  12.497083849744016],\n",
       " [0,\n",
       "  36.26644736842105,\n",
       "  26.768092105263158,\n",
       "  23.507396375993885,\n",
       "  25.90460526315789,\n",
       "  33.67598684210526,\n",
       "  23.314144736842106,\n",
       "  34.53947368421053,\n",
       "  12.299453545221397,\n",
       "  3.824013157894737,\n",
       "  23.314144736842106,\n",
       "  32.8125,\n",
       "  39.7203947368421,\n",
       "  40.58388157894737,\n",
       "  12.223205032330796,\n",
       "  23.314144736842106,\n",
       "  31.949013157894736,\n",
       "  33.67598684210526,\n",
       "  31.08552631578947,\n",
       "  4.93421052631579,\n",
       "  30.22203947368421],\n",
       " [0,\n",
       "  5.304276315789474,\n",
       "  10.084279467516133,\n",
       "  27.631578947368418,\n",
       "  26.768092105263158,\n",
       "  34.53947368421053,\n",
       "  24.177631578947366,\n",
       "  35.40296052631579,\n",
       "  33.67598684210526,\n",
       "  27.631578947368418,\n",
       "  24.177631578947366,\n",
       "  33.67598684210526,\n",
       "  40.58388157894737,\n",
       "  5.921052631578948,\n",
       "  33.67598684210526,\n",
       "  24.177631578947366,\n",
       "  32.8125,\n",
       "  33.062887472108606,\n",
       "  31.949013157894736,\n",
       "  5.057565789473685,\n",
       "  20.3780131502383],\n",
       " [0,\n",
       "  4.194078947368421,\n",
       "  17.24340873322644,\n",
       "  9.981933824152406,\n",
       "  16.6048435511559,\n",
       "  26.768092105263158,\n",
       "  16.40625,\n",
       "  21.486042966421962,\n",
       "  25.90460526315789,\n",
       "  19.86019736842105,\n",
       "  16.40625,\n",
       "  3.700657894736842,\n",
       "  32.8125,\n",
       "  33.67598684210526,\n",
       "  25.90460526315789,\n",
       "  16.40625,\n",
       "  25.04111842105263,\n",
       "  26.768092105263158,\n",
       "  24.177631578947366,\n",
       "  27.631578947368418,\n",
       "  23.314144736842106],\n",
       " [0,\n",
       "  5.152559668368063,\n",
       "  1.480263157894737,\n",
       "  10.361842105263158,\n",
       "  1.3569078947368423,\n",
       "  17.269736842105264,\n",
       "  0.986842105263158,\n",
       "  18.133223684210524,\n",
       "  16.40625,\n",
       "  10.361842105263158,\n",
       "  6.907894736842104,\n",
       "  16.40625,\n",
       "  23.314144736842106,\n",
       "  24.177631578947366,\n",
       "  15.952548521058404,\n",
       "  6.61120889815944,\n",
       "  15.542763157894735,\n",
       "  17.269736842105264,\n",
       "  14.679276315789473,\n",
       "  18.133223684210524,\n",
       "  13.815789473684209],\n",
       " [0,\n",
       "  28.49506578947368,\n",
       "  7.961864047571705,\n",
       "  2.7138157894736845,\n",
       "  18.133223684210524,\n",
       "  3.700657894736842,\n",
       "  6.513498307201475,\n",
       "  26.768092105263158,\n",
       "  14.690420838303169,\n",
       "  2.7138157894736845,\n",
       "  2.2203947368421053,\n",
       "  25.04111842105263,\n",
       "  31.949013157894736,\n",
       "  4.6875,\n",
       "  25.04111842105263,\n",
       "  15.542763157894735,\n",
       "  19.40336626254757,\n",
       "  25.90460526315789,\n",
       "  21.23075731059525,\n",
       "  26.768092105263158,\n",
       "  7.591585579285095],\n",
       " [0,\n",
       "  30.22203947368421,\n",
       "  20.723684210526315,\n",
       "  20.723684210526315,\n",
       "  19.86019736842105,\n",
       "  27.631578947368418,\n",
       "  17.269736842105264,\n",
       "  21.90377940048432,\n",
       "  3.824013157894737,\n",
       "  20.723684210526315,\n",
       "  17.269736842105264,\n",
       "  25.371085671358948,\n",
       "  33.67598684210526,\n",
       "  34.53947368421053,\n",
       "  26.768092105263158,\n",
       "  17.269736842105264,\n",
       "  25.90460526315789,\n",
       "  27.631578947368418,\n",
       "  25.04111842105263,\n",
       "  28.49506578947368,\n",
       "  24.177631578947366],\n",
       " [0,\n",
       "  24.19072622646759,\n",
       "  4.931387447902008,\n",
       "  18.133223684210524,\n",
       "  17.269736842105264,\n",
       "  25.04111842105263,\n",
       "  14.679276315789473,\n",
       "  25.667002934833448,\n",
       "  24.177631578947366,\n",
       "  11.642730735893265,\n",
       "  14.679276315789473,\n",
       "  24.177631578947366,\n",
       "  4.440789473684211,\n",
       "  31.949013157894736,\n",
       "  3.453947368421053,\n",
       "  14.679276315789473,\n",
       "  23.314144736842106,\n",
       "  25.04111842105263,\n",
       "  22.45065789473684,\n",
       "  3.700657894736842,\n",
       "  21.58717105263158],\n",
       " [0,\n",
       "  31.08552631578947,\n",
       "  18.890590394674383,\n",
       "  21.58717105263158,\n",
       "  20.723684210526315,\n",
       "  28.49506578947368,\n",
       "  18.133223684210524,\n",
       "  29.358552631578945,\n",
       "  8.079812643567461,\n",
       "  21.58717105263158,\n",
       "  18.133223684210524,\n",
       "  27.631578947368418,\n",
       "  34.53947368421053,\n",
       "  35.40296052631579,\n",
       "  27.631578947368418,\n",
       "  18.133223684210524,\n",
       "  26.768092105263158,\n",
       "  13.770373114545013,\n",
       "  25.90460526315789,\n",
       "  29.358552631578945,\n",
       "  25.04111842105263],\n",
       " [0,\n",
       "  26.768092105263158,\n",
       "  17.269736842105264,\n",
       "  17.269736842105264,\n",
       "  16.40625,\n",
       "  3.453947368421053,\n",
       "  1.973684210526316,\n",
       "  25.04111842105263,\n",
       "  14.35312683652624,\n",
       "  17.269736842105264,\n",
       "  13.815789473684209,\n",
       "  12.126280276547078,\n",
       "  16.186349552750343,\n",
       "  31.08552631578947,\n",
       "  23.314144736842106,\n",
       "  13.815789473684209,\n",
       "  11.959340673104197,\n",
       "  24.177631578947366,\n",
       "  21.58717105263158,\n",
       "  14.537420715765322,\n",
       "  20.723684210526315]]"
      ]
     },
     "execution_count": 58,
     "metadata": {},
     "output_type": "execute_result"
    }
   ],
   "source": [
    "D"
   ]
  },
  {
   "cell_type": "code",
   "execution_count": 59,
   "id": "2d846fad",
   "metadata": {},
   "outputs": [],
   "source": [
    "D_new=np.zeros((N_new+1,N_new+1))"
   ]
  },
  {
   "cell_type": "code",
   "execution_count": 60,
   "id": "98406453",
   "metadata": {},
   "outputs": [],
   "source": [
    "for i in range(1,N+1):\n",
    "    for j in range(1,N+1):\n",
    "        if i==j:\n",
    "            continue\n",
    "        \n",
    "        i_new=conversion_old_2_new[i]\n",
    "        j_new=conversion_old_2_new[j]\n",
    "        \n",
    "        if i_new!=j_new:\n",
    "            D_new[i_new][j_new]+=D[i][j]"
   ]
  },
  {
   "cell_type": "code",
   "execution_count": 62,
   "id": "dadfcd2c",
   "metadata": {
    "scrolled": true
   },
   "outputs": [
    {
     "data": {
      "text/plain": [
       "array([[ 0.        ,  0.        ,  0.        ,  0.        ,  0.        ,\n",
       "         0.        ,  0.        ,  0.        ,  0.        ,  0.        ,\n",
       "         0.        ,  0.        ,  0.        ,  0.        ,  0.        ,\n",
       "         0.        ,  0.        ,  0.        ],\n",
       "       [ 0.        ,  0.        , 40.21381579, 59.46634504, 29.34328589,\n",
       "         6.41165061, 28.49506579, 42.31085526, 40.58388158, 22.00457284,\n",
       "        40.58388158, 27.75493421, 56.12664474, 19.40649589, 38.85690789,\n",
       "        42.31085526, 21.83388158, 35.40296053],\n",
       "       [ 0.        , 48.35526316,  0.        , 54.77644767, 41.94101575,\n",
       "        22.47108079, 18.99709355, 37.12993421, 26.43802702, 23.31414474,\n",
       "        19.12006579, 40.98266336, 50.94572368, 35.40296053,  4.81085526,\n",
       "        37.12993421, 38.85690789, 30.22203947],\n",
       "       [ 0.        , 58.57310109, 55.26315789,  0.        , 50.94572368,\n",
       "        31.94901316, 31.94901316, 45.76480263, 44.03782895, 31.94901316,\n",
       "        31.16523093, 57.85361842, 59.58059211, 44.03782895, 19.36677632,\n",
       "        44.92799809, 47.49177632, 38.04499343],\n",
       "       [ 0.        , 47.32389996, 25.28782895, 33.92269737,  0.        ,\n",
       "        23.31414474, 23.31414474, 20.77303276, 24.05514081, 16.63191332,\n",
       "        29.35855263, 36.26644737,  5.53436849, 29.35855263, 28.49506579,\n",
       "        30.22203947, 31.08552632, 26.76809211],\n",
       "       [ 0.        , 28.49506579, 19.70594486, 13.44572368, 13.74619581,\n",
       "         0.        , 13.81578947, 20.72368421,  9.04874987, 13.81578947,\n",
       "        19.86019737, 26.76809211, 27.63157895, 12.2959529 , 18.99671053,\n",
       "        20.72368421, 21.58717105,  2.46710526],\n",
       "       [ 0.        , 28.49506579, 23.31414474, 31.94901316,  3.33059211,\n",
       "        13.81578947,  0.        , 20.72368421, 19.86019737, 13.81578947,\n",
       "        17.03650981, 26.76809211, 27.63157895, 19.86019737, 18.99671053,\n",
       "         6.44213925, 21.58717105,  2.46710526],\n",
       "       [ 0.        , 25.56917914, 37.12993421, 41.74851922, 30.22203947,\n",
       "        19.25905077, 20.72368421,  0.        , 26.76809211, 20.72368421,\n",
       "        26.76809211, 33.67598684, 34.53947368, 14.54756624, 21.51384895,\n",
       "        27.63157895, 28.49506579, 24.17763158],\n",
       "       [ 0.        , 19.86019737, 26.12985612, 29.97532895, 27.01167198,\n",
       "        19.86019737, 19.86019737, 26.76809211,  0.        , 16.33637897,\n",
       "        25.90460526, 32.8125    ,  9.13409543, 25.90460526, 25.04111842,\n",
       "        26.76809211, 27.63157895, 23.31414474],\n",
       "       [ 0.        , 21.33486188, 20.66355551, 23.06743421, 23.31414474,\n",
       "        13.81578947, 13.81578947, 20.72368421, 19.86019737,  0.        ,\n",
       "        19.86019737, 26.76809211, 27.63157895,  2.83717105, 17.9346107 ,\n",
       "        20.72368421,  3.08388158, 13.45085012],\n",
       "       [ 0.        , 40.58388158, 35.40296053, 29.89675752, 29.35855263,\n",
       "        19.86019737,  2.83717105, 26.76809211, 25.90460526, 15.9343833 ,\n",
       "         0.        , 26.05514042, 33.67598684, 17.10914685, 25.04111842,\n",
       "         3.82401316, 12.52776519, 12.49708385],\n",
       "       [ 0.        , 54.39967105, 49.21875   , 57.85361842, 36.26644737,\n",
       "        26.76809211, 23.50739638, 33.67598684, 12.29945355,  3.82401316,\n",
       "        32.8125    ,  0.        , 40.58388158, 12.22320503, 31.94901316,\n",
       "        33.67598684,  4.93421053, 30.22203947],\n",
       "       [ 0.        , 56.12664474, 50.94572368, 59.58059211,  5.30427632,\n",
       "        10.08427947, 27.63157895, 34.53947368, 33.67598684, 27.63157895,\n",
       "        33.67598684, 40.58388158,  0.        , 33.67598684, 32.8125    ,\n",
       "        33.06288747,  5.05756579, 20.37801315],\n",
       "       [ 0.        , 40.58388158, 33.01109355, 37.89229297,  4.19407895,\n",
       "        17.24340873,  9.98193382, 26.76809211, 25.90460526, 19.86019737,\n",
       "         3.70065789, 32.8125    , 33.67598684,  0.        , 25.04111842,\n",
       "        26.76809211, 27.63157895, 23.31414474],\n",
       "       [ 0.        , 36.77352047, 20.35361842, 33.28159041, 28.49506579,\n",
       "         7.96186405,  2.71381579,  3.70065789, 14.69042084,  2.71381579,\n",
       "        25.04111842, 31.94901316,  4.6875    , 25.04111842,  0.        ,\n",
       "        25.90460526, 26.76809211,  7.59158558],\n",
       "       [ 0.        , 42.31085526, 37.12993421, 39.17351624, 30.22203947,\n",
       "        20.72368421, 20.72368421, 27.63157895,  3.82401316, 20.72368421,\n",
       "        25.37108567, 33.67598684, 34.53947368, 26.76809211, 25.90460526,\n",
       "         0.        , 28.49506579, 24.17763158],\n",
       "       [ 0.        , 44.03782895, 38.85690789, 47.49177632, 31.08552632,\n",
       "        18.89059039, 21.58717105, 28.49506579,  8.07981264, 21.58717105,\n",
       "        27.63157895, 34.53947368, 35.40296053, 27.63157895, 26.76809211,\n",
       "        13.77037311,  0.        , 25.04111842],\n",
       "       [ 0.        , 35.40296053, 30.22203947, 27.01480263, 26.76809211,\n",
       "        17.26973684, 17.26973684,  3.45394737, 14.35312684, 17.26973684,\n",
       "        12.12628028, 16.18634955, 31.08552632, 23.31414474, 11.95934067,\n",
       "        24.17763158, 14.53742072,  0.        ]])"
      ]
     },
     "execution_count": 62,
     "metadata": {},
     "output_type": "execute_result"
    }
   ],
   "source": [
    "D_new"
   ]
  },
  {
   "cell_type": "code",
   "execution_count": 63,
   "id": "d6c07dd1",
   "metadata": {},
   "outputs": [
    {
     "data": {
      "text/plain": [
       "40.213815789473685"
      ]
     },
     "execution_count": 63,
     "metadata": {},
     "output_type": "execute_result"
    }
   ],
   "source": [
    "D[15][4]+D[18][4]+D[15][10]+D[18][10]"
   ]
  },
  {
   "cell_type": "code",
   "execution_count": 64,
   "id": "3828eaf5",
   "metadata": {},
   "outputs": [
    {
     "data": {
      "text/plain": [
       "[0, 4, 5, 6, 2, 7, 3, 3, 8, 9, 2, 10, 11, 12, 13, 1, 14, 15, 1, 16, 17]"
      ]
     },
     "execution_count": 64,
     "metadata": {},
     "output_type": "execute_result"
    }
   ],
   "source": [
    "conversion_old_2_new"
   ]
  },
  {
   "cell_type": "code",
   "execution_count": 65,
   "id": "f943f573",
   "metadata": {},
   "outputs": [
    {
     "data": {
      "text/plain": [
       "'\\naverage_user_demand_new=[0]*(N_new+1) #recalculating average user demand for new numeration\\n\\nfor i in range(1,N+1):\\n    \\n    j=conversion_old_2_new[i]\\n    \\n    if j in trees_average_user_demand_sum:\\n        average_user_demand_new[j] = trees_average_user_demand_sum[j]\\n    else:\\n        average_user_demand_new[j] = average_user_demand[i]\\n'"
      ]
     },
     "execution_count": 65,
     "metadata": {},
     "output_type": "execute_result"
    }
   ],
   "source": [
    "'''\n",
    "average_user_demand_new=[0]*(N_new+1) #recalculating average user demand for new numeration\n",
    "\n",
    "for i in range(1,N+1):\n",
    "    \n",
    "    j=conversion_old_2_new[i]\n",
    "    \n",
    "    if j in trees_average_user_demand_sum:\n",
    "        average_user_demand_new[j] = trees_average_user_demand_sum[j]\n",
    "    else:\n",
    "        average_user_demand_new[j] = average_user_demand[i]\n",
    "'''"
   ]
  },
  {
   "cell_type": "code",
   "execution_count": 66,
   "id": "db6f8d71",
   "metadata": {
    "scrolled": false
   },
   "outputs": [
    {
     "data": {
      "text/plain": [
       "'\\ndef on_boundary(x, clust):\\n    \\n    for y in adj_new[x]:\\n        if not y in clust:\\n            return True\\n        \\n    return False\\n'"
      ]
     },
     "execution_count": 66,
     "metadata": {},
     "output_type": "execute_result"
    }
   ],
   "source": [
    "'''\n",
    "def on_boundary(x, clust):\n",
    "    \n",
    "    for y in adj_new[x]:\n",
    "        if not y in clust:\n",
    "            return True\n",
    "        \n",
    "    return False\n",
    "'''"
   ]
  },
  {
   "cell_type": "code",
   "execution_count": 67,
   "id": "8bffeab4",
   "metadata": {},
   "outputs": [],
   "source": [
    "final_vert=[0]+final_vert"
   ]
  },
  {
   "cell_type": "code",
   "execution_count": 68,
   "id": "1f50aab8",
   "metadata": {},
   "outputs": [],
   "source": [
    "B_len=len(final_vert)"
   ]
  },
  {
   "cell_type": "code",
   "execution_count": 69,
   "id": "bb0143fd",
   "metadata": {},
   "outputs": [
    {
     "data": {
      "text/plain": [
       "22"
      ]
     },
     "execution_count": 69,
     "metadata": {},
     "output_type": "execute_result"
    }
   ],
   "source": [
    "B_len"
   ]
  },
  {
   "cell_type": "code",
   "execution_count": 70,
   "id": "1dd0ba14",
   "metadata": {},
   "outputs": [],
   "source": [
    "def g_func():\n",
    "    g=np.zeros((B_len+1))\n",
    "    \n",
    "    for j in range(1,B_len-1):\n",
    "        for i in range(1,j+1):\n",
    "            #print('a',final_vert[i])\n",
    "            #print('b',j+1)\n",
    "            if j==11:\n",
    "                print(i,final_vert[i])\n",
    "                print(D_new[final_vert[i]][final_vert[j+1]]+D_new[final_vert[j+1]][final_vert[i]])\n",
    "                \n",
    "            g[j]+=D_new[final_vert[i]][final_vert[j+1]]+D_new[final_vert[j+1]][final_vert[i]]\n",
    "            \n",
    "    return g       "
   ]
  },
  {
   "cell_type": "code",
   "execution_count": 71,
   "id": "45b04518",
   "metadata": {},
   "outputs": [
    {
     "data": {
      "text/plain": [
       "[0, 8, 11, 13, 6, 16, 15, 5, 14, 10, 3, 0, 7, 12, 4, 0, 17, 0, 2, 0, 1, 9]"
      ]
     },
     "execution_count": 71,
     "metadata": {},
     "output_type": "execute_result"
    }
   ],
   "source": [
    "final_vert"
   ]
  },
  {
   "cell_type": "code",
   "execution_count": 72,
   "id": "653ec615",
   "metadata": {
    "scrolled": false
   },
   "outputs": [
    {
     "name": "stdout",
     "output_type": "stream",
     "text": [
      "1 8\n",
      "53.536184210526315\n",
      "2 11\n",
      "67.35197368421052\n",
      "3 13\n",
      "41.31565834156143\n",
      "4 6\n",
      "41.44736842105263\n",
      "5 16\n",
      "56.99013157894736\n",
      "6 15\n",
      "55.263157894736835\n",
      "7 5\n",
      "39.98273497926741\n",
      "8 14\n",
      "25.21450684716586\n",
      "9 10\n",
      "53.536184210526315\n",
      "10 3\n",
      "87.51332185173067\n",
      "11 0\n",
      "0.0\n"
     ]
    }
   ],
   "source": [
    "g=g_func()"
   ]
  },
  {
   "cell_type": "code",
   "execution_count": 73,
   "id": "b6e57bd4",
   "metadata": {},
   "outputs": [
    {
     "data": {
      "text/plain": [
       "0"
      ]
     },
     "execution_count": 73,
     "metadata": {},
     "output_type": "execute_result"
    }
   ],
   "source": [
    "final_vert[11]"
   ]
  },
  {
   "cell_type": "code",
   "execution_count": 79,
   "id": "70acf72f",
   "metadata": {},
   "outputs": [
    {
     "name": "stdout",
     "output_type": "stream",
     "text": [
      "[   0.           45.11195355   96.84491556  119.83801441  173.6225758\n",
      "  220.91152553  221.54120189  307.72629804  310.5174111   673.73870195\n",
      "    0.          522.15122202  685.46382816  605.88192301    0.\n",
      "  499.97682564    0.          941.19664372    0.         1135.99247809\n",
      "  577.0213898     0.            0.        ]\n"
     ]
    }
   ],
   "source": [
    "print(g)\n"
   ]
  },
  {
   "cell_type": "code",
   "execution_count": 75,
   "id": "c82c5d4d",
   "metadata": {
    "scrolled": false
   },
   "outputs": [
    {
     "data": {
      "text/plain": [
       "array([   0.        ,   45.11195355,   96.84491556,  119.83801441,\n",
       "        173.6225758 ,  220.91152553,  221.54120189,  307.72629804,\n",
       "        310.5174111 ,  673.73870195,    0.        ,  522.15122202,\n",
       "        685.46382816,  605.88192301,    0.        ,  499.97682564,\n",
       "          0.        ,  941.19664372,    0.        , 1135.99247809,\n",
       "        577.0213898 ,    0.        ,    0.        ])"
      ]
     },
     "execution_count": 75,
     "metadata": {},
     "output_type": "execute_result"
    }
   ],
   "source": [
    "g"
   ]
  },
  {
   "cell_type": "code",
   "execution_count": 76,
   "id": "a562295d",
   "metadata": {},
   "outputs": [],
   "source": [
    "def h_func():\n",
    "    \n",
    "    h=np.zeros((B_len+1,B_len+1))\n",
    "    \n",
    "    for i in range(2,B_len+1):\n",
    "        for j in range(i,min(i+d_max,B_len)+1):\n",
    "            h[i][j]=h[i][j-1]+D_new[final_vert[i-1]][final_vert[j]]+D_new[final_vert[j]][final_vert[i-1]]\n",
    "            \n",
    "    return h"
   ]
  },
  {
   "cell_type": "code",
   "execution_count": 77,
   "id": "a0d1e87c",
   "metadata": {},
   "outputs": [
    {
     "ename": "IndexError",
     "evalue": "list index out of range",
     "output_type": "error",
     "traceback": [
      "\u001b[1;31m---------------------------------------------------------------------------\u001b[0m",
      "\u001b[1;31mIndexError\u001b[0m                                Traceback (most recent call last)",
      "\u001b[1;32m<ipython-input-77-3c5595727037>\u001b[0m in \u001b[0;36m<module>\u001b[1;34m\u001b[0m\n\u001b[1;32m----> 1\u001b[1;33m \u001b[0mh\u001b[0m\u001b[1;33m=\u001b[0m\u001b[0mh_func\u001b[0m\u001b[1;33m(\u001b[0m\u001b[1;33m)\u001b[0m\u001b[1;33m\u001b[0m\u001b[1;33m\u001b[0m\u001b[0m\n\u001b[0m",
      "\u001b[1;32m<ipython-input-76-3d9ed93da621>\u001b[0m in \u001b[0;36mh_func\u001b[1;34m()\u001b[0m\n\u001b[0;32m      5\u001b[0m     \u001b[1;32mfor\u001b[0m \u001b[0mi\u001b[0m \u001b[1;32min\u001b[0m \u001b[0mrange\u001b[0m\u001b[1;33m(\u001b[0m\u001b[1;36m2\u001b[0m\u001b[1;33m,\u001b[0m\u001b[0mB_len\u001b[0m\u001b[1;33m+\u001b[0m\u001b[1;36m1\u001b[0m\u001b[1;33m)\u001b[0m\u001b[1;33m:\u001b[0m\u001b[1;33m\u001b[0m\u001b[1;33m\u001b[0m\u001b[0m\n\u001b[0;32m      6\u001b[0m         \u001b[1;32mfor\u001b[0m \u001b[0mj\u001b[0m \u001b[1;32min\u001b[0m \u001b[0mrange\u001b[0m\u001b[1;33m(\u001b[0m\u001b[0mi\u001b[0m\u001b[1;33m,\u001b[0m\u001b[0mmin\u001b[0m\u001b[1;33m(\u001b[0m\u001b[0mi\u001b[0m\u001b[1;33m+\u001b[0m\u001b[0md_max\u001b[0m\u001b[1;33m,\u001b[0m\u001b[0mB_len\u001b[0m\u001b[1;33m)\u001b[0m\u001b[1;33m+\u001b[0m\u001b[1;36m1\u001b[0m\u001b[1;33m)\u001b[0m\u001b[1;33m:\u001b[0m\u001b[1;33m\u001b[0m\u001b[1;33m\u001b[0m\u001b[0m\n\u001b[1;32m----> 7\u001b[1;33m             \u001b[0mh\u001b[0m\u001b[1;33m[\u001b[0m\u001b[0mi\u001b[0m\u001b[1;33m]\u001b[0m\u001b[1;33m[\u001b[0m\u001b[0mj\u001b[0m\u001b[1;33m]\u001b[0m\u001b[1;33m=\u001b[0m\u001b[0mh\u001b[0m\u001b[1;33m[\u001b[0m\u001b[0mi\u001b[0m\u001b[1;33m]\u001b[0m\u001b[1;33m[\u001b[0m\u001b[0mj\u001b[0m\u001b[1;33m-\u001b[0m\u001b[1;36m1\u001b[0m\u001b[1;33m]\u001b[0m\u001b[1;33m+\u001b[0m\u001b[0mD_new\u001b[0m\u001b[1;33m[\u001b[0m\u001b[0mfinal_vert\u001b[0m\u001b[1;33m[\u001b[0m\u001b[0mi\u001b[0m\u001b[1;33m-\u001b[0m\u001b[1;36m1\u001b[0m\u001b[1;33m]\u001b[0m\u001b[1;33m]\u001b[0m\u001b[1;33m[\u001b[0m\u001b[0mfinal_vert\u001b[0m\u001b[1;33m[\u001b[0m\u001b[0mj\u001b[0m\u001b[1;33m]\u001b[0m\u001b[1;33m]\u001b[0m\u001b[1;33m+\u001b[0m\u001b[0mD_new\u001b[0m\u001b[1;33m[\u001b[0m\u001b[0mfinal_vert\u001b[0m\u001b[1;33m[\u001b[0m\u001b[0mj\u001b[0m\u001b[1;33m]\u001b[0m\u001b[1;33m]\u001b[0m\u001b[1;33m[\u001b[0m\u001b[0mfinal_vert\u001b[0m\u001b[1;33m[\u001b[0m\u001b[0mi\u001b[0m\u001b[1;33m-\u001b[0m\u001b[1;36m1\u001b[0m\u001b[1;33m]\u001b[0m\u001b[1;33m]\u001b[0m\u001b[1;33m\u001b[0m\u001b[1;33m\u001b[0m\u001b[0m\n\u001b[0m\u001b[0;32m      8\u001b[0m \u001b[1;33m\u001b[0m\u001b[0m\n\u001b[0;32m      9\u001b[0m     \u001b[1;32mreturn\u001b[0m \u001b[0mh\u001b[0m\u001b[1;33m\u001b[0m\u001b[1;33m\u001b[0m\u001b[0m\n",
      "\u001b[1;31mIndexError\u001b[0m: list index out of range"
     ]
    }
   ],
   "source": [
    "h=h_func()"
   ]
  },
  {
   "cell_type": "code",
   "execution_count": null,
   "id": "4f6e8af1",
   "metadata": {
    "scrolled": true
   },
   "outputs": [],
   "source": [
    "h[2][3]"
   ]
  },
  {
   "cell_type": "code",
   "execution_count": null,
   "id": "60ee9b37",
   "metadata": {},
   "outputs": [],
   "source": [
    "b=final_vert"
   ]
  },
  {
   "cell_type": "code",
   "execution_count": null,
   "id": "709bb171",
   "metadata": {
    "scrolled": true
   },
   "outputs": [],
   "source": [
    "D_new[b[1]][b[2]]+D_new[b[2]][b[1]]+D_new[b[1]][b[3]]+D_new[b[3]][b[1]]"
   ]
  },
  {
   "cell_type": "code",
   "execution_count": null,
   "id": "d463f2fc",
   "metadata": {},
   "outputs": [],
   "source": [
    "B_len"
   ]
  },
  {
   "cell_type": "code",
   "execution_count": null,
   "id": "cd93eaa4",
   "metadata": {},
   "outputs": [],
   "source": [
    "for k in range(1,n_max+1):\n",
    "   \n",
    "    for j in range(1,B_len+1):\n",
    "        bound_router_sum=0  \n",
    "        #clust=set()\n",
    "        cluster_estimation=0\n",
    "        \n",
    "        for l in range(1,max(j-k+1,d_max)+1):\n",
    "\n",
    "            if final_vert[j-l+1] == 0:\n",
    "                break\n",
    "\n",
    "            #clust.add(final_vert[j-l+1])\n",
    "\n",
    "            #if on_boundary(final_vert[j-l+1], clust):\n",
    "            #    bound_router_sum+=final_vert[j-l+1]\n",
    "\n",
    "            #if bound_router_sum<theta*sum_D:\n",
    "            #    continue\n",
    "            \n",
    "            #print(g[j-l])\n",
    "            print('a',j-l+2)\n",
    "            print(h[j-l+2,j])\n",
    "\n",
    "            cluster_estimation+=g[j-l]-h[j-l+2,j]\n",
    "            \n",
    "            #print(f[j][k])\n",
    "\n",
    "            if f[j][k]<cluster_estimation + f[j-l][k-1]:\n",
    "                if final_vert[j-l]!=0:\n",
    "                    f[j][k]=cluster_estimation + f[j-l][k-1]\n",
    "                else:\n",
    "                    f[j][k]=cluster_estimation + f[j-l-1][k-1]\n",
    "                    \n",
    "                prev[i][j][k]=j-l\n",
    "                    "
   ]
  },
  {
   "cell_type": "code",
   "execution_count": null,
   "id": "5721d4a3",
   "metadata": {},
   "outputs": [],
   "source": []
  }
 ],
 "metadata": {
  "kernelspec": {
   "display_name": "Python 3",
   "language": "python",
   "name": "python3"
  },
  "language_info": {
   "codemirror_mode": {
    "name": "ipython",
    "version": 3
   },
   "file_extension": ".py",
   "mimetype": "text/x-python",
   "name": "python",
   "nbconvert_exporter": "python",
   "pygments_lexer": "ipython3",
   "version": "3.7.10"
  }
 },
 "nbformat": 4,
 "nbformat_minor": 5
}
