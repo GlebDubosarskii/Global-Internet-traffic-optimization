{
 "cells": [
  {
   "cell_type": "code",
   "execution_count": 1,
   "id": "cf1e86f5",
   "metadata": {},
   "outputs": [],
   "source": [
    "import numpy as np\n",
    "from networkx.generators.random_graphs import erdos_renyi_graph\n",
    "import random"
   ]
  },
  {
   "cell_type": "markdown",
   "id": "1f52abf0",
   "metadata": {},
   "source": [
    "# Network parameters"
   ]
  },
  {
   "cell_type": "code",
   "execution_count": 2,
   "id": "5e3369d6",
   "metadata": {},
   "outputs": [],
   "source": [
    "n=5 #Prime router number\n",
    "m=3 #shortest path number\n",
    "av_weight=10\n",
    "var_weight=3\n",
    "N=10 #regular router number\n",
    "prime_router_factor=10\n",
    "min_prime_rate=3\n",
    "\n",
    "file_name_full_graph='full_graph_{}_{}.txt'.format(n,N)\n",
    "file_name_full_graph_optimal_path='full_graph_and_prime_shortest_path_{}_{}.txt'.format(n,N)\n",
    "file_name_cluster_graph='cluster_graph_{}_{}.txt'.format(n,N)\n",
    "file_name_shortest_path='full_graph_shortest_path_{}_{}.txt'.format(n,N)\n",
    "file_name_prime_routers_shortest_path='prime_graph_shortest_path_{}_{}.txt'.format(n,N)\n",
    "file_name_prime_graph='prime_graph_{}_{}.txt'.format(n,N)"
   ]
  },
  {
   "cell_type": "markdown",
   "id": "8af00317",
   "metadata": {},
   "source": [
    "# Graph generation"
   ]
  },
  {
   "cell_type": "code",
   "execution_count": 3,
   "id": "b16a81e4",
   "metadata": {
    "scrolled": true
   },
   "outputs": [],
   "source": [
    "p = 0.5\n",
    "g = erdos_renyi_graph(n+N, p)"
   ]
  },
  {
   "cell_type": "code",
   "execution_count": 4,
   "id": "2798be3b",
   "metadata": {},
   "outputs": [
    {
     "name": "stdout",
     "output_type": "stream",
     "text": [
      "[0, 1, 2, 3, 4, 5, 6, 7, 8, 9, 10, 11, 12, 13, 14]\n"
     ]
    }
   ],
   "source": [
    "print(g.nodes)"
   ]
  },
  {
   "cell_type": "code",
   "execution_count": 5,
   "id": "fa951866",
   "metadata": {
    "scrolled": false
   },
   "outputs": [
    {
     "name": "stdout",
     "output_type": "stream",
     "text": [
      "[(0, 2), (0, 4), (0, 5), (0, 6), (0, 7), (0, 12), (0, 13), (1, 2), (1, 4), (1, 5), (1, 8), (1, 13), (2, 3), (2, 4), (2, 5), (2, 6), (2, 10), (2, 11), (2, 13), (3, 5), (3, 7), (3, 8), (3, 12), (4, 10), (4, 11), (4, 12), (5, 6), (5, 9), (5, 13), (5, 14), (6, 7), (6, 11), (6, 12), (6, 13), (7, 8), (7, 9), (7, 11), (7, 12), (7, 13), (7, 14), (8, 9), (8, 10), (8, 12), (8, 13), (9, 11), (9, 13), (9, 14), (10, 11), (11, 12), (11, 13), (11, 14), (12, 14)]\n"
     ]
    }
   ],
   "source": [
    "print(g.edges)"
   ]
  },
  {
   "cell_type": "markdown",
   "id": "b3468ff9",
   "metadata": {},
   "source": [
    "# Saving clustering graph to file"
   ]
  },
  {
   "cell_type": "code",
   "execution_count": 6,
   "id": "753e8146",
   "metadata": {},
   "outputs": [],
   "source": [
    "edges=[]\n",
    "weight=dict()"
   ]
  },
  {
   "cell_type": "code",
   "execution_count": 7,
   "id": "582e8adf",
   "metadata": {},
   "outputs": [],
   "source": [
    "with open('test/'+file_name_cluster_graph, 'w') as f:\n",
    "    \n",
    "    f.write('{}\\n\\n'.format(n+N))\n",
    "    #f.write('\\n')\n",
    "    for e in g.edges:\n",
    "        x,y=e\n",
    "        \n",
    "        if x>=N and y>=N:\n",
    "            weight[(x+1,y+1)] = max(random.uniform(0,1)*prime_router_factor,min_prime_rate)\n",
    "        else:\n",
    "            weight[(x+1,y+1)] = random.uniform(0,1) #np.random.normal(av_weight,var_weight)\n",
    "            \n",
    "        edges.append([x+1,y+1,weight[(x,y)]])\n",
    "            \n",
    "        if not (x>=N and y>=N): # we exclude edges between prime routers\n",
    "            \n",
    "            f.write(str(x+1)+' '+str(y+1)+' '+str(weight[(x+1,y+1)])+'\\n')\n",
    "            f.write(str(y+1)+' '+str(x+1)+' '+str(weight[(x+1,y+1)])+'\\n')\n",
    "        \n",
    "    \n",
    "    f.close()"
   ]
  },
  {
   "cell_type": "code",
   "execution_count": 8,
   "id": "111503ed",
   "metadata": {
    "scrolled": true
   },
   "outputs": [
    {
     "data": {
      "text/plain": [
       "[[1, 3, 0.23142470169810703],\n",
       " [1, 5, 0.7536451376844908],\n",
       " [1, 6, 0.4638092727662523],\n",
       " [1, 7, 0.9581887310477116],\n",
       " [1, 8, 0.11962100470551662],\n",
       " [1, 13, 0.10916629732677441],\n",
       " [1, 14, 0.9991049222877524],\n",
       " [2, 3, 0.032934312265980425],\n",
       " [2, 5, 0.6369470115993228],\n",
       " [2, 6, 0.9557802366404332],\n",
       " [2, 9, 0.3430049053278973],\n",
       " [2, 14, 0.7731763192800118],\n",
       " [3, 4, 0.501869175806194],\n",
       " [3, 5, 0.882580654303218],\n",
       " [3, 6, 0.013962574310672937],\n",
       " [3, 7, 0.3114343887508788],\n",
       " [3, 11, 0.6107640985517377],\n",
       " [3, 12, 0.7868252034308975],\n",
       " [3, 14, 0.9658427179915304],\n",
       " [4, 6, 0.7856803587257708],\n",
       " [4, 8, 0.6293629338431845],\n",
       " [4, 9, 0.15686755357253557],\n",
       " [4, 13, 0.959083650317909],\n",
       " [5, 11, 0.527469403352322],\n",
       " [5, 12, 0.9106297271042973],\n",
       " [5, 13, 0.2205953804350782],\n",
       " [6, 7, 0.30109441644938073],\n",
       " [6, 10, 0.3631171495707618],\n",
       " [6, 14, 0.09358494281131546],\n",
       " [6, 15, 0.7607834802666427],\n",
       " [7, 8, 0.7155447128712005],\n",
       " [7, 12, 0.394890612871726],\n",
       " [7, 13, 0.03025493478792629],\n",
       " [7, 14, 0.5024585272385187],\n",
       " [8, 9, 0.4944022489432707],\n",
       " [8, 10, 0.9232024945937418],\n",
       " [8, 12, 0.557331532500797],\n",
       " [8, 13, 0.007939290835185409],\n",
       " [8, 14, 0.663274286677675],\n",
       " [8, 15, 0.6724145846098308],\n",
       " [9, 10, 0.3366678212463292],\n",
       " [9, 11, 0.9164265079854031],\n",
       " [9, 13, 0.2661622028996662],\n",
       " [9, 14, 0.21853921759276007],\n",
       " [10, 12, 0.6221275095205333],\n",
       " [10, 14, 0.9388427054657947],\n",
       " [10, 15, 0.4142195665388452],\n",
       " [11, 12, 6.089308538078741],\n",
       " [12, 13, 3],\n",
       " [12, 14, 4.977825363992857],\n",
       " [12, 15, 5.3342404165033095],\n",
       " [13, 15, 3.1448932613183276]]"
      ]
     },
     "execution_count": 8,
     "metadata": {},
     "output_type": "execute_result"
    }
   ],
   "source": [
    "edges"
   ]
  },
  {
   "cell_type": "markdown",
   "id": "a18df381",
   "metadata": {},
   "source": [
    "# Saving full graph"
   ]
  },
  {
   "cell_type": "code",
   "execution_count": null,
   "id": "b1e40ce3",
   "metadata": {},
   "outputs": [],
   "source": [
    "with open('test/'+file_name_full_graph, 'w') as f:\n",
    "    \n",
    "    f.write('{}\\n\\n'.format(n+N))\n",
    "    #f.write('\\n')\n",
    "    for e in g.edges:\n",
    "        x,y=e\n",
    "\n",
    "        edges.append([x+1,y+1,weight[(x+1,y+1)]])\n",
    "            \n",
    "            \n",
    "        f.write(str(x+1)+' '+str(y+1)+' '+str(weight[(x+1,y+1)])+'\\n')\n",
    "        f.write(str(y+1)+' '+str(x+1)+' '+str(weight[(x+1,y+1)])+'\\n')\n",
    "        \n",
    "    \n",
    "    f.close()"
   ]
  },
  {
   "cell_type": "markdown",
   "id": "b481695b",
   "metadata": {},
   "source": [
    "# Saving prime graph to file"
   ]
  },
  {
   "cell_type": "code",
   "execution_count": 9,
   "id": "08d4d5bb",
   "metadata": {},
   "outputs": [],
   "source": [
    "with open('test/'+file_name_prime_graph, 'w') as f:\n",
    "    f.write(str(n)+'\\n\\n')\n",
    "\n",
    "    for e in edges:\n",
    "        x,y,weight=e\n",
    "        \n",
    "        if x>N and y>N:\n",
    "            \n",
    "            f.write(str(x-N)+' '+str(y-N)+' '+str(weight)+'\\n')\n",
    "            f.write(str(y-N)+' '+str(x-N)+' '+str(weight)+'\\n')\n",
    "            "
   ]
  },
  {
   "cell_type": "markdown",
   "id": "3fc89236",
   "metadata": {},
   "source": [
    "# Loading the clustering graph"
   ]
  },
  {
   "cell_type": "code",
   "execution_count": 10,
   "id": "ffec56ac",
   "metadata": {},
   "outputs": [],
   "source": [
    "from yen import YenAlgorithm\n",
    "import tools"
   ]
  },
  {
   "cell_type": "code",
   "execution_count": 11,
   "id": "4344a917",
   "metadata": {},
   "outputs": [],
   "source": [
    "clust_graph, _, _, _ = tools.getGraphStructure(file_name_cluster_graph) #test_10.txt"
   ]
  },
  {
   "cell_type": "code",
   "execution_count": 12,
   "id": "63c36093",
   "metadata": {},
   "outputs": [
    {
     "name": "stdout",
     "output_type": "stream",
     "text": [
      "[[inf, inf, 0.23142470169810703, inf, 0.7536451376844908, 0.4638092727662523, 0.9581887310477116, 0.11962100470551662, inf, inf, inf, inf, 0.10916629732677441, 0.9991049222877524, inf], [inf, inf, 0.032934312265980425, inf, 0.6369470115993228, 0.9557802366404332, inf, inf, 0.3430049053278973, inf, inf, inf, inf, 0.7731763192800118, inf], [0.23142470169810703, 0.032934312265980425, inf, 0.501869175806194, 0.882580654303218, 0.013962574310672937, 0.3114343887508788, inf, inf, inf, 0.6107640985517377, 0.7868252034308975, inf, 0.9658427179915304, inf], [inf, inf, 0.501869175806194, inf, inf, 0.7856803587257708, inf, 0.6293629338431845, 0.15686755357253557, inf, inf, inf, 0.959083650317909, inf, inf], [0.7536451376844908, 0.6369470115993228, 0.882580654303218, inf, inf, inf, inf, inf, inf, inf, 0.527469403352322, 0.9106297271042973, 0.2205953804350782, inf, inf], [0.4638092727662523, 0.9557802366404332, 0.013962574310672937, 0.7856803587257708, inf, inf, 0.30109441644938073, inf, inf, 0.3631171495707618, inf, inf, inf, 0.09358494281131546, 0.7607834802666427], [0.9581887310477116, inf, 0.3114343887508788, inf, inf, 0.30109441644938073, inf, 0.7155447128712005, inf, inf, inf, 0.394890612871726, 0.03025493478792629, 0.5024585272385187, inf], [0.11962100470551662, inf, inf, 0.6293629338431845, inf, inf, 0.7155447128712005, inf, 0.4944022489432707, 0.9232024945937418, inf, 0.557331532500797, 0.007939290835185409, 0.663274286677675, 0.6724145846098308], [inf, 0.3430049053278973, inf, 0.15686755357253557, inf, inf, inf, 0.4944022489432707, inf, 0.3366678212463292, 0.9164265079854031, inf, 0.2661622028996662, 0.21853921759276007, inf], [inf, inf, inf, inf, inf, 0.3631171495707618, inf, 0.9232024945937418, 0.3366678212463292, inf, inf, 0.6221275095205333, inf, 0.9388427054657947, 0.4142195665388452], [inf, inf, 0.6107640985517377, inf, 0.527469403352322, inf, inf, inf, 0.9164265079854031, inf, inf, inf, inf, inf, inf], [inf, inf, 0.7868252034308975, inf, 0.9106297271042973, inf, 0.394890612871726, 0.557331532500797, inf, 0.6221275095205333, inf, inf, inf, inf, inf], [0.10916629732677441, inf, inf, 0.959083650317909, 0.2205953804350782, inf, 0.03025493478792629, 0.007939290835185409, 0.2661622028996662, inf, inf, inf, inf, inf, inf], [0.9991049222877524, 0.7731763192800118, 0.9658427179915304, inf, inf, 0.09358494281131546, 0.5024585272385187, 0.663274286677675, 0.21853921759276007, 0.9388427054657947, inf, inf, inf, inf, inf], [inf, inf, inf, inf, inf, 0.7607834802666427, inf, 0.6724145846098308, inf, 0.4142195665388452, inf, inf, inf, inf, inf]]\n"
     ]
    }
   ],
   "source": [
    "print(clust_graph)"
   ]
  },
  {
   "cell_type": "markdown",
   "id": "d0c3425f",
   "metadata": {},
   "source": [
    "# Saving the shortest paths between very pair of vertices of the cluster graph"
   ]
  },
  {
   "cell_type": "code",
   "execution_count": 13,
   "id": "15f683b3",
   "metadata": {},
   "outputs": [],
   "source": [
    "with open('test/'+file_name_shortest_path, 'w') as f:\n",
    "    \n",
    "    f.write('{} {}\\n'.format(n,N))\n",
    "\n",
    "    for i in range(n+N):\n",
    "        for j in range(n+N):\n",
    "            if i != j:\n",
    "                shortest_path_tree = YenAlgorithm(clust_graph, i, j, 1)\n",
    "                #print(i,j,shortest_path_tree,'\\n')\n",
    "                #tools.printPaths(shortest_path_tree)\n",
    "                \n",
    "                if not (i==0 and j==1):\n",
    "                    f.write('\\n')\n",
    "                    \n",
    "                f.write(str(i+1)+' '+str(j+1)+'\\n')\n",
    "                \n",
    "                for el in shortest_path_tree:\n",
    "                    f.write(str(el['cost'])+'\\n')\n",
    "                    #print(el['path'])\n",
    "                    #print('getCompletePath',tools.getCompletePath(el))\n",
    "                    #path=tools.getCompletePath(el['path'])\n",
    "                    #f.write(' '.join(map(str,el['path']))+'\\n')\n",
    "                    path=tools.getCompletePath(el)\n",
    "                    path = [str(e+1) for e in path]\n",
    "\n",
    "                    f.write(' '.join(path)+'\\n')\n",
    "                    \n",
    "    f.close()\n",
    "    "
   ]
  },
  {
   "cell_type": "markdown",
   "id": "76cb3e5c",
   "metadata": {},
   "source": [
    "# Saving prime graph m shortest paths"
   ]
  },
  {
   "cell_type": "code",
   "execution_count": 14,
   "id": "df559bf9",
   "metadata": {},
   "outputs": [],
   "source": [
    "prime_graph, _, _, _ = tools.getGraphStructure(file_name_prime_graph)"
   ]
  },
  {
   "cell_type": "code",
   "execution_count": 15,
   "id": "15ba88d3",
   "metadata": {},
   "outputs": [],
   "source": [
    "with open('test/'+file_name_prime_routers_shortest_path, 'w') as f:\n",
    "    \n",
    "    f.write(str(n)+'\\n\\n')\n",
    "\n",
    "    for i in range(n):\n",
    "        for j in range(n):\n",
    "            if i != j:\n",
    "                shortest_path_tree = YenAlgorithm(prime_graph, i, j, m)\n",
    "                #print(i,j,shortest_path_tree,'\\n')\n",
    "                #tools.printPaths(shortest_path_tree)\n",
    "                \n",
    "                if not (i==0 and j==1):\n",
    "                    f.write('\\n')\n",
    "                    \n",
    "                f.write(str(i+1)+' '+str(j+1)+'\\n')\n",
    "                \n",
    "                for el in shortest_path_tree:\n",
    "                    f.write(str(el['cost'])+'\\n')\n",
    "                    #print(el['path'])\n",
    "                    #print('getCompletePath',tools.getCompletePath(el))\n",
    "                    #path=tools.getCompletePath(el['path'])\n",
    "                    #f.write(' '.join(map(str,el['path']))+'\\n')\n",
    "                    path=tools.getCompletePath(el)\n",
    "                    path = [str(e+1) for e in path]\n",
    "\n",
    "                    f.write(' '.join(path)+'\\n')\n",
    "                    \n",
    "    f.close()\n",
    "    "
   ]
  },
  {
   "cell_type": "markdown",
   "id": "67d7903e",
   "metadata": {},
   "source": [
    "# Saving shortest path in full graph"
   ]
  },
  {
   "cell_type": "code",
   "execution_count": null,
   "id": "77622292",
   "metadata": {},
   "outputs": [],
   "source": [
    "full_graph, _, _, _ = tools.getGraphStructure(file_name_shortest_path)"
   ]
  },
  {
   "cell_type": "code",
   "execution_count": null,
   "id": "8e491677",
   "metadata": {},
   "outputs": [],
   "source": [
    "with open('test/'+file_name_full_graph_optimal_path, 'w') as f:\n",
    "    \n",
    "    f.write('{} {}\\n'.format(n,N))\n",
    "\n",
    "    for i in range(n+N):\n",
    "        for j in range(n+N):\n",
    "            if i != j:\n",
    "                shortest_path_tree = YenAlgorithm(full_graph, i, j, 1)\n",
    "                #print(i,j,shortest_path_tree,'\\n')\n",
    "                #tools.printPaths(shortest_path_tree)\n",
    "                \n",
    "                if not (i==0 and j==1):\n",
    "                    f.write('\\n')\n",
    "                    \n",
    "                f.write(str(i+1)+' '+str(j+1)+'\\n')\n",
    "                \n",
    "                for el in shortest_path_tree:\n",
    "                    f.write(str(el['cost'])+'\\n')\n",
    "                    #print(el['path'])\n",
    "                    #print('getCompletePath',tools.getCompletePath(el))\n",
    "                    #path=tools.getCompletePath(el['path'])\n",
    "                    #f.write(' '.join(map(str,el['path']))+'\\n')\n",
    "                    path=tools.getCompletePath(el)\n",
    "                    path = [str(e+1) for e in path]\n",
    "\n",
    "                    f.write(' '.join(path)+'\\n')\n",
    "                    \n",
    "    f.close()"
   ]
  }
 ],
 "metadata": {
  "kernelspec": {
   "display_name": "Python 3",
   "language": "python",
   "name": "python3"
  },
  "language_info": {
   "codemirror_mode": {
    "name": "ipython",
    "version": 3
   },
   "file_extension": ".py",
   "mimetype": "text/x-python",
   "name": "python",
   "nbconvert_exporter": "python",
   "pygments_lexer": "ipython3",
   "version": "3.7.10"
  }
 },
 "nbformat": 4,
 "nbformat_minor": 5
}
