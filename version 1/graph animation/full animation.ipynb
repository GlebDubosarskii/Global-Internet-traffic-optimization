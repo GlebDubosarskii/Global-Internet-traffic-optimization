{
 "cells": [
  {
   "cell_type": "code",
   "execution_count": null,
   "id": "ed8d7bc1",
   "metadata": {},
   "outputs": [
    {
     "name": "stdout",
     "output_type": "stream",
     "text": [
      "pygame 2.1.0 (SDL 2.0.16, Python 3.7.10)\n",
      "Hello from the pygame community. https://www.pygame.org/contribute.html\n",
      "Choose increment?\n",
      "  circles: 1  - basic drawing skills in pygame\n",
      "  add edges: 2 - adding graph edges to drawing\n",
      "  full animation: 3 - adding full animation\n",
      "  NOTE: user repl STOP button to quit animation\n",
      "  ? 3\n"
     ]
    }
   ],
   "source": [
    "import circles\n",
    "import add_edges\n",
    "import full_anim\n",
    "\n",
    "# how to write code to show operations of\n",
    "# a graph algorithm in Pycharm simular to\n",
    "# my popular video: https://youtu.be/x-VTfcmrLEQ\n",
    "# but simplified for newer programmers\n",
    "\n",
    "# link to video about this code: <will be here>\n",
    "\n",
    "prompt = \"\"\"Choose increment?\n",
    "  circles: 1  - basic drawing skills in pygame\n",
    "  add edges: 2 - adding graph edges to drawing\n",
    "  full animation: 3 - adding full animation\n",
    "  NOTE: user repl STOP button to quit animation\n",
    "  ? \"\"\"\n",
    "  \n",
    "choice = input(prompt)\n",
    "\n",
    "if choice == '1': circles.run()\n",
    "if choice == '2': add_edges.run()\n",
    "if choice == '3': full_anim.run()\n",
    "\n",
    "print(\"run again and type 1, 2, or 3 only\")"
   ]
  },
  {
   "cell_type": "code",
   "execution_count": null,
   "id": "8a1a33e8",
   "metadata": {},
   "outputs": [],
   "source": []
  }
 ],
 "metadata": {
  "kernelspec": {
   "display_name": "Python 3",
   "language": "python",
   "name": "python3"
  },
  "language_info": {
   "codemirror_mode": {
    "name": "ipython",
    "version": 3
   },
   "file_extension": ".py",
   "mimetype": "text/x-python",
   "name": "python",
   "nbconvert_exporter": "python",
   "pygments_lexer": "ipython3",
   "version": "3.7.10"
  }
 },
 "nbformat": 4,
 "nbformat_minor": 5
}
