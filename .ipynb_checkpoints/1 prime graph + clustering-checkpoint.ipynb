{
 "cells": [
  {
   "cell_type": "code",
   "execution_count": 1,
   "id": "cf1e86f5",
   "metadata": {},
   "outputs": [],
   "source": [
    "import numpy as np\n",
    "from networkx.generators.random_graphs import erdos_renyi_graph\n",
    "import random"
   ]
  },
  {
   "cell_type": "markdown",
   "id": "1f52abf0",
   "metadata": {},
   "source": [
    "# Network parameters"
   ]
  },
  {
   "cell_type": "code",
   "execution_count": 2,
   "id": "5e3369d6",
   "metadata": {},
   "outputs": [],
   "source": [
    "n=5 #Prime router number\n",
    "m=3 #shortest path number\n",
    "av_weight=10\n",
    "var_weight=3\n",
    "N=10 #regular router number\n",
    "prime_router_factor=10\n",
    "min_prime_rate=3\n",
    "\n",
    "file_name_cluster_graph='cluster_graph_{}_{}.txt'.format(n,N)\n",
    "file_name_shortest_path='full_graph_shortest_path_{}_{}.txt'.format(n,N)\n",
    "file_name_prime_routers_shortest_path='full_graph_prime_routers_shortest_path_{}_{}.txt'.format(n,N)\n",
    "file_name_prime_graph='prime_graph_{}_{}.txt'.format(n,N)"
   ]
  },
  {
   "cell_type": "markdown",
   "id": "8af00317",
   "metadata": {},
   "source": [
    "# Graph generation"
   ]
  },
  {
   "cell_type": "code",
   "execution_count": 3,
   "id": "b16a81e4",
   "metadata": {
    "scrolled": true
   },
   "outputs": [],
   "source": [
    "p = 0.5\n",
    "g = erdos_renyi_graph(n+N, p)"
   ]
  },
  {
   "cell_type": "code",
   "execution_count": 4,
   "id": "2798be3b",
   "metadata": {},
   "outputs": [
    {
     "name": "stdout",
     "output_type": "stream",
     "text": [
      "[0, 1, 2, 3, 4, 5, 6, 7, 8, 9, 10, 11, 12, 13, 14]\n"
     ]
    }
   ],
   "source": [
    "print(g.nodes)"
   ]
  },
  {
   "cell_type": "code",
   "execution_count": 5,
   "id": "fa951866",
   "metadata": {
    "scrolled": false
   },
   "outputs": [
    {
     "name": "stdout",
     "output_type": "stream",
     "text": [
      "[(0, 1), (0, 2), (0, 8), (0, 9), (0, 10), (0, 13), (0, 14), (1, 2), (1, 4), (1, 7), (1, 8), (1, 9), (1, 11), (1, 13), (1, 14), (2, 3), (2, 4), (2, 5), (2, 7), (2, 9), (2, 11), (2, 12), (2, 13), (3, 7), (3, 12), (3, 13), (3, 14), (4, 6), (4, 7), (4, 8), (4, 11), (4, 12), (4, 13), (5, 7), (5, 13), (5, 14), (6, 7), (6, 8), (6, 9), (6, 12), (7, 8), (7, 9), (7, 10), (7, 13), (8, 11), (8, 14), (9, 11), (9, 14), (10, 13), (11, 12), (12, 13), (12, 14), (13, 14)]\n"
     ]
    }
   ],
   "source": [
    "print(g.edges)"
   ]
  },
  {
   "cell_type": "markdown",
   "id": "b3468ff9",
   "metadata": {},
   "source": [
    "# Saving clustering graph to file"
   ]
  },
  {
   "cell_type": "code",
   "execution_count": 6,
   "id": "c579b798",
   "metadata": {},
   "outputs": [],
   "source": [
    "edges=[]"
   ]
  },
  {
   "cell_type": "code",
   "execution_count": 7,
   "id": "582e8adf",
   "metadata": {},
   "outputs": [],
   "source": [
    "with open('test/'+file_name_cluster_graph, 'w') as f:\n",
    "    \n",
    "    f.write('{}\\n\\n'.format(n+N))\n",
    "    #f.write('\\n')\n",
    "    for e in g.edges:\n",
    "        x,y=e\n",
    "        \n",
    "        if x>=N and y>=N:\n",
    "            weight = max(random.uniform(0,1)*prime_router_factor,min_prime_rate)\n",
    "        else:\n",
    "            weight = random.uniform(0,1) #np.random.normal(av_weight,var_weight)\n",
    "            \n",
    "        edges.append([x+1,y+1,weight])\n",
    "            \n",
    "        if not (x>=N and y>=N): # we exclude edges between prime routers\n",
    "            \n",
    "            f.write(str(x+1)+' '+str(y+1)+' '+str(weight)+'\\n')\n",
    "            f.write(str(y+1)+' '+str(x+1)+' '+str(weight)+'\\n')\n",
    "        \n",
    "    \n",
    "    f.close()"
   ]
  },
  {
   "cell_type": "code",
   "execution_count": 8,
   "id": "beaf6663",
   "metadata": {
    "scrolled": true
   },
   "outputs": [
    {
     "data": {
      "text/plain": [
       "[[1, 2, 0.7713029892629966],\n",
       " [1, 3, 0.6119790351324885],\n",
       " [1, 9, 0.9460869073600557],\n",
       " [1, 10, 0.8990261973505126],\n",
       " [1, 11, 0.8565528537690285],\n",
       " [1, 14, 0.5408686140427738],\n",
       " [1, 15, 0.16840453018135104],\n",
       " [2, 3, 0.6390061584667255],\n",
       " [2, 5, 0.8472696247742141],\n",
       " [2, 8, 0.26599650701492983],\n",
       " [2, 9, 0.882823097237995],\n",
       " [2, 10, 0.053459864252487055],\n",
       " [2, 12, 0.6867384108667517],\n",
       " [2, 14, 0.9233574656711312],\n",
       " [2, 15, 0.527992779784526],\n",
       " [3, 4, 0.13801852122848146],\n",
       " [3, 5, 0.7233685767506042],\n",
       " [3, 6, 0.8134428270775979],\n",
       " [3, 8, 0.29272215281065306],\n",
       " [3, 10, 0.33562027381415915],\n",
       " [3, 12, 0.13660988944738373],\n",
       " [3, 13, 0.8346789609445388],\n",
       " [3, 14, 0.8464362295063711],\n",
       " [4, 8, 0.2202458447282123],\n",
       " [4, 13, 0.6485292403433848],\n",
       " [4, 14, 0.6909071087854529],\n",
       " [4, 15, 0.4306858562104],\n",
       " [5, 7, 0.5806204758996053],\n",
       " [5, 8, 0.30650941425910805],\n",
       " [5, 9, 0.16257035102166273],\n",
       " [5, 12, 0.7708926645869881],\n",
       " [5, 13, 0.9508700930851203],\n",
       " [5, 14, 0.8994212493071584],\n",
       " [6, 8, 0.8090416250816265],\n",
       " [6, 14, 0.033279020996455855],\n",
       " [6, 15, 0.9336364058782446],\n",
       " [7, 8, 0.6581807093277303],\n",
       " [7, 9, 0.9630573108573949],\n",
       " [7, 10, 0.7281227739378752],\n",
       " [7, 13, 0.13915602936298632],\n",
       " [8, 9, 0.2820009248329258],\n",
       " [8, 10, 0.16900955248901095],\n",
       " [8, 11, 0.510647687496606],\n",
       " [8, 14, 0.9455381319320129],\n",
       " [9, 12, 0.5643027653440558],\n",
       " [9, 15, 0.26001475513492855],\n",
       " [10, 12, 0.44831089330401264],\n",
       " [10, 15, 0.7522425652371177],\n",
       " [11, 14, 7.330931382791243],\n",
       " [12, 13, 3],\n",
       " [13, 14, 8.693651500741076],\n",
       " [13, 15, 3.4030451712044485],\n",
       " [14, 15, 3]]"
      ]
     },
     "execution_count": 8,
     "metadata": {},
     "output_type": "execute_result"
    }
   ],
   "source": [
    "edges"
   ]
  },
  {
   "cell_type": "markdown",
   "id": "5b72c8dc",
   "metadata": {},
   "source": [
    "# Saving prime graph to file"
   ]
  },
  {
   "cell_type": "code",
   "execution_count": 18,
   "id": "5de45f2d",
   "metadata": {},
   "outputs": [],
   "source": [
    "with open('test/'+file_name_prime_graph, 'w') as f:\n",
    "    f.write(str(n)+'\\n\\n')\n",
    "\n",
    "    for e in edges:\n",
    "        x,y,weight=e\n",
    "        \n",
    "        if x>N and y>N:\n",
    "            \n",
    "            f.write(str(x-N)+' '+str(y-N)+' '+str(weight)+'\\n')\n",
    "            f.write(str(y-N)+' '+str(x-N)+' '+str(weight)+'\\n')\n",
    "            "
   ]
  },
  {
   "cell_type": "markdown",
   "id": "3fc89236",
   "metadata": {},
   "source": [
    "# Load the clustering graph"
   ]
  },
  {
   "cell_type": "code",
   "execution_count": 10,
   "id": "ffec56ac",
   "metadata": {},
   "outputs": [],
   "source": [
    "from yen import YenAlgorithm\n",
    "import tools"
   ]
  },
  {
   "cell_type": "code",
   "execution_count": 11,
   "id": "4344a917",
   "metadata": {},
   "outputs": [],
   "source": [
    "clust_graph, _, _, _ = tools.getGraphStructure(file_name_cluster_graph) #test_10.txt"
   ]
  },
  {
   "cell_type": "code",
   "execution_count": 12,
   "id": "63c36093",
   "metadata": {},
   "outputs": [
    {
     "name": "stdout",
     "output_type": "stream",
     "text": [
      "[[inf, 0.7713029892629966, 0.6119790351324885, inf, inf, inf, inf, inf, 0.9460869073600557, 0.8990261973505126, 0.8565528537690285, inf, inf, 0.5408686140427738, 0.16840453018135104], [0.7713029892629966, inf, 0.6390061584667255, inf, 0.8472696247742141, inf, inf, 0.26599650701492983, 0.882823097237995, 0.053459864252487055, inf, 0.6867384108667517, inf, 0.9233574656711312, 0.527992779784526], [0.6119790351324885, 0.6390061584667255, inf, 0.13801852122848146, 0.7233685767506042, 0.8134428270775979, inf, 0.29272215281065306, inf, 0.33562027381415915, inf, 0.13660988944738373, 0.8346789609445388, 0.8464362295063711, inf], [inf, inf, 0.13801852122848146, inf, inf, inf, inf, 0.2202458447282123, inf, inf, inf, inf, 0.6485292403433848, 0.6909071087854529, 0.4306858562104], [inf, 0.8472696247742141, 0.7233685767506042, inf, inf, inf, 0.5806204758996053, 0.30650941425910805, 0.16257035102166273, inf, inf, 0.7708926645869881, 0.9508700930851203, 0.8994212493071584, inf], [inf, inf, 0.8134428270775979, inf, inf, inf, inf, 0.8090416250816265, inf, inf, inf, inf, inf, 0.033279020996455855, 0.9336364058782446], [inf, inf, inf, inf, 0.5806204758996053, inf, inf, 0.6581807093277303, 0.9630573108573949, 0.7281227739378752, inf, inf, 0.13915602936298632, inf, inf], [inf, 0.26599650701492983, 0.29272215281065306, 0.2202458447282123, 0.30650941425910805, 0.8090416250816265, 0.6581807093277303, inf, 0.2820009248329258, 0.16900955248901095, 0.510647687496606, inf, inf, 0.9455381319320129, inf], [0.9460869073600557, 0.882823097237995, inf, inf, 0.16257035102166273, inf, 0.9630573108573949, 0.2820009248329258, inf, inf, inf, 0.5643027653440558, inf, inf, 0.26001475513492855], [0.8990261973505126, 0.053459864252487055, 0.33562027381415915, inf, inf, inf, 0.7281227739378752, 0.16900955248901095, inf, inf, inf, 0.44831089330401264, inf, inf, 0.7522425652371177], [0.8565528537690285, inf, inf, inf, inf, inf, inf, 0.510647687496606, inf, inf, inf, inf, inf, inf, inf], [inf, 0.6867384108667517, 0.13660988944738373, inf, 0.7708926645869881, inf, inf, inf, 0.5643027653440558, 0.44831089330401264, inf, inf, inf, inf, inf], [inf, inf, 0.8346789609445388, 0.6485292403433848, 0.9508700930851203, inf, 0.13915602936298632, inf, inf, inf, inf, inf, inf, inf, inf], [0.5408686140427738, 0.9233574656711312, 0.8464362295063711, 0.6909071087854529, 0.8994212493071584, 0.033279020996455855, inf, 0.9455381319320129, inf, inf, inf, inf, inf, inf, inf], [0.16840453018135104, 0.527992779784526, inf, 0.4306858562104, inf, 0.9336364058782446, inf, inf, 0.26001475513492855, 0.7522425652371177, inf, inf, inf, inf, inf]]\n"
     ]
    }
   ],
   "source": [
    "print(clust_graph)"
   ]
  },
  {
   "cell_type": "markdown",
   "id": "d0c3425f",
   "metadata": {},
   "source": [
    "# Generation of shortest path between very pair of vertices"
   ]
  },
  {
   "cell_type": "code",
   "execution_count": 13,
   "id": "15f683b3",
   "metadata": {},
   "outputs": [],
   "source": [
    "with open('test/'+file_name_shortest_path, 'w') as f:\n",
    "    \n",
    "    f.write('{} {}\\n'.format(n,N))\n",
    "\n",
    "    for i in range(n+N):\n",
    "        for j in range(n+N):\n",
    "            if i != j:\n",
    "                shortest_path_tree = YenAlgorithm(clust_graph, i, j, 1)\n",
    "                #print(i,j,shortest_path_tree,'\\n')\n",
    "                #tools.printPaths(shortest_path_tree)\n",
    "                \n",
    "                if not (i==0 and j==1):\n",
    "                    f.write('\\n')\n",
    "                    \n",
    "                f.write(str(i+1)+' '+str(j+1)+'\\n')\n",
    "                \n",
    "                for el in shortest_path_tree:\n",
    "                    f.write(str(el['cost'])+'\\n')\n",
    "                    #print(el['path'])\n",
    "                    #print('getCompletePath',tools.getCompletePath(el))\n",
    "                    #path=tools.getCompletePath(el['path'])\n",
    "                    #f.write(' '.join(map(str,el['path']))+'\\n')\n",
    "                    path=tools.getCompletePath(el)\n",
    "                    path = [str(e+1) for e in path]\n",
    "\n",
    "                    f.write(' '.join(path)+'\\n')\n",
    "                    \n",
    "    f.close()\n",
    "    "
   ]
  },
  {
   "cell_type": "markdown",
   "id": "f3a243be",
   "metadata": {},
   "source": [
    "# Loading prime graph"
   ]
  },
  {
   "cell_type": "code",
   "execution_count": 19,
   "id": "afa0840f",
   "metadata": {},
   "outputs": [],
   "source": [
    "prime_graph, _, _, _ = tools.getGraphStructure(file_name_prime_graph)"
   ]
  },
  {
   "cell_type": "code",
   "execution_count": null,
   "id": "15ba88d3",
   "metadata": {},
   "outputs": [],
   "source": [
    "with open('test/'+file_name_prime_routers_shortest_path, 'w') as f:\n",
    "    \n",
    "    f.write(str(N)+'\\n\\n')\n",
    "\n",
    "    for i in range(1,N+1):\n",
    "        for j in range(1,N+1):\n",
    "            if i != j:\n",
    "                shortest_path_tree = YenAlgorithm(prime_graph, i, j, m)\n",
    "                #print(i,j,shortest_path_tree,'\\n')\n",
    "                #tools.printPaths(shortest_path_tree)\n",
    "                \n",
    "                if not (i==0 and j==1):\n",
    "                    f.write('\\n')\n",
    "                    \n",
    "                f.write(str(i+1)+' '+str(j+1)+'\\n')\n",
    "                \n",
    "                for el in shortest_path_tree:\n",
    "                    f.write(str(el['cost'])+'\\n')\n",
    "                    #print(el['path'])\n",
    "                    #print('getCompletePath',tools.getCompletePath(el))\n",
    "                    #path=tools.getCompletePath(el['path'])\n",
    "                    #f.write(' '.join(map(str,el['path']))+'\\n')\n",
    "                    path=tools.getCompletePath(el)\n",
    "                    path = [str(e+1) for e in path]\n",
    "\n",
    "                    f.write(' '.join(path)+'\\n')\n",
    "                    \n",
    "    f.close()\n",
    "    "
   ]
  },
  {
   "cell_type": "code",
   "execution_count": null,
   "id": "2cb4e245",
   "metadata": {},
   "outputs": [],
   "source": []
  },
  {
   "cell_type": "code",
   "execution_count": null,
   "id": "72abb15b",
   "metadata": {},
   "outputs": [],
   "source": []
  },
  {
   "cell_type": "code",
   "execution_count": null,
   "id": "98887ee2",
   "metadata": {},
   "outputs": [],
   "source": []
  }
 ],
 "metadata": {
  "kernelspec": {
   "display_name": "Python 3",
   "language": "python",
   "name": "python3"
  },
  "language_info": {
   "codemirror_mode": {
    "name": "ipython",
    "version": 3
   },
   "file_extension": ".py",
   "mimetype": "text/x-python",
   "name": "python",
   "nbconvert_exporter": "python",
   "pygments_lexer": "ipython3",
   "version": "3.7.10"
  }
 },
 "nbformat": 4,
 "nbformat_minor": 5
}
