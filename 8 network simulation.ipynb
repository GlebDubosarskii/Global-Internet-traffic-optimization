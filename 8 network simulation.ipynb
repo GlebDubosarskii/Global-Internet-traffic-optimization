{
 "cells": [
  {
   "cell_type": "code",
   "execution_count": 1,
   "id": "7b0f90a7",
   "metadata": {},
   "outputs": [],
   "source": [
    "n=5 #Prime router number\n",
    "N=10 #regular router number\n",
    "m=3 #shortest path number"
   ]
  },
  {
   "cell_type": "code",
   "execution_count": 2,
   "id": "fbd403a7",
   "metadata": {},
   "outputs": [],
   "source": [
    "file_name='full_graph_{}_{}.txt'.format(n,N)\n",
    "file_name_shortest_path='full_graph_shortest_path_{}_{}.txt'.format(n,N)\n",
    "file_best_clustering='full_graph_best_clustering_{}_{}.txt'.format(n,N)"
   ]
  },
  {
   "cell_type": "markdown",
   "id": "46a8b644",
   "metadata": {},
   "source": [
    "# Reading graph"
   ]
  },
  {
   "cell_type": "code",
   "execution_count": 3,
   "id": "4af66f37",
   "metadata": {},
   "outputs": [],
   "source": [
    "con=[[] for _ in range(n+N+1)]\n",
    "edges=set()"
   ]
  },
  {
   "cell_type": "code",
   "execution_count": 4,
   "id": "dac91ef1",
   "metadata": {},
   "outputs": [],
   "source": [
    "with open('test/'+file_name, 'r') as f:\n",
    "    \n",
    "    n=int(f.readline())\n",
    "    next(f)\n",
    "    \n",
    "    #f.write('\\n')\n",
    "    for line in f:\n",
    "        #print('line',line)\n",
    "        x,y,w=map(float,line.split())\n",
    "        x,y=int(x),int(y)\n",
    "        #print(x,y,w)\n",
    "        con[x].append((y,w))\n",
    "        con[y].append((x,w))\n",
    "        edges.add((x,y,w))\n",
    "\n",
    "           \n",
    "    f.close()"
   ]
  },
  {
   "cell_type": "code",
   "execution_count": 5,
   "id": "9904bf53",
   "metadata": {
    "scrolled": true
   },
   "outputs": [
    {
     "data": {
      "text/plain": [
       "{(1, 11, 0.8550095815477146),\n",
       " (1, 13, 0.13651902276258543),\n",
       " (1, 14, 0.4552114523664397),\n",
       " (1, 15, 0.7193580942721072),\n",
       " (2, 3, 0.3358722859296459),\n",
       " (2, 4, 0.8599331292728976),\n",
       " (2, 5, 0.24832691505262272),\n",
       " (2, 6, 0.4303409705286523),\n",
       " (2, 7, 0.8600341979033854),\n",
       " (2, 8, 0.5710015751835147),\n",
       " (2, 9, 0.24209810441616286),\n",
       " (2, 10, 0.9842410387580762),\n",
       " (2, 11, 0.9559853575911531),\n",
       " (2, 12, 0.38665511612196435),\n",
       " (2, 13, 0.7675423843816244),\n",
       " (3, 2, 0.3358722859296459),\n",
       " (3, 4, 0.3671880920795716),\n",
       " (3, 7, 0.6877173709908387),\n",
       " (3, 9, 0.33828160798887774),\n",
       " (3, 13, 0.7211358616091744),\n",
       " (3, 14, 0.6729130828832756),\n",
       " (3, 15, 0.7713415032141654),\n",
       " (4, 2, 0.8599331292728976),\n",
       " (4, 3, 0.3671880920795716),\n",
       " (4, 5, 0.2688155114523566),\n",
       " (4, 6, 0.10372897412869164),\n",
       " (4, 7, 0.8126127174604049),\n",
       " (4, 8, 0.9899069494890694),\n",
       " (4, 9, 0.7434852828685689),\n",
       " (4, 10, 0.9561471020946433),\n",
       " (4, 11, 0.574548906236377),\n",
       " (4, 12, 0.6756606494147235),\n",
       " (4, 13, 0.8178947166091707),\n",
       " (5, 2, 0.24832691505262272),\n",
       " (5, 4, 0.2688155114523566),\n",
       " (5, 6, 0.6614048643446507),\n",
       " (5, 10, 0.2131993832640534),\n",
       " (5, 11, 0.11486255996589956),\n",
       " (5, 13, 0.8541402327966086),\n",
       " (5, 15, 0.16200131902421389),\n",
       " (6, 2, 0.4303409705286523),\n",
       " (6, 4, 0.10372897412869164),\n",
       " (6, 5, 0.6614048643446507),\n",
       " (6, 11, 0.717817736851214),\n",
       " (6, 12, 0.6069382235266348),\n",
       " (6, 15, 0.33316888407679635),\n",
       " (7, 2, 0.8600341979033854),\n",
       " (7, 3, 0.6877173709908387),\n",
       " (7, 4, 0.8126127174604049),\n",
       " (7, 8, 0.1305206739814957),\n",
       " (7, 9, 0.018011792061580545),\n",
       " (7, 11, 0.7708273412279022),\n",
       " (7, 13, 0.7797940774935422),\n",
       " (7, 14, 0.5728289716818931),\n",
       " (8, 2, 0.5710015751835147),\n",
       " (8, 4, 0.9899069494890694),\n",
       " (8, 7, 0.1305206739814957),\n",
       " (8, 10, 0.2702346245387509),\n",
       " (8, 11, 0.7112759652382905),\n",
       " (8, 14, 0.8830688206160596),\n",
       " (9, 2, 0.24209810441616286),\n",
       " (9, 3, 0.33828160798887774),\n",
       " (9, 4, 0.7434852828685689),\n",
       " (9, 7, 0.018011792061580545),\n",
       " (9, 11, 0.31635805160147035),\n",
       " (9, 13, 0.4767043217973891),\n",
       " (10, 2, 0.9842410387580762),\n",
       " (10, 4, 0.9561471020946433),\n",
       " (10, 5, 0.2131993832640534),\n",
       " (10, 8, 0.2702346245387509),\n",
       " (11, 1, 0.8550095815477146),\n",
       " (11, 2, 0.9559853575911531),\n",
       " (11, 4, 0.574548906236377),\n",
       " (11, 5, 0.11486255996589956),\n",
       " (11, 6, 0.717817736851214),\n",
       " (11, 7, 0.7708273412279022),\n",
       " (11, 8, 0.7112759652382905),\n",
       " (11, 9, 0.31635805160147035),\n",
       " (11, 13, 0.988270793001535),\n",
       " (11, 15, 0.08892011580397619),\n",
       " (12, 2, 0.38665511612196435),\n",
       " (12, 4, 0.6756606494147235),\n",
       " (12, 6, 0.6069382235266348),\n",
       " (13, 1, 0.13651902276258543),\n",
       " (13, 2, 0.7675423843816244),\n",
       " (13, 3, 0.7211358616091744),\n",
       " (13, 4, 0.8178947166091707),\n",
       " (13, 5, 0.8541402327966086),\n",
       " (13, 7, 0.7797940774935422),\n",
       " (13, 9, 0.4767043217973891),\n",
       " (13, 11, 0.988270793001535),\n",
       " (13, 14, 0.7447419193996232),\n",
       " (14, 1, 0.4552114523664397),\n",
       " (14, 3, 0.6729130828832756),\n",
       " (14, 7, 0.5728289716818931),\n",
       " (14, 8, 0.8830688206160596),\n",
       " (14, 13, 0.7447419193996232),\n",
       " (15, 1, 0.7193580942721072),\n",
       " (15, 3, 0.7713415032141654),\n",
       " (15, 5, 0.16200131902421389),\n",
       " (15, 6, 0.33316888407679635),\n",
       " (15, 11, 0.08892011580397619)}"
      ]
     },
     "execution_count": 5,
     "metadata": {},
     "output_type": "execute_result"
    }
   ],
   "source": [
    "edges"
   ]
  },
  {
   "cell_type": "markdown",
   "id": "ac4417b9",
   "metadata": {},
   "source": [
    "# Reading clustering graph"
   ]
  },
  {
   "cell_type": "code",
   "execution_count": 6,
   "id": "0b8c698e",
   "metadata": {},
   "outputs": [],
   "source": [
    "clust=[0]*(N+1)"
   ]
  },
  {
   "cell_type": "code",
   "execution_count": 7,
   "id": "64c7d66e",
   "metadata": {},
   "outputs": [],
   "source": [
    "with open('test/'+file_best_clustering, 'r') as f:\n",
    "    \n",
    "    n,N=map(int,f.readline().split())\n",
    "    next(f)\n",
    "    \n",
    "    #f.write('\\n')\n",
    "    i=1\n",
    "    for line in f:\n",
    "        i,j=map(int,line.split())\n",
    "        \n",
    "        clust[i]=j\n",
    "        i+=1\n",
    "        \n",
    "        \n",
    "\n",
    "           \n",
    "    f.close()"
   ]
  },
  {
   "cell_type": "code",
   "execution_count": 8,
   "id": "252a1fde",
   "metadata": {},
   "outputs": [
    {
     "data": {
      "text/plain": [
       "[12, 15, 13, 13, 12, 15, 11, 14, 11, 15]"
      ]
     },
     "execution_count": 8,
     "metadata": {},
     "output_type": "execute_result"
    }
   ],
   "source": [
    "clust[1:]"
   ]
  },
  {
   "cell_type": "markdown",
   "id": "a9f71622",
   "metadata": {},
   "source": [
    "# Network simulation"
   ]
  },
  {
   "cell_type": "code",
   "execution_count": 9,
   "id": "350ee8af",
   "metadata": {},
   "outputs": [],
   "source": [
    "packet_size=0.001"
   ]
  },
  {
   "cell_type": "code",
   "execution_count": 11,
   "id": "9b2e497d",
   "metadata": {},
   "outputs": [],
   "source": [
    "class Packet(object):\n",
    "    \"\"\" A very simple class that represents a packet.\n",
    "        This packet will run through a queue at a switch output port.\n",
    "        We use a float to represent the size of the packet in bytes so that\n",
    "        we can compare to ideal M/M/1 queues.\n",
    "\n",
    "        Parameters\n",
    "        ----------\n",
    "        time : float\n",
    "            the time the packet arrives at the output queue.\n",
    "        size : float\n",
    "            the size of the packet in bytes\n",
    "        id : int\n",
    "            an identifier for the packet\n",
    "        src, dst : int\n",
    "            identifiers for source and destination\n",
    "        flow_id : int\n",
    "            small integer that can be used to identify a flow\n",
    "    \"\"\"\n",
    "    def __init__(self, time, size, id, src=\"a\", dst=\"z\", flow_id=0): #, path):\n",
    "        self.time = time\n",
    "        self.size = size\n",
    "        self.id = id\n",
    "        self.src = src\n",
    "        self.dst = dst\n",
    "        self.flow_id = flow_id\n",
    "        #self.path=path\n",
    "\n",
    "    def __repr__(self):\n",
    "        return \"id: {}, src: {}, time: {}, size: {}\".\\\n",
    "            format(self.id, self.src, self.time, self.size)\n",
    "\n",
    "\n"
   ]
  },
  {
   "cell_type": "code",
   "execution_count": 12,
   "id": "38acc657",
   "metadata": {},
   "outputs": [],
   "source": [
    "class PacketGenerator(object):\n",
    "    \"\"\" Generates packets with given inter-arrival time distribution.\n",
    "        Set the \"out\" member variable to the entity to receive the packet.\n",
    "\n",
    "        Parameters\n",
    "        ----------\n",
    "        env : simpy.Environment\n",
    "            the simulation environment\n",
    "        adist : function\n",
    "            a no parameter function that returns the successive inter-arrival times of the packets\n",
    "        sdist : function\n",
    "            a no parameter function that returns the successive sizes of the packets\n",
    "        initial_delay : number\n",
    "            Starts generation after an initial delay. Default = 0\n",
    "        finish : number\n",
    "            Stops generation at the finish time. Default is infinite\n",
    "\n",
    "\n",
    "    \"\"\"\n",
    "    def __init__(self, env, id,  adist, sdist, initial_delay=0, finish=float(\"inf\"), flow_id=0):\n",
    "        self.id = id\n",
    "        self.env = env\n",
    "        self.adist = adist\n",
    "        self.sdist = sdist\n",
    "        self.initial_delay = initial_delay\n",
    "        self.finish = finish\n",
    "        self.out = None\n",
    "        self.packets_sent = 0\n",
    "        self.action = env.process(self.run())  # starts the run() method as a SimPy process\n",
    "        self.flow_id = flow_id\n",
    "\n",
    "    def run(self):\n",
    "        \"\"\"The generator function used in simulations.\n",
    "        \"\"\"\n",
    "        yield self.env.timeout(self.initial_delay)\n",
    "        while self.env.now < self.finish:\n",
    "            # wait for next transmission\n",
    "            yield self.env.timeout(self.adist())\n",
    "            self.packets_sent += 1\n",
    "            p = Packet(self.env.now, self.sdist(), self.packets_sent, src=self.id, flow_id=self.flow_id)\n",
    "            self.out.put(p)\n"
   ]
  },
  {
   "cell_type": "code",
   "execution_count": 13,
   "id": "b85f5254",
   "metadata": {},
   "outputs": [],
   "source": [
    "class PacketSink(object):\n",
    "    \"\"\" Receives packets and collects delay information into the\n",
    "        waits list. You can then use this list to look at delay statistics.\n",
    "\n",
    "        Parameters\n",
    "        ----------\n",
    "        env : simpy.Environment\n",
    "            the simulation environment\n",
    "        debug : boolean\n",
    "            if true then the contents of each packet will be printed as it is received.\n",
    "        rec_arrivals : boolean\n",
    "            if true then arrivals will be recorded\n",
    "        absolute_arrivals : boolean\n",
    "            if true absolute arrival times will be recorded, otherwise the time between consecutive arrivals\n",
    "            is recorded.\n",
    "        rec_waits : boolean\n",
    "            if true waiting time experienced by each packet is recorded\n",
    "        selector: a function that takes a packet and returns a boolean\n",
    "            used for selective statistics. Default none.\n",
    "\n",
    "    \"\"\"\n",
    "    def __init__(self, env, rec_arrivals=False, absolute_arrivals=False, rec_waits=True, debug=False, selector=None):\n",
    "        self.store = simpy.Store(env)\n",
    "        self.env = env\n",
    "        self.rec_waits = rec_waits\n",
    "        self.rec_arrivals = rec_arrivals\n",
    "        self.absolute_arrivals = absolute_arrivals\n",
    "        self.waits = []\n",
    "        self.arrivals = []\n",
    "        self.debug = debug\n",
    "        self.packets_rec = 0\n",
    "        self.bytes_rec = 0\n",
    "        self.selector = selector\n",
    "        self.last_arrival = 0.0\n",
    "\n",
    "    def put(self, pkt):\n",
    "        #print('packet_id',pkt.id)\n",
    "        \n",
    "        if not self.selector or self.selector(pkt):\n",
    "            now = self.env.now\n",
    "            if self.rec_waits:\n",
    "                self.waits.append(self.env.now - pkt.time)\n",
    "            if self.rec_arrivals:\n",
    "                if self.absolute_arrivals:\n",
    "                    self.arrivals.append(now)\n",
    "                else:\n",
    "                    self.arrivals.append(now - self.last_arrival)\n",
    "                self.last_arrival = now\n",
    "            self.packets_rec += 1\n",
    "            self.bytes_rec += pkt.size\n",
    "            if self.debug:\n",
    "                print(pkt)"
   ]
  },
  {
   "cell_type": "code",
   "execution_count": 14,
   "id": "f6c3103e",
   "metadata": {},
   "outputs": [],
   "source": [
    "from random import expovariate\n",
    "import simpy\n",
    "\n",
    "def constArrival():  # Constant arrival distribution for generator 1\n",
    "    return 1.5\n",
    "\n",
    "def constArrival2():\n",
    "    return 2.0\n",
    "\n",
    "def distSize():\n",
    "    return expovariate(0.01)"
   ]
  },
  {
   "cell_type": "code",
   "execution_count": 15,
   "id": "ba0dd9d0",
   "metadata": {},
   "outputs": [
    {
     "name": "stdout",
     "output_type": "stream",
     "text": [
      "id: 1, src: EE283, time: 1.5, size: 57.66229390366405\n",
      "id: 1, src: SJSU, time: 2.0, size: 133.3653782299575\n",
      "id: 2, src: EE283, time: 3.0, size: 218.69142508294908\n",
      "id: 2, src: SJSU, time: 4.0, size: 125.03733135870962\n",
      "id: 3, src: EE283, time: 4.5, size: 38.84047930614041\n",
      "id: 3, src: SJSU, time: 6.0, size: 301.2630092193702\n",
      "id: 4, src: EE283, time: 6.0, size: 34.80771270940797\n",
      "id: 5, src: EE283, time: 7.5, size: 206.74691543912112\n",
      "id: 4, src: SJSU, time: 8.0, size: 3.491919007421487\n",
      "id: 6, src: EE283, time: 9.0, size: 405.8544017967127\n",
      "id: 5, src: SJSU, time: 10.0, size: 224.0848566168534\n",
      "id: 7, src: EE283, time: 10.5, size: 60.38393499004705\n",
      "id: 6, src: SJSU, time: 12.0, size: 16.03309238266907\n",
      "id: 8, src: EE283, time: 12.0, size: 198.46986266483697\n",
      "id: 9, src: EE283, time: 13.5, size: 11.007238362026579\n",
      "id: 7, src: SJSU, time: 14.0, size: 103.79502686750723\n",
      "id: 10, src: EE283, time: 15.0, size: 95.35568242946691\n",
      "id: 8, src: SJSU, time: 16.0, size: 6.56085611484674\n",
      "id: 11, src: EE283, time: 16.5, size: 51.32290432533932\n",
      "id: 9, src: SJSU, time: 18.0, size: 60.0501801252191\n",
      "id: 12, src: EE283, time: 18.0, size: 23.402595787545316\n",
      "id: 13, src: EE283, time: 19.5, size: 32.15263271399958\n"
     ]
    }
   ],
   "source": [
    "env = simpy.Environment()  # Create the SimPy environment\n",
    "# Create the packet generators and sink\n",
    "ps = PacketSink(env, debug=True)  # debugging enable for simple output\n",
    "pg = PacketGenerator(env, \"EE283\", constArrival, distSize)\n",
    "pg2 = PacketGenerator(env, \"SJSU\", constArrival2, distSize)\n",
    "# Wire packet generators and sink together\n",
    "pg.out = ps\n",
    "pg2.out = ps\n",
    "env.run(until=20) # Run it"
   ]
  },
  {
   "cell_type": "code",
   "execution_count": null,
   "id": "43a6bea9",
   "metadata": {},
   "outputs": [],
   "source": []
  }
 ],
 "metadata": {
  "kernelspec": {
   "display_name": "Python 3",
   "language": "python",
   "name": "python3"
  },
  "language_info": {
   "codemirror_mode": {
    "name": "ipython",
    "version": 3
   },
   "file_extension": ".py",
   "mimetype": "text/x-python",
   "name": "python",
   "nbconvert_exporter": "python",
   "pygments_lexer": "ipython3",
   "version": "3.7.10"
  }
 },
 "nbformat": 4,
 "nbformat_minor": 5
}
