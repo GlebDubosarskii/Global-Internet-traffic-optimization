{
 "cells": [
  {
   "cell_type": "markdown",
   "id": "c3499395",
   "metadata": {},
   "source": [
    "Resources\n",
    "\n",
    "documentation+examples https://www.cvxpy.org/tutorial/advanced/index.html#solvers\n",
    "\n",
    "\n",
    "https://www.youtube.com/user/AndersenMSAng/videos\n",
    "\n",
    "https://www.youtube.com/watch?v=qxls3cYg8to\n",
    "\n",
    "https://www.youtube.com/c/iit/videos"
   ]
  },
  {
   "cell_type": "code",
   "execution_count": 5,
   "id": "e34cd69d",
   "metadata": {},
   "outputs": [],
   "source": [
    "def closest_int(a):\n",
    "    ans=[]\n",
    "    \n",
    "    for x in a:\n",
    "        \n",
    "        #print('x',x)\n",
    "        #print('int(x)',int(x))\n",
    "        \n",
    "        b=[int(x),int(x)-1,int(x)+1]\n",
    "        min=1\n",
    "        \n",
    "        for j in range(3):\n",
    "            if abs(x-b[j])<min:\n",
    "                min=abs(x-b[j])\n",
    "                c=b[j]\n",
    "        \n",
    "        \n",
    "        ans.append(c)\n",
    "        \n",
    "    return ans\n",
    "        "
   ]
  },
  {
   "cell_type": "code",
   "execution_count": 6,
   "id": "3fa42406",
   "metadata": {},
   "outputs": [
    {
     "data": {
      "text/plain": [
       "[2, 0, 1, 2]"
      ]
     },
     "execution_count": 6,
     "metadata": {},
     "output_type": "execute_result"
    }
   ],
   "source": [
    "closest_int([1.9,-0.4,0.6,2.2])"
   ]
  },
  {
   "cell_type": "code",
   "execution_count": null,
   "id": "db551a81",
   "metadata": {},
   "outputs": [],
   "source": [
    "import cvxpy as cp\n",
    "import numpy as np\n",
    "# Generate a random problem\n",
    "np.random.seed(0)\n",
    "m, n= 200, 200\n",
    "\n",
    "A=np.random.randint(10, size=(m, n))\n",
    "#A = np.random.rand(m, n)\n",
    "#b = np.random.randn(m)\n",
    "b=np.random.randint(10,size=(m))\n",
    "# Construct a CVXPY problem\n",
    "x = cp.Variable(n,boolean=True)#boolean=True)#, integer=True)\n",
    "objective = cp.Minimize(cp.sum_squares(A @ x - b))\n",
    "prob = cp.Problem(objective)\n",
    "prob.solve(solver='ECOS_BB')\n",
    "\n",
    "print(\"Status: \", prob.status)\n",
    "print(\"The optimal value is\", prob.value)\n",
    "print(\"A solution x is\")\n",
    "\n",
    "aprox_solution=closest_int(x.value)\n",
    "\n",
    "print(aprox_solution)\n",
    "\n",
    "print(x.value)"
   ]
  },
  {
   "cell_type": "code",
   "execution_count": 11,
   "id": "de420455",
   "metadata": {
    "scrolled": true
   },
   "outputs": [
    {
     "name": "stdout",
     "output_type": "stream",
     "text": [
      "optimal value with OSQP: 6.0\n",
      "optimal value with ECOS: 5.999999996660147\n",
      "optimal value with CVXOPT: 5.999999999724494\n",
      "optimal value with SCS: 5.999990152575354\n",
      "optimal value with SciPy/HiGHS: 6.0\n",
      "optimal value with GLPK: 6.0\n",
      "optimal value with CPLEX: 6.0\n"
     ]
    }
   ],
   "source": [
    "# Solving a problem with different solvers.\n",
    "x = cp.Variable(2)\n",
    "obj = cp.Minimize(x[0] + cp.norm(x, 1))\n",
    "constraints = [x >= 2]\n",
    "prob = cp.Problem(obj, constraints)\n",
    "\n",
    "# Solve with OSQP.\n",
    "prob.solve(solver=cp.OSQP)\n",
    "print(\"optimal value with OSQP:\", prob.value)\n",
    "\n",
    "# Solve with ECOS.\n",
    "prob.solve(solver=cp.ECOS)\n",
    "print(\"optimal value with ECOS:\", prob.value)\n",
    "\n",
    "# Solve with CVXOPT.\n",
    "prob.solve(solver=cp.CVXOPT)\n",
    "print(\"optimal value with CVXOPT:\", prob.value)\n",
    "\n",
    "# Solve with SCS.\n",
    "prob.solve(solver=cp.SCS)\n",
    "print(\"optimal value with SCS:\", prob.value)\n",
    "\n",
    "# Solve with SciPy/HiGHS.\n",
    "prob.solve(solver=cp.SCIPY, scipy_options={\"method\": \"highs\"})\n",
    "print(\"optimal value with SciPy/HiGHS:\", prob.value)\n",
    "\n",
    "# Solve with GLPK.\n",
    "prob.solve(solver=cp.GLPK)\n",
    "print(\"optimal value with GLPK:\", prob.value)\n",
    "\n",
    "# Solve with GLPK_MI.\n",
    "#prob.solve(solver=cp.GLPK_MI)\n",
    "#print(\"optimal value with GLPK_MI:\", prob.value)\n",
    "\n",
    "# Solve with GUROBI.\n",
    "#prob.solve(solver=cp.GUROBI)\n",
    "#print(\"optimal value with GUROBI:\", prob.value)\n",
    "\n",
    "# Solve with MOSEK.\n",
    "#prob.solve(solver=cp.MOSEK)\n",
    "#print(\"optimal value with MOSEK:\", prob.value)\n",
    "\n",
    "# Solve with CBC.\n",
    "#prob.solve(solver=cp.CBC)\n",
    "#print(\"optimal value with CBC:\", prob.value)\n",
    "\n",
    "# Solve with CPLEX.\n",
    "#prob.solve(solver=cp.CPLEX)\n",
    "print(\"optimal value with CPLEX:\", prob.value)\n",
    "\n",
    "# Solve with NAG.\n",
    "#prob.solve(solver=cp.NAG)\n",
    "#print(\"optimal value with NAG:\", prob.value)\n",
    "\n",
    "# Solve with SCIP.\n",
    "#prob.solve(solver=cp.SCIP)\n",
    "#print(\"optimal value with SCIP:\", prob.value)\n",
    "\n",
    "# Solve with XPRESS.\n",
    "#prob.solve(solver=cp.XPRESS)\n",
    "#print(\"optimal value with XPRESS:\", prob.value)"
   ]
  },
  {
   "cell_type": "code",
   "execution_count": 12,
   "id": "d747c048",
   "metadata": {},
   "outputs": [],
   "source": [
    "import cvxpy as cp\n",
    "import numpy as np\n",
    "import scipy.linalg\n",
    "\n",
    "\n",
    "n = 4\n",
    "L = np.random.randn(n, n)\n",
    "P = L.T @ L\n",
    "P_sqrt = cp.Parameter((n, n))\n",
    "x = cp.Variable((n, 1))\n",
    "quad_form = cp.sum_squares(P_sqrt @ x)\n",
    "P_sqrt.value = scipy.linalg.sqrtm(P)\n",
    "assert quad_form.is_dcp(dpp=True)"
   ]
  },
  {
   "cell_type": "code",
   "execution_count": 16,
   "id": "5ec9e6dc",
   "metadata": {},
   "outputs": [
    {
     "ename": "KeyboardInterrupt",
     "evalue": "",
     "output_type": "error",
     "traceback": [
      "\u001b[1;31m---------------------------------------------------------------------------\u001b[0m",
      "\u001b[1;31mKeyboardInterrupt\u001b[0m                         Traceback (most recent call last)",
      "\u001b[1;32m<ipython-input-16-cc930d00ef84>\u001b[0m in \u001b[0;36m<module>\u001b[1;34m\u001b[0m\n\u001b[0;32m     15\u001b[0m \u001b[1;33m\u001b[0m\u001b[0m\n\u001b[0;32m     16\u001b[0m \u001b[0mb\u001b[0m\u001b[1;33m.\u001b[0m\u001b[0mvalue\u001b[0m \u001b[1;33m=\u001b[0m \u001b[0mnumpy\u001b[0m\u001b[1;33m.\u001b[0m\u001b[0mrandom\u001b[0m\u001b[1;33m.\u001b[0m\u001b[0mrandn\u001b[0m\u001b[1;33m(\u001b[0m\u001b[0mm\u001b[0m\u001b[1;33m)\u001b[0m\u001b[1;33m\u001b[0m\u001b[1;33m\u001b[0m\u001b[0m\n\u001b[1;32m---> 17\u001b[1;33m \u001b[0mprob\u001b[0m\u001b[1;33m.\u001b[0m\u001b[0msolve\u001b[0m\u001b[1;33m(\u001b[0m\u001b[1;33m)\u001b[0m\u001b[1;33m\u001b[0m\u001b[1;33m\u001b[0m\u001b[0m\n\u001b[0m\u001b[0;32m     18\u001b[0m \u001b[0mprint\u001b[0m\u001b[1;33m(\u001b[0m\u001b[1;34m\"First solve time:\"\u001b[0m\u001b[1;33m,\u001b[0m \u001b[0mprob\u001b[0m\u001b[1;33m.\u001b[0m\u001b[0msolver_stats\u001b[0m\u001b[1;33m.\u001b[0m\u001b[0msolve_time\u001b[0m\u001b[1;33m)\u001b[0m\u001b[1;33m\u001b[0m\u001b[1;33m\u001b[0m\u001b[0m\n\u001b[0;32m     19\u001b[0m \u001b[1;33m\u001b[0m\u001b[0m\n",
      "\u001b[1;32m~\\anaconda3\\envs\\envv\\lib\\site-packages\\cvxpy\\problems\\problem.py\u001b[0m in \u001b[0;36msolve\u001b[1;34m(self, *args, **kwargs)\u001b[0m\n\u001b[0;32m    471\u001b[0m         \u001b[1;32melse\u001b[0m\u001b[1;33m:\u001b[0m\u001b[1;33m\u001b[0m\u001b[1;33m\u001b[0m\u001b[0m\n\u001b[0;32m    472\u001b[0m             \u001b[0msolve_func\u001b[0m \u001b[1;33m=\u001b[0m \u001b[0mProblem\u001b[0m\u001b[1;33m.\u001b[0m\u001b[0m_solve\u001b[0m\u001b[1;33m\u001b[0m\u001b[1;33m\u001b[0m\u001b[0m\n\u001b[1;32m--> 473\u001b[1;33m         \u001b[1;32mreturn\u001b[0m \u001b[0msolve_func\u001b[0m\u001b[1;33m(\u001b[0m\u001b[0mself\u001b[0m\u001b[1;33m,\u001b[0m \u001b[1;33m*\u001b[0m\u001b[0margs\u001b[0m\u001b[1;33m,\u001b[0m \u001b[1;33m**\u001b[0m\u001b[0mkwargs\u001b[0m\u001b[1;33m)\u001b[0m\u001b[1;33m\u001b[0m\u001b[1;33m\u001b[0m\u001b[0m\n\u001b[0m\u001b[0;32m    474\u001b[0m \u001b[1;33m\u001b[0m\u001b[0m\n\u001b[0;32m    475\u001b[0m     \u001b[1;33m@\u001b[0m\u001b[0mclassmethod\u001b[0m\u001b[1;33m\u001b[0m\u001b[1;33m\u001b[0m\u001b[0m\n",
      "\u001b[1;32m~\\anaconda3\\envs\\envv\\lib\\site-packages\\cvxpy\\problems\\problem.py\u001b[0m in \u001b[0;36m_solve\u001b[1;34m(self, solver, warm_start, verbose, gp, qcp, requires_grad, enforce_dpp, **kwargs)\u001b[0m\n\u001b[0;32m    974\u001b[0m         \u001b[0mstart\u001b[0m \u001b[1;33m=\u001b[0m \u001b[0mtime\u001b[0m\u001b[1;33m.\u001b[0m\u001b[0mtime\u001b[0m\u001b[1;33m(\u001b[0m\u001b[1;33m)\u001b[0m\u001b[1;33m\u001b[0m\u001b[1;33m\u001b[0m\u001b[0m\n\u001b[0;32m    975\u001b[0m         solution = solving_chain.solve_via_data(\n\u001b[1;32m--> 976\u001b[1;33m             self, data, warm_start, verbose, kwargs)\n\u001b[0m\u001b[0;32m    977\u001b[0m         \u001b[0mend\u001b[0m \u001b[1;33m=\u001b[0m \u001b[0mtime\u001b[0m\u001b[1;33m.\u001b[0m\u001b[0mtime\u001b[0m\u001b[1;33m(\u001b[0m\u001b[1;33m)\u001b[0m\u001b[1;33m\u001b[0m\u001b[1;33m\u001b[0m\u001b[0m\n\u001b[0;32m    978\u001b[0m         \u001b[0mself\u001b[0m\u001b[1;33m.\u001b[0m\u001b[0m_solve_time\u001b[0m \u001b[1;33m=\u001b[0m \u001b[0mend\u001b[0m \u001b[1;33m-\u001b[0m \u001b[0mstart\u001b[0m\u001b[1;33m\u001b[0m\u001b[1;33m\u001b[0m\u001b[0m\n",
      "\u001b[1;32m~\\anaconda3\\envs\\envv\\lib\\site-packages\\cvxpy\\reductions\\solvers\\solving_chain.py\u001b[0m in \u001b[0;36msolve_via_data\u001b[1;34m(self, problem, data, warm_start, verbose, solver_opts)\u001b[0m\n\u001b[0;32m    342\u001b[0m         \"\"\"\n\u001b[0;32m    343\u001b[0m         return self.solver.solve_via_data(data, warm_start, verbose,\n\u001b[1;32m--> 344\u001b[1;33m                                           solver_opts, problem._solver_cache)\n\u001b[0m",
      "\u001b[1;32m~\\anaconda3\\envs\\envv\\lib\\site-packages\\cvxpy\\reductions\\solvers\\qp_solvers\\osqp_qpif.py\u001b[0m in \u001b[0;36msolve_via_data\u001b[1;34m(self, data, warm_start, verbose, solver_opts, solver_cache)\u001b[0m\n\u001b[0;32m     98\u001b[0m             \u001b[0msolver_opts\u001b[0m\u001b[1;33m[\u001b[0m\u001b[1;34m'polish'\u001b[0m\u001b[1;33m]\u001b[0m \u001b[1;33m=\u001b[0m \u001b[0msolver_opts\u001b[0m\u001b[1;33m.\u001b[0m\u001b[0mget\u001b[0m\u001b[1;33m(\u001b[0m\u001b[1;34m'polish'\u001b[0m\u001b[1;33m,\u001b[0m \u001b[1;32mTrue\u001b[0m\u001b[1;33m)\u001b[0m\u001b[1;33m\u001b[0m\u001b[1;33m\u001b[0m\u001b[0m\n\u001b[0;32m     99\u001b[0m             \u001b[0msolver\u001b[0m \u001b[1;33m=\u001b[0m \u001b[0mosqp\u001b[0m\u001b[1;33m.\u001b[0m\u001b[0mOSQP\u001b[0m\u001b[1;33m(\u001b[0m\u001b[1;33m)\u001b[0m\u001b[1;33m\u001b[0m\u001b[1;33m\u001b[0m\u001b[0m\n\u001b[1;32m--> 100\u001b[1;33m             \u001b[0msolver\u001b[0m\u001b[1;33m.\u001b[0m\u001b[0msetup\u001b[0m\u001b[1;33m(\u001b[0m\u001b[0mP\u001b[0m\u001b[1;33m,\u001b[0m \u001b[0mq\u001b[0m\u001b[1;33m,\u001b[0m \u001b[0mA\u001b[0m\u001b[1;33m,\u001b[0m \u001b[0mlA\u001b[0m\u001b[1;33m,\u001b[0m \u001b[0muA\u001b[0m\u001b[1;33m,\u001b[0m \u001b[0mverbose\u001b[0m\u001b[1;33m=\u001b[0m\u001b[0mverbose\u001b[0m\u001b[1;33m,\u001b[0m \u001b[1;33m**\u001b[0m\u001b[0msolver_opts\u001b[0m\u001b[1;33m)\u001b[0m\u001b[1;33m\u001b[0m\u001b[1;33m\u001b[0m\u001b[0m\n\u001b[0m\u001b[0;32m    101\u001b[0m \u001b[1;33m\u001b[0m\u001b[0m\n\u001b[0;32m    102\u001b[0m         \u001b[0mresults\u001b[0m \u001b[1;33m=\u001b[0m \u001b[0msolver\u001b[0m\u001b[1;33m.\u001b[0m\u001b[0msolve\u001b[0m\u001b[1;33m(\u001b[0m\u001b[1;33m)\u001b[0m\u001b[1;33m\u001b[0m\u001b[1;33m\u001b[0m\u001b[0m\n",
      "\u001b[1;32m~\\anaconda3\\envs\\envv\\lib\\site-packages\\osqp\\interface.py\u001b[0m in \u001b[0;36msetup\u001b[1;34m(self, P, q, A, l, u, **settings)\u001b[0m\n\u001b[0;32m     35\u001b[0m \u001b[1;33m\u001b[0m\u001b[0m\n\u001b[0;32m     36\u001b[0m         \u001b[0munpacked_data\u001b[0m\u001b[1;33m,\u001b[0m \u001b[0msettings\u001b[0m \u001b[1;33m=\u001b[0m \u001b[0mutils\u001b[0m\u001b[1;33m.\u001b[0m\u001b[0mprepare_data\u001b[0m\u001b[1;33m(\u001b[0m\u001b[0mP\u001b[0m\u001b[1;33m,\u001b[0m \u001b[0mq\u001b[0m\u001b[1;33m,\u001b[0m \u001b[0mA\u001b[0m\u001b[1;33m,\u001b[0m \u001b[0ml\u001b[0m\u001b[1;33m,\u001b[0m \u001b[0mu\u001b[0m\u001b[1;33m,\u001b[0m \u001b[1;33m**\u001b[0m\u001b[0msettings\u001b[0m\u001b[1;33m)\u001b[0m\u001b[1;33m\u001b[0m\u001b[1;33m\u001b[0m\u001b[0m\n\u001b[1;32m---> 37\u001b[1;33m         \u001b[0mself\u001b[0m\u001b[1;33m.\u001b[0m\u001b[0m_model\u001b[0m\u001b[1;33m.\u001b[0m\u001b[0msetup\u001b[0m\u001b[1;33m(\u001b[0m\u001b[1;33m*\u001b[0m\u001b[0munpacked_data\u001b[0m\u001b[1;33m,\u001b[0m \u001b[1;33m**\u001b[0m\u001b[0msettings\u001b[0m\u001b[1;33m)\u001b[0m\u001b[1;33m\u001b[0m\u001b[1;33m\u001b[0m\u001b[0m\n\u001b[0m\u001b[0;32m     38\u001b[0m \u001b[1;33m\u001b[0m\u001b[0m\n\u001b[0;32m     39\u001b[0m     def update(self, q=None, l=None, u=None,\n",
      "\u001b[1;31mKeyboardInterrupt\u001b[0m: "
     ]
    }
   ],
   "source": [
    "import cvxpy as cp\n",
    "import numpy\n",
    "\n",
    "# Problem data.\n",
    "m = 2000\n",
    "n = 1000\n",
    "numpy.random.seed(1)\n",
    "A = numpy.random.randn(m, n)\n",
    "b = cp.Parameter(m)\n",
    "\n",
    "# Construct the problem.\n",
    "x = cp.Variable(n)\n",
    "prob = cp.Problem(cp.Minimize(cp.sum_squares(A @ x - b)),\n",
    "                   [x >= 0])\n",
    "\n",
    "b.value = numpy.random.randn(m)\n",
    "prob.solve()\n",
    "print(\"First solve time:\", prob.solver_stats.solve_time)\n",
    "\n",
    "b.value = numpy.random.randn(m)\n",
    "prob.solve(warm_start=True)\n",
    "print(\"Second solve time:\", prob.solver_stats.solve_time)"
   ]
  },
  {
   "cell_type": "code",
   "execution_count": null,
   "id": "ebd7882c",
   "metadata": {},
   "outputs": [],
   "source": []
  }
 ],
 "metadata": {
  "kernelspec": {
   "display_name": "Python 3",
   "language": "python",
   "name": "python3"
  },
  "language_info": {
   "codemirror_mode": {
    "name": "ipython",
    "version": 3
   },
   "file_extension": ".py",
   "mimetype": "text/x-python",
   "name": "python",
   "nbconvert_exporter": "python",
   "pygments_lexer": "ipython3",
   "version": "3.7.10"
  }
 },
 "nbformat": 4,
 "nbformat_minor": 5
}
