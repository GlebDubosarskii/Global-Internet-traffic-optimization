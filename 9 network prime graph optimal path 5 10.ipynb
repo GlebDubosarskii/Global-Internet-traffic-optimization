{
 "cells": [
  {
   "cell_type": "code",
   "execution_count": 1,
   "id": "35d0ad35",
   "metadata": {},
   "outputs": [],
   "source": [
    "import numpy as np\n",
    "import networkx as nx\n",
    "from dwave.system.samplers import DWaveSampler\n",
    "from dwave.system.composites import EmbeddingComposite"
   ]
  },
  {
   "cell_type": "code",
   "execution_count": 2,
   "id": "d5f63b49",
   "metadata": {},
   "outputs": [],
   "source": [
    "n=5 #Prime router number\n",
    "N=10 #regular router number\n",
    "m=3 #shortest path number\n",
    "W=10000"
   ]
  },
  {
   "cell_type": "code",
   "execution_count": 3,
   "id": "da751f6e",
   "metadata": {},
   "outputs": [],
   "source": [
    "file_name='full_graph_{}_{}.txt'.format(n,N)\n",
    "file_name_shortest_path='full_graph_shortest_path_{}_{}.txt'.format(n,N)\n",
    "file_best_clustering='full_graph_best_clustering_{}_{}.txt'.format(n,N)"
   ]
  },
  {
   "cell_type": "markdown",
   "id": "04315b80",
   "metadata": {},
   "source": [
    "# Reading graph"
   ]
  },
  {
   "cell_type": "code",
   "execution_count": 4,
   "id": "cbe66dad",
   "metadata": {},
   "outputs": [],
   "source": [
    "con=[[] for _ in range(n+1)]\n",
    "edges=set()"
   ]
  },
  {
   "cell_type": "code",
   "execution_count": 5,
   "id": "5e27cd5f",
   "metadata": {},
   "outputs": [],
   "source": [
    "with open('test/'+file_name, 'r') as f:\n",
    "    \n",
    "    n=int(f.readline())\n",
    "    next(f)\n",
    "    \n",
    "    #f.write('\\n')\n",
    "    for line in f:\n",
    "        #print('line',line)\n",
    "        x,y,w=map(float,line.split())\n",
    "        x,y=int(x),int(y)\n",
    "        #print(x,y,w)\n",
    "        \n",
    "        if x>N and y>N:\n",
    "            \n",
    "            con[x-N].append((y-N,w))\n",
    "            con[y-N].append((x-N,w))\n",
    "            edges.add((x-N,y-N,w))\n",
    "\n",
    "           \n",
    "    f.close()"
   ]
  },
  {
   "cell_type": "code",
   "execution_count": 6,
   "id": "db8fda1d",
   "metadata": {},
   "outputs": [
    {
     "data": {
      "text/plain": [
       "{(1, 3, 0.988270793001535),\n",
       " (1, 5, 0.08892011580397619),\n",
       " (3, 1, 0.988270793001535),\n",
       " (3, 4, 0.7447419193996232),\n",
       " (4, 3, 0.7447419193996232),\n",
       " (5, 1, 0.08892011580397619)}"
      ]
     },
     "execution_count": 6,
     "metadata": {},
     "output_type": "execute_result"
    }
   ],
   "source": [
    "#con\n",
    "edges"
   ]
  },
  {
   "cell_type": "markdown",
   "id": "94fc6322",
   "metadata": {},
   "source": [
    "# Reading shortest paths"
   ]
  },
  {
   "cell_type": "code",
   "execution_count": 7,
   "id": "cf8649f1",
   "metadata": {},
   "outputs": [],
   "source": [
    "sh_path=[[] for _ in range(N+1)]\n",
    "\n",
    "for i in range(n+1):\n",
    "    sh_path[i]=[[] for _ in range(n+1)]"
   ]
  },
  {
   "cell_type": "code",
   "execution_count": 8,
   "id": "e0b071f7",
   "metadata": {},
   "outputs": [
    {
     "ename": "ValueError",
     "evalue": "invalid literal for int() with base 10: '5 10\\n'",
     "output_type": "error",
     "traceback": [
      "\u001b[1;31m---------------------------------------------------------------------------\u001b[0m",
      "\u001b[1;31mValueError\u001b[0m                                Traceback (most recent call last)",
      "\u001b[1;32m<ipython-input-8-23d228694392>\u001b[0m in \u001b[0;36m<module>\u001b[1;34m\u001b[0m\n\u001b[0;32m      1\u001b[0m \u001b[1;32mwith\u001b[0m \u001b[0mopen\u001b[0m\u001b[1;33m(\u001b[0m\u001b[1;34m'test/'\u001b[0m\u001b[1;33m+\u001b[0m\u001b[0mfile_name_shortest_path\u001b[0m\u001b[1;33m,\u001b[0m \u001b[1;34m'r'\u001b[0m\u001b[1;33m)\u001b[0m \u001b[1;32mas\u001b[0m \u001b[0mf\u001b[0m\u001b[1;33m:\u001b[0m\u001b[1;33m\u001b[0m\u001b[1;33m\u001b[0m\u001b[0m\n\u001b[0;32m      2\u001b[0m \u001b[1;33m\u001b[0m\u001b[0m\n\u001b[1;32m----> 3\u001b[1;33m     \u001b[0mn\u001b[0m\u001b[1;33m=\u001b[0m\u001b[0mint\u001b[0m\u001b[1;33m(\u001b[0m\u001b[0mf\u001b[0m\u001b[1;33m.\u001b[0m\u001b[0mreadline\u001b[0m\u001b[1;33m(\u001b[0m\u001b[1;33m)\u001b[0m\u001b[1;33m)\u001b[0m\u001b[1;33m\u001b[0m\u001b[1;33m\u001b[0m\u001b[0m\n\u001b[0m\u001b[0;32m      4\u001b[0m \u001b[1;33m\u001b[0m\u001b[0m\n\u001b[0;32m      5\u001b[0m     \u001b[1;32mfor\u001b[0m \u001b[0mi\u001b[0m \u001b[1;32min\u001b[0m \u001b[0mrange\u001b[0m\u001b[1;33m(\u001b[0m\u001b[1;36m1\u001b[0m\u001b[1;33m,\u001b[0m\u001b[0mn\u001b[0m\u001b[1;33m+\u001b[0m\u001b[1;36m1\u001b[0m\u001b[1;33m)\u001b[0m\u001b[1;33m:\u001b[0m\u001b[1;33m\u001b[0m\u001b[1;33m\u001b[0m\u001b[0m\n",
      "\u001b[1;31mValueError\u001b[0m: invalid literal for int() with base 10: '5 10\\n'"
     ]
    }
   ],
   "source": [
    "with open('test/'+file_name_shortest_path, 'r') as f:\n",
    "    \n",
    "    n=int(f.readline())\n",
    "    \n",
    "    for i in range(1,n+N+1):\n",
    "        for j in range(1,n+N+1):\n",
    "            if i!=j and :\n",
    "                x,y=map(int,f.readline().split())\n",
    "                #print('x,y',x,y)\n",
    "                \n",
    "                while True:\n",
    "                    line1=f.readline()\n",
    "                    #print('line1',line1)\n",
    "                    \n",
    "                    if not line1.strip():\n",
    "                        break\n",
    "\n",
    "                    line2=f.readline()\n",
    "                    \n",
    "                    w=float(line1)\n",
    "                    path=list(map(int,line2.split()))\n",
    "                    #print('path',path)\n",
    "                    #print('w',w)\n",
    "\n",
    "                    sh_path[i][j].append((w,path))\n"
   ]
  },
  {
   "cell_type": "code",
   "execution_count": null,
   "id": "48f08254",
   "metadata": {
    "scrolled": true
   },
   "outputs": [],
   "source": [
    "#sh_path[1][3][2]"
   ]
  },
  {
   "cell_type": "markdown",
   "id": "737b4bb4",
   "metadata": {},
   "source": [
    "# Figuring out the coefficients alpha"
   ]
  },
  {
   "cell_type": "code",
   "execution_count": null,
   "id": "936f0fd8",
   "metadata": {},
   "outputs": [],
   "source": [
    "alpha=set()"
   ]
  },
  {
   "cell_type": "code",
   "execution_count": null,
   "id": "e44cbb16",
   "metadata": {},
   "outputs": [],
   "source": [
    "def belong_to_path():\n",
    "   \n",
    "    for i in range(n+1):\n",
    "        for j in range(n+1):\n",
    "            if i!=j:\n",
    "                for s in range(len(sh_path[i][j])):\n",
    "                    path=sh_path[i][j][s][1]\n",
    "                    l=len(path)\n",
    "                    \n",
    "                    for k in range(l-1):\n",
    "                        alpha.add((path[k],path[k+1],s,i,j))"
   ]
  },
  {
   "cell_type": "code",
   "execution_count": null,
   "id": "48a972a0",
   "metadata": {},
   "outputs": [],
   "source": [
    "belong_to_path()"
   ]
  },
  {
   "cell_type": "code",
   "execution_count": null,
   "id": "48e2dd17",
   "metadata": {},
   "outputs": [],
   "source": [
    "alpha"
   ]
  },
  {
   "cell_type": "markdown",
   "id": "5d8c9cce",
   "metadata": {},
   "source": [
    "# Collecting terms"
   ]
  },
  {
   "cell_type": "code",
   "execution_count": null,
   "id": "c979c7fe",
   "metadata": {},
   "outputs": [],
   "source": [
    "def mult(a):\n",
    "    d={}\n",
    "    \n",
    "    for q in a:\n",
    "        for e in q['term']:\n",
    "            for e2 in q['term']:\n",
    "                \n",
    "                x,y=e\n",
    "                z,t=e2\n",
    "                \n",
    "                if x<z:\n",
    "                    x,z=z,x\n",
    "                    y,t=t,y\n",
    "                \n",
    "                coeff=q['coeff']\n",
    "                            \n",
    "                if x!='C' and z!='C':\n",
    "                    d[(x,z)]=d[(x,z)]+coeff*y*t if (x,z) in d else coeff*y*t\n",
    "                    \n",
    "                if x=='C' and z!='C':\n",
    "                    d[(z,z)]=d[(z,z)]+coeff*y*t if (z,z) in d else coeff*y*t\n",
    "                    \n",
    "                if x!='C' and z=='C':\n",
    "                    d[(x,x)]=d[(x,x)]+coeff*y*t if (x,x) in d else coeff*y*t\n",
    "                    \n",
    "        #print(d)\n",
    "        \n",
    "\n",
    "                    \n",
    "    return d"
   ]
  },
  {
   "cell_type": "markdown",
   "id": "a1967050",
   "metadata": {},
   "source": [
    "# Example"
   ]
  },
  {
   "cell_type": "code",
   "execution_count": null,
   "id": "c1ff3b83",
   "metadata": {
    "scrolled": true
   },
   "outputs": [],
   "source": [
    "form=[{'coeff':1, 'term':[('y2',1)]}, {'coeff':4, 'term':[('x1',1), ('x2',1), ('y2',1)]}, {'coeff':1, 'term':[('x2',1)]}, {'coeff':1, 'term':[('y1',1)]}, \n",
    "      {'coeff':1, 'term':[('x1',1), ('y2',1)]}, {'coeff':9, 'term':[('x1',1), ('y1',1)]}, {'coeff':25, 'term':[('x1',1), ('x2',1), ('C',-1)]}, {'coeff':25, 'term':[('y1',1), ('y2',1), ('C',-1)]}]"
   ]
  },
  {
   "cell_type": "code",
   "execution_count": null,
   "id": "7e3ecf93",
   "metadata": {},
   "outputs": [],
   "source": [
    "Q=mult(form) #we ignore a constant term"
   ]
  },
  {
   "cell_type": "code",
   "execution_count": null,
   "id": "6377e737",
   "metadata": {
    "scrolled": false
   },
   "outputs": [],
   "source": [
    "Q #we are ignoring the constant term and using the fact that x^2=x, x in {0,1}"
   ]
  },
  {
   "cell_type": "markdown",
   "id": "070d71a1",
   "metadata": {},
   "source": [
    "# Real network example"
   ]
  },
  {
   "cell_type": "code",
   "execution_count": null,
   "id": "d5d336d4",
   "metadata": {},
   "outputs": [],
   "source": [
    "form=[0]*(n+1)\n",
    "\n",
    "for i in range(n+1):\n",
    "    form[i]=[0]*(n+1)"
   ]
  },
  {
   "cell_type": "code",
   "execution_count": null,
   "id": "beba7260",
   "metadata": {},
   "outputs": [],
   "source": [
    "D=np.random.rand(n+1,n+1)"
   ]
  },
  {
   "cell_type": "code",
   "execution_count": null,
   "id": "cd6289f8",
   "metadata": {},
   "outputs": [],
   "source": [
    "form=[]\n",
    "xs=set()"
   ]
  },
  {
   "cell_type": "code",
   "execution_count": null,
   "id": "f86ad74c",
   "metadata": {},
   "outputs": [],
   "source": [
    "for e in edges:\n",
    "    x,y,w=e\n",
    "    term=[]\n",
    "    coeff=0\n",
    "    \n",
    "    for i in range(n+1):\n",
    "        for j in range(n+1):\n",
    "            if i!=j:\n",
    "                \n",
    "                for s in range(len(sh_path[i][j])):\n",
    "                    \n",
    "                    if (x,y,s,i,j) in alpha:\n",
    "                        coeff=1.0/w\n",
    "                        name='x'+'_'+str(s)+'_'+str(i)+'_'+str(j)\n",
    "                        term.append((name,D[i][j]))\n",
    "                        xs.add(name)\n",
    "            \n",
    "            \n",
    "                if coeff!=0:\n",
    "                    form.append({'coeff':coeff, 'term':term})                "
   ]
  },
  {
   "cell_type": "code",
   "execution_count": null,
   "id": "c2416867",
   "metadata": {},
   "outputs": [],
   "source": [
    "len(xs)"
   ]
  },
  {
   "cell_type": "code",
   "execution_count": null,
   "id": "43948be3",
   "metadata": {},
   "outputs": [],
   "source": [
    "edges"
   ]
  },
  {
   "cell_type": "code",
   "execution_count": null,
   "id": "a5b6e3cd",
   "metadata": {},
   "outputs": [],
   "source": [
    "xs"
   ]
  },
  {
   "cell_type": "code",
   "execution_count": null,
   "id": "7414d19c",
   "metadata": {},
   "outputs": [],
   "source": [
    "for i in range(n+1):\n",
    "        for j in range(n+1):\n",
    "            if i!=j:\n",
    "    \n",
    "                term=[]\n",
    "\n",
    "                for s in range(len(sh_path[i][j])):\n",
    "                    name='x'+'_'+str(s)+'_'+str(i)+'_'+str(j)\n",
    "\n",
    "                    if name in xs:\n",
    "                        term.append((name,1))\n",
    "\n",
    "\n",
    "                term.append(('C',-1))\n",
    "                \n",
    "                #print('term',term)\n",
    "                \n",
    "                if coeff!=0:\n",
    "                    form.append({'coeff':W, 'term':term})   \n",
    "                        \n",
    "                    \n",
    "                    "
   ]
  },
  {
   "cell_type": "code",
   "execution_count": null,
   "id": "48c8836e",
   "metadata": {},
   "outputs": [],
   "source": [
    "form"
   ]
  },
  {
   "cell_type": "code",
   "execution_count": null,
   "id": "0e0c2f12",
   "metadata": {},
   "outputs": [],
   "source": [
    "Q=mult(form)"
   ]
  },
  {
   "cell_type": "code",
   "execution_count": null,
   "id": "c1278f71",
   "metadata": {},
   "outputs": [],
   "source": [
    "Q"
   ]
  },
  {
   "cell_type": "code",
   "execution_count": null,
   "id": "4032d6c3",
   "metadata": {},
   "outputs": [],
   "source": [
    "len(Q)"
   ]
  },
  {
   "cell_type": "code",
   "execution_count": null,
   "id": "b6121406",
   "metadata": {},
   "outputs": [],
   "source": [
    "sampler = EmbeddingComposite(DWaveSampler())"
   ]
  },
  {
   "cell_type": "code",
   "execution_count": null,
   "id": "b0b0157d",
   "metadata": {},
   "outputs": [],
   "source": [
    "response=sampler.sample_qubo(Q, num_reads=1)"
   ]
  },
  {
   "cell_type": "code",
   "execution_count": null,
   "id": "c271b108",
   "metadata": {},
   "outputs": [],
   "source": [
    "for data in response.data(['sample','energy', 'num_occurrences']):\n",
    "    \n",
    "    print(data.sample, 'energy', data.energy, 'num_occurrences', data.num_occurrences) "
   ]
  },
  {
   "cell_type": "code",
   "execution_count": null,
   "id": "4c27ee77",
   "metadata": {},
   "outputs": [],
   "source": []
  },
  {
   "cell_type": "code",
   "execution_count": null,
   "id": "f2216b6b",
   "metadata": {},
   "outputs": [],
   "source": []
  }
 ],
 "metadata": {
  "kernelspec": {
   "display_name": "Python 3",
   "language": "python",
   "name": "python3"
  },
  "language_info": {
   "codemirror_mode": {
    "name": "ipython",
    "version": 3
   },
   "file_extension": ".py",
   "mimetype": "text/x-python",
   "name": "python",
   "nbconvert_exporter": "python",
   "pygments_lexer": "ipython3",
   "version": "3.7.10"
  }
 },
 "nbformat": 4,
 "nbformat_minor": 5
}
