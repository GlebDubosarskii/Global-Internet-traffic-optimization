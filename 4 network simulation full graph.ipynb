{
 "cells": [
  {
   "cell_type": "code",
   "execution_count": 1,
   "id": "7b0f90a7",
   "metadata": {},
   "outputs": [],
   "source": [
    "n=5 #Prime router number\n",
    "N=10 #regular router number\n",
    "m=3 #shortest path number"
   ]
  },
  {
   "cell_type": "code",
   "execution_count": 2,
   "id": "fbd403a7",
   "metadata": {},
   "outputs": [],
   "source": [
    "file_name_shortest_path='full_graph_shortest_path_{}_{}.txt'.format(n,N)\n",
    "file_name_prime_routers_shortest_path='prime_graph_shortest_path_{}_{}.txt'.format(n,N)\n",
    "file_name_prime_graph='prime_graph_{}_{}.txt'.format(n,N)\n",
    "file_name_prime_graph_optimal_path='prime_graph_optimal_path_{}_{}.txt'.format(n,N)\n",
    "file_best_clustering='full_graph_best_clustering_{}_{}.txt'.format(n,N)\n",
    "file_name_cluster_graph='cluster_graph_{}_{}.txt'.format(n,N)"
   ]
  },
  {
   "cell_type": "markdown",
   "id": "46a8b644",
   "metadata": {},
   "source": [
    "# Reading clustering and prime graphs"
   ]
  },
  {
   "cell_type": "code",
   "execution_count": 3,
   "id": "4af66f37",
   "metadata": {},
   "outputs": [],
   "source": [
    "con=[[] for _ in range(n+N+1)]\n",
    "edges_clust=set()"
   ]
  },
  {
   "cell_type": "code",
   "execution_count": 4,
   "id": "dac91ef1",
   "metadata": {},
   "outputs": [],
   "source": [
    "with open('test/'+file_name_cluster_graph, 'r') as f:\n",
    "    \n",
    "    n=int(f.readline())\n",
    "    next(f)\n",
    "    \n",
    "    #f.write('\\n')\n",
    "    for line in f:\n",
    "        #print('line',line)\n",
    "        x,y,w=map(float,line.split())\n",
    "        x,y=int(x),int(y)\n",
    "        #print(x,y,w)\n",
    "        con[x].append((y,w))\n",
    "        #con[y].append((x,w))\n",
    "        edges_clust.add((x,y,w))\n",
    "\n",
    "           \n",
    "    f.close()"
   ]
  },
  {
   "cell_type": "code",
   "execution_count": 5,
   "id": "9904bf53",
   "metadata": {
    "scrolled": true
   },
   "outputs": [
    {
     "data": {
      "text/plain": [
       "{(1, 3, 0.23142470169810703),\n",
       " (1, 5, 0.7536451376844908),\n",
       " (1, 6, 0.4638092727662523),\n",
       " (1, 7, 0.9581887310477116),\n",
       " (1, 8, 0.11962100470551662),\n",
       " (1, 13, 0.10916629732677441),\n",
       " (1, 14, 0.9991049222877524),\n",
       " (2, 3, 0.032934312265980425),\n",
       " (2, 5, 0.6369470115993228),\n",
       " (2, 6, 0.9557802366404332),\n",
       " (2, 9, 0.3430049053278973),\n",
       " (2, 14, 0.7731763192800118),\n",
       " (3, 1, 0.23142470169810703),\n",
       " (3, 2, 0.032934312265980425),\n",
       " (3, 4, 0.501869175806194),\n",
       " (3, 5, 0.882580654303218),\n",
       " (3, 6, 0.013962574310672937),\n",
       " (3, 7, 0.3114343887508788),\n",
       " (3, 11, 0.6107640985517377),\n",
       " (3, 12, 0.7868252034308975),\n",
       " (3, 14, 0.9658427179915304),\n",
       " (4, 3, 0.501869175806194),\n",
       " (4, 6, 0.7856803587257708),\n",
       " (4, 8, 0.6293629338431845),\n",
       " (4, 9, 0.15686755357253557),\n",
       " (4, 13, 0.959083650317909),\n",
       " (5, 1, 0.7536451376844908),\n",
       " (5, 2, 0.6369470115993228),\n",
       " (5, 3, 0.882580654303218),\n",
       " (5, 11, 0.527469403352322),\n",
       " (5, 12, 0.9106297271042973),\n",
       " (5, 13, 0.2205953804350782),\n",
       " (6, 1, 0.4638092727662523),\n",
       " (6, 2, 0.9557802366404332),\n",
       " (6, 3, 0.013962574310672937),\n",
       " (6, 4, 0.7856803587257708),\n",
       " (6, 7, 0.30109441644938073),\n",
       " (6, 10, 0.3631171495707618),\n",
       " (6, 14, 0.09358494281131546),\n",
       " (6, 15, 0.7607834802666427),\n",
       " (7, 1, 0.9581887310477116),\n",
       " (7, 3, 0.3114343887508788),\n",
       " (7, 6, 0.30109441644938073),\n",
       " (7, 8, 0.7155447128712005),\n",
       " (7, 12, 0.394890612871726),\n",
       " (7, 13, 0.03025493478792629),\n",
       " (7, 14, 0.5024585272385187),\n",
       " (8, 1, 0.11962100470551662),\n",
       " (8, 4, 0.6293629338431845),\n",
       " (8, 7, 0.7155447128712005),\n",
       " (8, 9, 0.4944022489432707),\n",
       " (8, 10, 0.9232024945937418),\n",
       " (8, 12, 0.557331532500797),\n",
       " (8, 13, 0.007939290835185409),\n",
       " (8, 14, 0.663274286677675),\n",
       " (8, 15, 0.6724145846098308),\n",
       " (9, 2, 0.3430049053278973),\n",
       " (9, 4, 0.15686755357253557),\n",
       " (9, 8, 0.4944022489432707),\n",
       " (9, 10, 0.3366678212463292),\n",
       " (9, 11, 0.9164265079854031),\n",
       " (9, 13, 0.2661622028996662),\n",
       " (9, 14, 0.21853921759276007),\n",
       " (10, 6, 0.3631171495707618),\n",
       " (10, 8, 0.9232024945937418),\n",
       " (10, 9, 0.3366678212463292),\n",
       " (10, 12, 0.6221275095205333),\n",
       " (10, 14, 0.9388427054657947),\n",
       " (10, 15, 0.4142195665388452),\n",
       " (11, 3, 0.6107640985517377),\n",
       " (11, 5, 0.527469403352322),\n",
       " (11, 9, 0.9164265079854031),\n",
       " (12, 3, 0.7868252034308975),\n",
       " (12, 5, 0.9106297271042973),\n",
       " (12, 7, 0.394890612871726),\n",
       " (12, 8, 0.557331532500797),\n",
       " (12, 10, 0.6221275095205333),\n",
       " (13, 1, 0.10916629732677441),\n",
       " (13, 4, 0.959083650317909),\n",
       " (13, 5, 0.2205953804350782),\n",
       " (13, 7, 0.03025493478792629),\n",
       " (13, 8, 0.007939290835185409),\n",
       " (13, 9, 0.2661622028996662),\n",
       " (14, 1, 0.9991049222877524),\n",
       " (14, 2, 0.7731763192800118),\n",
       " (14, 3, 0.9658427179915304),\n",
       " (14, 6, 0.09358494281131546),\n",
       " (14, 7, 0.5024585272385187),\n",
       " (14, 8, 0.663274286677675),\n",
       " (14, 9, 0.21853921759276007),\n",
       " (14, 10, 0.9388427054657947),\n",
       " (15, 6, 0.7607834802666427),\n",
       " (15, 8, 0.6724145846098308),\n",
       " (15, 10, 0.4142195665388452)}"
      ]
     },
     "execution_count": 5,
     "metadata": {},
     "output_type": "execute_result"
    }
   ],
   "source": [
    "edges_clust"
   ]
  },
  {
   "cell_type": "code",
   "execution_count": 6,
   "id": "b67e20be",
   "metadata": {},
   "outputs": [],
   "source": [
    "con=[[] for _ in range(n+N+1)]\n",
    "edges_prime=set()"
   ]
  },
  {
   "cell_type": "code",
   "execution_count": 7,
   "id": "20187f68",
   "metadata": {},
   "outputs": [],
   "source": [
    "with open('test/'+file_name_prime_graph, 'r') as f:\n",
    "    \n",
    "    n=int(f.readline())\n",
    "    next(f)\n",
    "    \n",
    "    #f.write('\\n')\n",
    "    for line in f:\n",
    "        #print('line',line)\n",
    "        x,y,w=map(float,line.split())\n",
    "        x,y=int(x),int(y)\n",
    "        #print(x,y,w)\n",
    "        con[x+N].append((y+N,w))\n",
    "        #con[y].append((x,w))\n",
    "        edges_prime.add((x+N,y+N,w))\n",
    "\n",
    "           \n",
    "    f.close()"
   ]
  },
  {
   "cell_type": "code",
   "execution_count": 8,
   "id": "0acf27f3",
   "metadata": {
    "scrolled": true
   },
   "outputs": [
    {
     "data": {
      "text/plain": [
       "{(11, 12, 6.089308538078741),\n",
       " (12, 11, 6.089308538078741),\n",
       " (12, 13, 3.0),\n",
       " (12, 14, 4.977825363992857),\n",
       " (12, 15, 5.3342404165033095),\n",
       " (13, 12, 3.0),\n",
       " (13, 15, 3.1448932613183276),\n",
       " (14, 12, 4.977825363992857),\n",
       " (15, 12, 5.3342404165033095),\n",
       " (15, 13, 3.1448932613183276)}"
      ]
     },
     "execution_count": 8,
     "metadata": {},
     "output_type": "execute_result"
    }
   ],
   "source": [
    "edges_prime"
   ]
  },
  {
   "cell_type": "code",
   "execution_count": 9,
   "id": "f39bfe5e",
   "metadata": {},
   "outputs": [],
   "source": [
    "edges=edges_clust.union(edges_prime)"
   ]
  },
  {
   "cell_type": "code",
   "execution_count": 10,
   "id": "ccd6f287",
   "metadata": {
    "scrolled": true
   },
   "outputs": [
    {
     "data": {
      "text/plain": [
       "{(1, 3, 0.23142470169810703),\n",
       " (1, 5, 0.7536451376844908),\n",
       " (1, 6, 0.4638092727662523),\n",
       " (1, 7, 0.9581887310477116),\n",
       " (1, 8, 0.11962100470551662),\n",
       " (1, 13, 0.10916629732677441),\n",
       " (1, 14, 0.9991049222877524),\n",
       " (2, 3, 0.032934312265980425),\n",
       " (2, 5, 0.6369470115993228),\n",
       " (2, 6, 0.9557802366404332),\n",
       " (2, 9, 0.3430049053278973),\n",
       " (2, 14, 0.7731763192800118),\n",
       " (3, 1, 0.23142470169810703),\n",
       " (3, 2, 0.032934312265980425),\n",
       " (3, 4, 0.501869175806194),\n",
       " (3, 5, 0.882580654303218),\n",
       " (3, 6, 0.013962574310672937),\n",
       " (3, 7, 0.3114343887508788),\n",
       " (3, 11, 0.6107640985517377),\n",
       " (3, 12, 0.7868252034308975),\n",
       " (3, 14, 0.9658427179915304),\n",
       " (4, 3, 0.501869175806194),\n",
       " (4, 6, 0.7856803587257708),\n",
       " (4, 8, 0.6293629338431845),\n",
       " (4, 9, 0.15686755357253557),\n",
       " (4, 13, 0.959083650317909),\n",
       " (5, 1, 0.7536451376844908),\n",
       " (5, 2, 0.6369470115993228),\n",
       " (5, 3, 0.882580654303218),\n",
       " (5, 11, 0.527469403352322),\n",
       " (5, 12, 0.9106297271042973),\n",
       " (5, 13, 0.2205953804350782),\n",
       " (6, 1, 0.4638092727662523),\n",
       " (6, 2, 0.9557802366404332),\n",
       " (6, 3, 0.013962574310672937),\n",
       " (6, 4, 0.7856803587257708),\n",
       " (6, 7, 0.30109441644938073),\n",
       " (6, 10, 0.3631171495707618),\n",
       " (6, 14, 0.09358494281131546),\n",
       " (6, 15, 0.7607834802666427),\n",
       " (7, 1, 0.9581887310477116),\n",
       " (7, 3, 0.3114343887508788),\n",
       " (7, 6, 0.30109441644938073),\n",
       " (7, 8, 0.7155447128712005),\n",
       " (7, 12, 0.394890612871726),\n",
       " (7, 13, 0.03025493478792629),\n",
       " (7, 14, 0.5024585272385187),\n",
       " (8, 1, 0.11962100470551662),\n",
       " (8, 4, 0.6293629338431845),\n",
       " (8, 7, 0.7155447128712005),\n",
       " (8, 9, 0.4944022489432707),\n",
       " (8, 10, 0.9232024945937418),\n",
       " (8, 12, 0.557331532500797),\n",
       " (8, 13, 0.007939290835185409),\n",
       " (8, 14, 0.663274286677675),\n",
       " (8, 15, 0.6724145846098308),\n",
       " (9, 2, 0.3430049053278973),\n",
       " (9, 4, 0.15686755357253557),\n",
       " (9, 8, 0.4944022489432707),\n",
       " (9, 10, 0.3366678212463292),\n",
       " (9, 11, 0.9164265079854031),\n",
       " (9, 13, 0.2661622028996662),\n",
       " (9, 14, 0.21853921759276007),\n",
       " (10, 6, 0.3631171495707618),\n",
       " (10, 8, 0.9232024945937418),\n",
       " (10, 9, 0.3366678212463292),\n",
       " (10, 12, 0.6221275095205333),\n",
       " (10, 14, 0.9388427054657947),\n",
       " (10, 15, 0.4142195665388452),\n",
       " (11, 3, 0.6107640985517377),\n",
       " (11, 5, 0.527469403352322),\n",
       " (11, 9, 0.9164265079854031),\n",
       " (11, 12, 6.089308538078741),\n",
       " (12, 3, 0.7868252034308975),\n",
       " (12, 5, 0.9106297271042973),\n",
       " (12, 7, 0.394890612871726),\n",
       " (12, 8, 0.557331532500797),\n",
       " (12, 10, 0.6221275095205333),\n",
       " (12, 11, 6.089308538078741),\n",
       " (12, 13, 3.0),\n",
       " (12, 14, 4.977825363992857),\n",
       " (12, 15, 5.3342404165033095),\n",
       " (13, 1, 0.10916629732677441),\n",
       " (13, 4, 0.959083650317909),\n",
       " (13, 5, 0.2205953804350782),\n",
       " (13, 7, 0.03025493478792629),\n",
       " (13, 8, 0.007939290835185409),\n",
       " (13, 9, 0.2661622028996662),\n",
       " (13, 12, 3.0),\n",
       " (13, 15, 3.1448932613183276),\n",
       " (14, 1, 0.9991049222877524),\n",
       " (14, 2, 0.7731763192800118),\n",
       " (14, 3, 0.9658427179915304),\n",
       " (14, 6, 0.09358494281131546),\n",
       " (14, 7, 0.5024585272385187),\n",
       " (14, 8, 0.663274286677675),\n",
       " (14, 9, 0.21853921759276007),\n",
       " (14, 10, 0.9388427054657947),\n",
       " (14, 12, 4.977825363992857),\n",
       " (15, 6, 0.7607834802666427),\n",
       " (15, 8, 0.6724145846098308),\n",
       " (15, 10, 0.4142195665388452),\n",
       " (15, 12, 5.3342404165033095),\n",
       " (15, 13, 3.1448932613183276)}"
      ]
     },
     "execution_count": 10,
     "metadata": {},
     "output_type": "execute_result"
    }
   ],
   "source": [
    "edges"
   ]
  },
  {
   "cell_type": "markdown",
   "id": "ac4417b9",
   "metadata": {},
   "source": [
    "# Reading optimal clustering"
   ]
  },
  {
   "cell_type": "code",
   "execution_count": 11,
   "id": "0b8c698e",
   "metadata": {},
   "outputs": [],
   "source": [
    "clust=[0]*(N+1)"
   ]
  },
  {
   "cell_type": "code",
   "execution_count": 12,
   "id": "64c7d66e",
   "metadata": {},
   "outputs": [],
   "source": [
    "with open('test/'+file_best_clustering, 'r') as f:\n",
    "    \n",
    "    n,N=map(int,f.readline().split())\n",
    "    next(f)\n",
    "    \n",
    "    i=1\n",
    "    for line in f:\n",
    "        i,j=map(int,line.split())\n",
    "        \n",
    "        clust[i]=j\n",
    "        i+=1\n",
    "        \n",
    "    f.close()"
   ]
  },
  {
   "cell_type": "code",
   "execution_count": 13,
   "id": "252a1fde",
   "metadata": {},
   "outputs": [
    {
     "data": {
      "text/plain": [
       "[15, 14, 14, 12, 12, 12, 14, 13, 11, 14]"
      ]
     },
     "execution_count": 13,
     "metadata": {},
     "output_type": "execute_result"
    }
   ],
   "source": [
    "clust[1:]"
   ]
  },
  {
   "cell_type": "markdown",
   "id": "3e1c0470",
   "metadata": {},
   "source": [
    "# Reading optimal routing from prime graph"
   ]
  },
  {
   "cell_type": "code",
   "execution_count": 14,
   "id": "8295fe55",
   "metadata": {},
   "outputs": [],
   "source": [
    "prime_opt_path=[0]*(n+1)\n",
    "\n",
    "for i in range(n+1):\n",
    "    prime_opt_path[i]=[0]*(n+1)"
   ]
  },
  {
   "cell_type": "code",
   "execution_count": 15,
   "id": "062917f5",
   "metadata": {},
   "outputs": [],
   "source": [
    "with open('test/'+file_name_prime_graph_optimal_path, 'r') as f:\n",
    "    \n",
    "    n=map(int,f.readline().split())\n",
    "    next(f)\n",
    "    \n",
    "    line_cnt=0\n",
    "    for line in f:\n",
    "        line_cnt+=1 \n",
    "        \n",
    "        if line_cnt%3:\n",
    "            \n",
    "            if line_cnt%3==1:\n",
    "                #print('line',line)\n",
    "                i,j=map(int,line.split())\n",
    "            else:\n",
    "                path = list(map(int,line.split()))\n",
    "                #print('path',path)\n",
    "\n",
    "                prime_opt_path[i][j]=path\n",
    "        \n",
    "    f.close()"
   ]
  },
  {
   "cell_type": "code",
   "execution_count": 16,
   "id": "00b2ace9",
   "metadata": {},
   "outputs": [
    {
     "data": {
      "text/plain": [
       "[1, 2, 3]"
      ]
     },
     "execution_count": 16,
     "metadata": {},
     "output_type": "execute_result"
    }
   ],
   "source": [
    "prime_opt_path[1][3]"
   ]
  },
  {
   "cell_type": "markdown",
   "id": "a9f71622",
   "metadata": {},
   "source": [
    "# Network simulation"
   ]
  },
  {
   "cell_type": "code",
   "execution_count": 17,
   "id": "28473138",
   "metadata": {},
   "outputs": [],
   "source": [
    "class Packet(object):\n",
    "    \"\"\" A very simple class that represents a packet.\n",
    "        This packet will run through a queue at a switch output port.\n",
    "        We use a float to represent the size of the packet in bytes so that\n",
    "        we can compare to ideal M/M/1 queues.\n",
    "\n",
    "        Parameters\n",
    "        ----------\n",
    "        time : float\n",
    "            the time the packet arrives at the output queue.\n",
    "        size : float\n",
    "            the size of the packet in bytes\n",
    "        id : int\n",
    "            an identifier for the packet\n",
    "        src, dst : int\n",
    "            identifiers for source and destination\n",
    "        flow_id : int\n",
    "            small integer that can be used to identify a flow\n",
    "    \"\"\"\n",
    "    def __init__(self, time, size, id, src=\"a\", dst=\"z\", flow_id=0):\n",
    "        self.time = time\n",
    "        self.size = size\n",
    "        self.id = id\n",
    "        self.src = src\n",
    "        self.dst = dst\n",
    "        self.flow_id = flow_id\n",
    "\n",
    "    def __repr__(self):\n",
    "        return \"id: {}, src: {}, time: {}, size: {}\".\\\n",
    "            format(self.id, self.src, self.time, self.size)\n"
   ]
  },
  {
   "cell_type": "code",
   "execution_count": 18,
   "id": "350ee8af",
   "metadata": {},
   "outputs": [],
   "source": [
    "#packet_size=0.001"
   ]
  },
  {
   "cell_type": "code",
   "execution_count": 19,
   "id": "9b2e497d",
   "metadata": {},
   "outputs": [
    {
     "data": {
      "text/plain": [
       "'\\nclass Packet(object):\\n    \"\"\" A very simple class that represents a packet.\\n        This packet will run through a queue at a switch output port.\\n        We use a float to represent the size of the packet in bytes so that\\n        we can compare to ideal M/M/1 queues.\\n\\n        Parameters\\n        ----------\\n        time : float\\n            the time the packet arrives at the output queue.\\n        size : float\\n            the size of the packet in bytes\\n        id : int\\n            an identifier for the packet\\n        src, dst : int\\n            identifiers for source and destination\\n        flow_id : int\\n            small integer that can be used to identify a flow\\n    \"\"\"\\n    def __init__(self, path, cur_path_ind, time, size, id, src=\"a\", dst=\"z\", flow_id=0):\\n        \\n        self.path=path\\n        self.cur_path_ind=cur_path_ind\\n        \\n        self.time = time\\n        self.size = size\\n        self.id = id\\n        self.src = src\\n        self.dst = dst\\n        self.flow_id = flow_id\\n        \\n\\n    def __repr__(self):\\n        return \"id: {}, src: {}, time: {}, size: {}\".            format(self.id, self.src, self.time, self.size)\\n\\n\\n'"
      ]
     },
     "execution_count": 19,
     "metadata": {},
     "output_type": "execute_result"
    }
   ],
   "source": [
    "'''\n",
    "class Packet(object):\n",
    "    \"\"\" A very simple class that represents a packet.\n",
    "        This packet will run through a queue at a switch output port.\n",
    "        We use a float to represent the size of the packet in bytes so that\n",
    "        we can compare to ideal M/M/1 queues.\n",
    "\n",
    "        Parameters\n",
    "        ----------\n",
    "        time : float\n",
    "            the time the packet arrives at the output queue.\n",
    "        size : float\n",
    "            the size of the packet in bytes\n",
    "        id : int\n",
    "            an identifier for the packet\n",
    "        src, dst : int\n",
    "            identifiers for source and destination\n",
    "        flow_id : int\n",
    "            small integer that can be used to identify a flow\n",
    "    \"\"\"\n",
    "    def __init__(self, path, cur_path_ind, time, size, id, src=\"a\", dst=\"z\", flow_id=0):\n",
    "        \n",
    "        self.path=path\n",
    "        self.cur_path_ind=cur_path_ind\n",
    "        \n",
    "        self.time = time\n",
    "        self.size = size\n",
    "        self.id = id\n",
    "        self.src = src\n",
    "        self.dst = dst\n",
    "        self.flow_id = flow_id\n",
    "        \n",
    "\n",
    "    def __repr__(self):\n",
    "        return \"id: {}, src: {}, time: {}, size: {}\".\\\n",
    "            format(self.id, self.src, self.time, self.size)\n",
    "\n",
    "\n",
    "'''"
   ]
  },
  {
   "cell_type": "code",
   "execution_count": 20,
   "id": "38acc657",
   "metadata": {},
   "outputs": [],
   "source": [
    "class PacketGenerator(object):\n",
    "    \"\"\" Generates packets with given inter-arrival time distribution.\n",
    "        Set the \"out\" member variable to the entity to receive the packet.\n",
    "\n",
    "        Parameters\n",
    "        ----------\n",
    "        env : simpy.Environment\n",
    "            the simulation environment\n",
    "        adist : function\n",
    "            a no parameter function that returns the successive inter-arrival times of the packets\n",
    "        sdist : function\n",
    "            a no parameter function that returns the successive sizes of the packets\n",
    "        initial_delay : number\n",
    "            Starts generation after an initial delay. Default = 0\n",
    "        finish : number\n",
    "            Stops generation at the finish time. Default is infinite\n",
    "\n",
    "\n",
    "    \"\"\"\n",
    "    def __init__(self, env, id,  adist, sdist, initial_delay=0, finish=float(\"inf\"), flow_id=0):\n",
    "        self.id = id\n",
    "        self.env = env\n",
    "        self.adist = adist\n",
    "        self.sdist = sdist\n",
    "        self.initial_delay = initial_delay\n",
    "        self.finish = finish\n",
    "        self.out = None\n",
    "        self.packets_sent = 0\n",
    "        self.action = env.process(self.run())  # starts the run() method as a SimPy process\n",
    "        self.flow_id = flow_id\n",
    "\n",
    "    def run(self):\n",
    "        \"\"\"The generator function used in simulations.\n",
    "        \"\"\"\n",
    "        yield self.env.timeout(self.initial_delay)\n",
    "        while self.env.now < self.finish:\n",
    "            # wait for next transmission\n",
    "            yield self.env.timeout(self.adist())\n",
    "            self.packets_sent += 1\n",
    "            p = Packet(self.env.now, self.sdist(), self.packets_sent, src=self.id, flow_id=self.flow_id)\n",
    "            self.out.put(p)\n"
   ]
  },
  {
   "cell_type": "code",
   "execution_count": 21,
   "id": "eb3446d8",
   "metadata": {},
   "outputs": [],
   "source": [
    "class SwitchPort(object):\n",
    "    \"\"\" Models a switch output port with a given rate and buffer size limit in bytes.\n",
    "        Set the \"out\" member variable to the entity to receive the packet.\n",
    "\n",
    "        Parameters\n",
    "        ----------\n",
    "        env : simpy.Environment\n",
    "            the simulation environment\n",
    "        rate : float\n",
    "            the bit rate of the port\n",
    "        qlimit : integer (or None)\n",
    "            a buffer size limit in bytes or packets for the queue (including items\n",
    "            in service).\n",
    "        limit_bytes : If true, the queue limit will be based on bytes if false the\n",
    "            queue limit will be based on packets.\n",
    "\n",
    "    \"\"\"\n",
    "    def __init__(self, env, rate, qlimit=None, limit_bytes=True, debug=False):\n",
    "        self.store = simpy.Store(env)\n",
    "        self.rate = rate\n",
    "        self.env = env\n",
    "        self.out = None\n",
    "        self.packets_rec = 0\n",
    "        self.packets_drop = 0\n",
    "        self.qlimit = qlimit\n",
    "        self.limit_bytes = limit_bytes\n",
    "        self.byte_size = 0  # Current size of the queue in bytes\n",
    "        self.debug = debug\n",
    "        self.busy = 0  # Used to track if a packet is currently being sent\n",
    "        self.action = env.process(self.run())  # starts the run() method as a SimPy process\n",
    "\n",
    "    def run(self):\n",
    "        while True:\n",
    "            msg = (yield self.store.get())\n",
    "            self.busy = 1\n",
    "            self.byte_size -= msg.size\n",
    "            yield self.env.timeout(msg.size*8/self.rate)#(msg.size/self.rate)\n",
    "            self.out.put(msg)\n",
    "            self.busy = 0\n",
    "            if self.debug:\n",
    "                print(msg)\n",
    "\n",
    "    def put(self, pkt):\n",
    "        self.packets_rec += 1\n",
    "        tmp_byte_count = self.byte_size + pkt.size\n",
    "\n",
    "        if self.qlimit is None:\n",
    "            self.byte_size = tmp_byte_count\n",
    "            return self.store.put(pkt)\n",
    "        if self.limit_bytes and tmp_byte_count >= self.qlimit:\n",
    "            self.packets_drop += 1\n",
    "            return\n",
    "        elif not self.limit_bytes and len(self.store.items) >= self.qlimit-1:\n",
    "            self.packets_drop += 1\n",
    "        else:\n",
    "            self.byte_size = tmp_byte_count\n",
    "            return self.store.put(pkt)\n"
   ]
  },
  {
   "cell_type": "code",
   "execution_count": 22,
   "id": "f94346fc",
   "metadata": {},
   "outputs": [
    {
     "data": {
      "text/plain": [
       "'\\nclass Router(object):\\n    def __init__(self, ):\\n        \\n    def put(self, pkt):\\n        \\n'"
      ]
     },
     "execution_count": 22,
     "metadata": {},
     "output_type": "execute_result"
    }
   ],
   "source": [
    "'''\n",
    "class Router(object):\n",
    "    def __init__(self, ):\n",
    "        \n",
    "    def put(self, pkt):\n",
    "        \n",
    "'''        \n",
    "        \n",
    "    \n",
    "    "
   ]
  },
  {
   "cell_type": "code",
   "execution_count": 23,
   "id": "b85f5254",
   "metadata": {},
   "outputs": [],
   "source": [
    "class PacketSink(object):\n",
    "    \"\"\" Receives packets and collects delay information into the\n",
    "        waits list. You can then use this list to look at delay statistics.\n",
    "\n",
    "        Parameters\n",
    "        ----------\n",
    "        env : simpy.Environment\n",
    "            the simulation environment\n",
    "        debug : boolean\n",
    "            if true then the contents of each packet will be printed as it is received.\n",
    "        rec_arrivals : boolean\n",
    "            if true then arrivals will be recorded\n",
    "        absolute_arrivals : boolean\n",
    "            if true absolute arrival times will be recorded, otherwise the time between consecutive arrivals\n",
    "            is recorded.\n",
    "        rec_waits : boolean\n",
    "            if true waiting time experienced by each packet is recorded\n",
    "        selector: a function that takes a packet and returns a boolean\n",
    "            used for selective statistics. Default none.\n",
    "\n",
    "    \"\"\"\n",
    "    def __init__(self, env, rec_arrivals=False, absolute_arrivals=False, rec_waits=True, debug=False, selector=None):\n",
    "        self.store = simpy.Store(env)\n",
    "        self.env = env\n",
    "        self.rec_waits = rec_waits\n",
    "        self.rec_arrivals = rec_arrivals\n",
    "        self.absolute_arrivals = absolute_arrivals\n",
    "        self.waits = []\n",
    "        self.arrivals = []\n",
    "        self.debug = debug\n",
    "        self.packets_rec = 0\n",
    "        self.bytes_rec = 0\n",
    "        self.selector = selector\n",
    "        self.last_arrival = 0.0\n",
    "\n",
    "    def put(self, pkt):\n",
    "        #print('packet_id',pkt.id)\n",
    "        \n",
    "        if not self.selector or self.selector(pkt):\n",
    "            now = self.env.now\n",
    "            if self.rec_waits:\n",
    "                self.waits.append(self.env.now - pkt.time)\n",
    "            if self.rec_arrivals:\n",
    "                if self.absolute_arrivals:\n",
    "                    self.arrivals.append(now)\n",
    "                else:\n",
    "                    self.arrivals.append(now - self.last_arrival)\n",
    "                self.last_arrival = now\n",
    "            self.packets_rec += 1\n",
    "            self.bytes_rec += pkt.size\n",
    "            if self.debug:\n",
    "                print(pkt)"
   ]
  },
  {
   "cell_type": "code",
   "execution_count": 24,
   "id": "f6c3103e",
   "metadata": {},
   "outputs": [],
   "source": [
    "from random import expovariate\n",
    "import simpy\n",
    "\n",
    "def constArrival():  # Constant arrival distribution for generator 1\n",
    "    return 1.5\n",
    "\n",
    "def constArrival2():\n",
    "    return 2.0\n",
    "\n",
    "def distSize():\n",
    "    return expovariate(0.01)"
   ]
  },
  {
   "cell_type": "code",
   "execution_count": 29,
   "id": "d56cffe6",
   "metadata": {},
   "outputs": [],
   "source": [
    "def constArrival():\n",
    "    return 1.5    # time interval\n",
    "\n",
    "def constSize():\n",
    "    return 100.0  # bytes\n"
   ]
  },
  {
   "cell_type": "code",
   "execution_count": 31,
   "id": "3da7a2fe",
   "metadata": {},
   "outputs": [
    {
     "name": "stdout",
     "output_type": "stream",
     "text": [
      "id: 1, src: SJSU, time: 1.5, size: 100.0\n",
      "id: 2, src: SJSU, time: 3.0, size: 100.0\n",
      "id: 3, src: SJSU, time: 4.5, size: 100.0\n",
      "waits: [8.0, 10.5, 13.0]\n",
      "received: 3, dropped 6, sent 13\n"
     ]
    }
   ],
   "source": [
    "env = simpy.Environment()  # Create the SimPy environment\n",
    "ps = PacketSink(env, debug=True) # debug: every packet arrival is printed\n",
    "pg = PacketGenerator(env, \"SJSU\", constArrival, constSize)\n",
    "switch_port = SwitchPort(env, rate=200.0, qlimit=300)\n",
    "switch_port2 = SwitchPort(env, rate=200.0, qlimit=300)\n",
    "# Wire packet generators and sinks together\n",
    "pg.out = switch_port\n",
    "switch_port.out = switch_port2\n",
    "switch_port2.out = ps\n",
    "env.run(until=20)\n",
    "print(\"waits: {}\".format(ps.waits))\n",
    "print(\"received: {}, dropped {}, sent {}\".format(ps.packets_rec,\n",
    "     switch_port.packets_drop, pg.packets_sent))\n"
   ]
  },
  {
   "cell_type": "code",
   "execution_count": null,
   "id": "ba0dd9d0",
   "metadata": {
    "scrolled": true
   },
   "outputs": [],
   "source": [
    "env = simpy.Environment()  # Create the SimPy environment\n",
    "# Create the packet generators and sink\n",
    "ps = PacketSink(env, debug=True)  # debugging enable for simple output\n",
    "pg = PacketGenerator(env, \"EE283\", constArrival, distSize)\n",
    "pg2 = PacketGenerator(env, \"SJSU\", constArrival2, distSize)\n",
    "# Wire packet generators and sink together\n",
    "pg.out = ps\n",
    "pg2.out = ps\n",
    "env.run(until=20) # Run it"
   ]
  },
  {
   "cell_type": "code",
   "execution_count": null,
   "id": "08afbc3a",
   "metadata": {},
   "outputs": [],
   "source": [
    "G=[PacketGenerator(env, 'R_'+str(i), constArrival, distSize) for i in range(1,N+1)]"
   ]
  },
  {
   "cell_type": "code",
   "execution_count": null,
   "id": "43a6bea9",
   "metadata": {},
   "outputs": [],
   "source": [
    "S=[PacketSink(env, debug=True) for i in range(1,N+1)]"
   ]
  },
  {
   "cell_type": "code",
   "execution_count": null,
   "id": "ed854e09",
   "metadata": {},
   "outputs": [],
   "source": [
    "for i in range(100):\n",
    "    env.run(until=i)\n",
    "    progressbar.update(i)"
   ]
  },
  {
   "cell_type": "code",
   "execution_count": null,
   "id": "b5eaabae",
   "metadata": {},
   "outputs": [],
   "source": [
    "import simpy\n",
    "\n",
    "def example(env):\n",
    "    event = simpy.events.Timeout(env, delay=1, value=42)\n",
    "    value = yield event\n",
    "    print('now=%d, value=%d' % (env.now, value))\n",
    "\n",
    "env = simpy.Environment()\n",
    "example_gen = example(env)\n",
    "p = simpy.events.Process(env, example_gen)\n",
    "\n",
    "env.run()\n"
   ]
  },
  {
   "cell_type": "code",
   "execution_count": null,
   "id": "6433fdc3",
   "metadata": {},
   "outputs": [],
   "source": []
  }
 ],
 "metadata": {
  "kernelspec": {
   "display_name": "Python 3",
   "language": "python",
   "name": "python3"
  },
  "language_info": {
   "codemirror_mode": {
    "name": "ipython",
    "version": 3
   },
   "file_extension": ".py",
   "mimetype": "text/x-python",
   "name": "python",
   "nbconvert_exporter": "python",
   "pygments_lexer": "ipython3",
   "version": "3.7.10"
  }
 },
 "nbformat": 4,
 "nbformat_minor": 5
}
